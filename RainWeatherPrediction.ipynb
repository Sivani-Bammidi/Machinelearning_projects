{
  "nbformat": 4,
  "nbformat_minor": 0,
  "metadata": {
    "colab": {
      "provenance": []
    },
    "kernelspec": {
      "name": "python3",
      "display_name": "Python 3"
    },
    "language_info": {
      "name": "python"
    }
  },
  "cells": [
    {
      "cell_type": "markdown",
      "source": [
        "##### Importing Libraries"
      ],
      "metadata": {
        "id": "vATy1FEWOdWu"
      }
    },
    {
      "cell_type": "code",
      "execution_count": 1,
      "metadata": {
        "id": "EppavAndbob5"
      },
      "outputs": [],
      "source": [
        "import numpy as np\n",
        "import pandas as pd\n",
        "import seaborn as sns\n",
        "import matplotlib.pyplot as plt"
      ]
    },
    {
      "cell_type": "markdown",
      "source": [
        "**importing the csv file**"
      ],
      "metadata": {
        "id": "Oiq5qnY6oX5h"
      }
    },
    {
      "cell_type": "code",
      "source": [
        "df = pd.read_excel('/content/sydney_rain_prediction.xlsx',header=0)"
      ],
      "metadata": {
        "id": "ZhlI74WacomA"
      },
      "execution_count": 2,
      "outputs": []
    },
    {
      "cell_type": "code",
      "source": [
        "df"
      ],
      "metadata": {
        "colab": {
          "base_uri": "https://localhost:8080/",
          "height": 617
        },
        "id": "ljs2Aedwcxuw",
        "outputId": "91d253cb-4da3-470f-eb53-55d86d5413cc"
      },
      "execution_count": 3,
      "outputs": [
        {
          "output_type": "execute_result",
          "data": {
            "text/plain": [
              "           Date Location  MinTemp  MaxTemp  Rainfall  Evaporation  Sunshine  \\\n",
              "0    2008-02-01   Sydney     19.5     22.4      15.6          6.2       0.0   \n",
              "1    2008-02-02   Sydney     19.5     25.6       6.0          3.4       2.7   \n",
              "2    2008-02-03   Sydney     21.6     24.5       6.6          2.4       0.1   \n",
              "3    2008-02-04   Sydney     20.2     22.8      18.8          2.2       0.0   \n",
              "4    2008-02-05   Sydney     19.7     25.7      77.4          NaN       0.0   \n",
              "...         ...      ...      ...      ...       ...          ...       ...   \n",
              "3332 2017-06-21   Sydney      8.6     19.6       0.0          2.0       7.8   \n",
              "3333 2017-06-22   Sydney      9.3     19.2       0.0          2.0       9.2   \n",
              "3334 2017-06-23   Sydney      9.4     17.7       0.0          2.4       2.7   \n",
              "3335 2017-06-24   Sydney     10.1     19.3       0.0          1.4       9.3   \n",
              "3336 2017-06-25   Sydney      7.6     19.3       0.0          3.4       9.4   \n",
              "\n",
              "      Humidity9am  Humidity3pm  Pressure9am  Pressure3pm  Cloud9am  Cloud3pm  \\\n",
              "0            92.0         84.0       1017.6       1017.4       8.0       8.0   \n",
              "1            83.0         73.0       1017.9       1016.4       7.0       7.0   \n",
              "2            88.0         86.0       1016.7       1015.6       7.0       8.0   \n",
              "3            83.0         90.0       1014.2       1011.8       8.0       8.0   \n",
              "4            88.0         74.0       1008.3       1004.8       8.0       8.0   \n",
              "...           ...          ...          ...          ...       ...       ...   \n",
              "3332         73.0         52.0       1025.9       1025.3       2.0       2.0   \n",
              "3333         78.0         53.0       1028.5       1024.6       2.0       2.0   \n",
              "3334         85.0         56.0       1020.8       1015.0       6.0       6.0   \n",
              "3335         56.0         35.0       1017.3       1015.1       5.0       2.0   \n",
              "3336         73.0         32.0       1018.6       1015.4       1.0       1.0   \n",
              "\n",
              "      Temp9am  Temp3pm RainToday RainTomorrow  \n",
              "0        20.7     20.9       Yes          Yes  \n",
              "1        22.4     24.8       Yes          Yes  \n",
              "2        23.5     23.0       Yes          Yes  \n",
              "3        21.4     20.9       Yes          Yes  \n",
              "4        22.5     25.5       Yes          Yes  \n",
              "...       ...      ...       ...          ...  \n",
              "3332     10.5     17.9        No           No  \n",
              "3333     11.0     18.7        No           No  \n",
              "3334     10.2     17.3        No           No  \n",
              "3335     12.4     19.0        No           No  \n",
              "3336      9.4     18.8        No           No  \n",
              "\n",
              "[3337 rows x 17 columns]"
            ],
            "text/html": [
              "\n",
              "  <div id=\"df-03f2302c-e2ec-4ed4-9aef-3c0a09c1e227\" class=\"colab-df-container\">\n",
              "    <div>\n",
              "<style scoped>\n",
              "    .dataframe tbody tr th:only-of-type {\n",
              "        vertical-align: middle;\n",
              "    }\n",
              "\n",
              "    .dataframe tbody tr th {\n",
              "        vertical-align: top;\n",
              "    }\n",
              "\n",
              "    .dataframe thead th {\n",
              "        text-align: right;\n",
              "    }\n",
              "</style>\n",
              "<table border=\"1\" class=\"dataframe\">\n",
              "  <thead>\n",
              "    <tr style=\"text-align: right;\">\n",
              "      <th></th>\n",
              "      <th>Date</th>\n",
              "      <th>Location</th>\n",
              "      <th>MinTemp</th>\n",
              "      <th>MaxTemp</th>\n",
              "      <th>Rainfall</th>\n",
              "      <th>Evaporation</th>\n",
              "      <th>Sunshine</th>\n",
              "      <th>Humidity9am</th>\n",
              "      <th>Humidity3pm</th>\n",
              "      <th>Pressure9am</th>\n",
              "      <th>Pressure3pm</th>\n",
              "      <th>Cloud9am</th>\n",
              "      <th>Cloud3pm</th>\n",
              "      <th>Temp9am</th>\n",
              "      <th>Temp3pm</th>\n",
              "      <th>RainToday</th>\n",
              "      <th>RainTomorrow</th>\n",
              "    </tr>\n",
              "  </thead>\n",
              "  <tbody>\n",
              "    <tr>\n",
              "      <th>0</th>\n",
              "      <td>2008-02-01</td>\n",
              "      <td>Sydney</td>\n",
              "      <td>19.5</td>\n",
              "      <td>22.4</td>\n",
              "      <td>15.6</td>\n",
              "      <td>6.2</td>\n",
              "      <td>0.0</td>\n",
              "      <td>92.0</td>\n",
              "      <td>84.0</td>\n",
              "      <td>1017.6</td>\n",
              "      <td>1017.4</td>\n",
              "      <td>8.0</td>\n",
              "      <td>8.0</td>\n",
              "      <td>20.7</td>\n",
              "      <td>20.9</td>\n",
              "      <td>Yes</td>\n",
              "      <td>Yes</td>\n",
              "    </tr>\n",
              "    <tr>\n",
              "      <th>1</th>\n",
              "      <td>2008-02-02</td>\n",
              "      <td>Sydney</td>\n",
              "      <td>19.5</td>\n",
              "      <td>25.6</td>\n",
              "      <td>6.0</td>\n",
              "      <td>3.4</td>\n",
              "      <td>2.7</td>\n",
              "      <td>83.0</td>\n",
              "      <td>73.0</td>\n",
              "      <td>1017.9</td>\n",
              "      <td>1016.4</td>\n",
              "      <td>7.0</td>\n",
              "      <td>7.0</td>\n",
              "      <td>22.4</td>\n",
              "      <td>24.8</td>\n",
              "      <td>Yes</td>\n",
              "      <td>Yes</td>\n",
              "    </tr>\n",
              "    <tr>\n",
              "      <th>2</th>\n",
              "      <td>2008-02-03</td>\n",
              "      <td>Sydney</td>\n",
              "      <td>21.6</td>\n",
              "      <td>24.5</td>\n",
              "      <td>6.6</td>\n",
              "      <td>2.4</td>\n",
              "      <td>0.1</td>\n",
              "      <td>88.0</td>\n",
              "      <td>86.0</td>\n",
              "      <td>1016.7</td>\n",
              "      <td>1015.6</td>\n",
              "      <td>7.0</td>\n",
              "      <td>8.0</td>\n",
              "      <td>23.5</td>\n",
              "      <td>23.0</td>\n",
              "      <td>Yes</td>\n",
              "      <td>Yes</td>\n",
              "    </tr>\n",
              "    <tr>\n",
              "      <th>3</th>\n",
              "      <td>2008-02-04</td>\n",
              "      <td>Sydney</td>\n",
              "      <td>20.2</td>\n",
              "      <td>22.8</td>\n",
              "      <td>18.8</td>\n",
              "      <td>2.2</td>\n",
              "      <td>0.0</td>\n",
              "      <td>83.0</td>\n",
              "      <td>90.0</td>\n",
              "      <td>1014.2</td>\n",
              "      <td>1011.8</td>\n",
              "      <td>8.0</td>\n",
              "      <td>8.0</td>\n",
              "      <td>21.4</td>\n",
              "      <td>20.9</td>\n",
              "      <td>Yes</td>\n",
              "      <td>Yes</td>\n",
              "    </tr>\n",
              "    <tr>\n",
              "      <th>4</th>\n",
              "      <td>2008-02-05</td>\n",
              "      <td>Sydney</td>\n",
              "      <td>19.7</td>\n",
              "      <td>25.7</td>\n",
              "      <td>77.4</td>\n",
              "      <td>NaN</td>\n",
              "      <td>0.0</td>\n",
              "      <td>88.0</td>\n",
              "      <td>74.0</td>\n",
              "      <td>1008.3</td>\n",
              "      <td>1004.8</td>\n",
              "      <td>8.0</td>\n",
              "      <td>8.0</td>\n",
              "      <td>22.5</td>\n",
              "      <td>25.5</td>\n",
              "      <td>Yes</td>\n",
              "      <td>Yes</td>\n",
              "    </tr>\n",
              "    <tr>\n",
              "      <th>...</th>\n",
              "      <td>...</td>\n",
              "      <td>...</td>\n",
              "      <td>...</td>\n",
              "      <td>...</td>\n",
              "      <td>...</td>\n",
              "      <td>...</td>\n",
              "      <td>...</td>\n",
              "      <td>...</td>\n",
              "      <td>...</td>\n",
              "      <td>...</td>\n",
              "      <td>...</td>\n",
              "      <td>...</td>\n",
              "      <td>...</td>\n",
              "      <td>...</td>\n",
              "      <td>...</td>\n",
              "      <td>...</td>\n",
              "      <td>...</td>\n",
              "    </tr>\n",
              "    <tr>\n",
              "      <th>3332</th>\n",
              "      <td>2017-06-21</td>\n",
              "      <td>Sydney</td>\n",
              "      <td>8.6</td>\n",
              "      <td>19.6</td>\n",
              "      <td>0.0</td>\n",
              "      <td>2.0</td>\n",
              "      <td>7.8</td>\n",
              "      <td>73.0</td>\n",
              "      <td>52.0</td>\n",
              "      <td>1025.9</td>\n",
              "      <td>1025.3</td>\n",
              "      <td>2.0</td>\n",
              "      <td>2.0</td>\n",
              "      <td>10.5</td>\n",
              "      <td>17.9</td>\n",
              "      <td>No</td>\n",
              "      <td>No</td>\n",
              "    </tr>\n",
              "    <tr>\n",
              "      <th>3333</th>\n",
              "      <td>2017-06-22</td>\n",
              "      <td>Sydney</td>\n",
              "      <td>9.3</td>\n",
              "      <td>19.2</td>\n",
              "      <td>0.0</td>\n",
              "      <td>2.0</td>\n",
              "      <td>9.2</td>\n",
              "      <td>78.0</td>\n",
              "      <td>53.0</td>\n",
              "      <td>1028.5</td>\n",
              "      <td>1024.6</td>\n",
              "      <td>2.0</td>\n",
              "      <td>2.0</td>\n",
              "      <td>11.0</td>\n",
              "      <td>18.7</td>\n",
              "      <td>No</td>\n",
              "      <td>No</td>\n",
              "    </tr>\n",
              "    <tr>\n",
              "      <th>3334</th>\n",
              "      <td>2017-06-23</td>\n",
              "      <td>Sydney</td>\n",
              "      <td>9.4</td>\n",
              "      <td>17.7</td>\n",
              "      <td>0.0</td>\n",
              "      <td>2.4</td>\n",
              "      <td>2.7</td>\n",
              "      <td>85.0</td>\n",
              "      <td>56.0</td>\n",
              "      <td>1020.8</td>\n",
              "      <td>1015.0</td>\n",
              "      <td>6.0</td>\n",
              "      <td>6.0</td>\n",
              "      <td>10.2</td>\n",
              "      <td>17.3</td>\n",
              "      <td>No</td>\n",
              "      <td>No</td>\n",
              "    </tr>\n",
              "    <tr>\n",
              "      <th>3335</th>\n",
              "      <td>2017-06-24</td>\n",
              "      <td>Sydney</td>\n",
              "      <td>10.1</td>\n",
              "      <td>19.3</td>\n",
              "      <td>0.0</td>\n",
              "      <td>1.4</td>\n",
              "      <td>9.3</td>\n",
              "      <td>56.0</td>\n",
              "      <td>35.0</td>\n",
              "      <td>1017.3</td>\n",
              "      <td>1015.1</td>\n",
              "      <td>5.0</td>\n",
              "      <td>2.0</td>\n",
              "      <td>12.4</td>\n",
              "      <td>19.0</td>\n",
              "      <td>No</td>\n",
              "      <td>No</td>\n",
              "    </tr>\n",
              "    <tr>\n",
              "      <th>3336</th>\n",
              "      <td>2017-06-25</td>\n",
              "      <td>Sydney</td>\n",
              "      <td>7.6</td>\n",
              "      <td>19.3</td>\n",
              "      <td>0.0</td>\n",
              "      <td>3.4</td>\n",
              "      <td>9.4</td>\n",
              "      <td>73.0</td>\n",
              "      <td>32.0</td>\n",
              "      <td>1018.6</td>\n",
              "      <td>1015.4</td>\n",
              "      <td>1.0</td>\n",
              "      <td>1.0</td>\n",
              "      <td>9.4</td>\n",
              "      <td>18.8</td>\n",
              "      <td>No</td>\n",
              "      <td>No</td>\n",
              "    </tr>\n",
              "  </tbody>\n",
              "</table>\n",
              "<p>3337 rows × 17 columns</p>\n",
              "</div>\n",
              "    <div class=\"colab-df-buttons\">\n",
              "\n",
              "  <div class=\"colab-df-container\">\n",
              "    <button class=\"colab-df-convert\" onclick=\"convertToInteractive('df-03f2302c-e2ec-4ed4-9aef-3c0a09c1e227')\"\n",
              "            title=\"Convert this dataframe to an interactive table.\"\n",
              "            style=\"display:none;\">\n",
              "\n",
              "  <svg xmlns=\"http://www.w3.org/2000/svg\" height=\"24px\" viewBox=\"0 -960 960 960\">\n",
              "    <path d=\"M120-120v-720h720v720H120Zm60-500h600v-160H180v160Zm220 220h160v-160H400v160Zm0 220h160v-160H400v160ZM180-400h160v-160H180v160Zm440 0h160v-160H620v160ZM180-180h160v-160H180v160Zm440 0h160v-160H620v160Z\"/>\n",
              "  </svg>\n",
              "    </button>\n",
              "\n",
              "  <style>\n",
              "    .colab-df-container {\n",
              "      display:flex;\n",
              "      gap: 12px;\n",
              "    }\n",
              "\n",
              "    .colab-df-convert {\n",
              "      background-color: #E8F0FE;\n",
              "      border: none;\n",
              "      border-radius: 50%;\n",
              "      cursor: pointer;\n",
              "      display: none;\n",
              "      fill: #1967D2;\n",
              "      height: 32px;\n",
              "      padding: 0 0 0 0;\n",
              "      width: 32px;\n",
              "    }\n",
              "\n",
              "    .colab-df-convert:hover {\n",
              "      background-color: #E2EBFA;\n",
              "      box-shadow: 0px 1px 2px rgba(60, 64, 67, 0.3), 0px 1px 3px 1px rgba(60, 64, 67, 0.15);\n",
              "      fill: #174EA6;\n",
              "    }\n",
              "\n",
              "    .colab-df-buttons div {\n",
              "      margin-bottom: 4px;\n",
              "    }\n",
              "\n",
              "    [theme=dark] .colab-df-convert {\n",
              "      background-color: #3B4455;\n",
              "      fill: #D2E3FC;\n",
              "    }\n",
              "\n",
              "    [theme=dark] .colab-df-convert:hover {\n",
              "      background-color: #434B5C;\n",
              "      box-shadow: 0px 1px 3px 1px rgba(0, 0, 0, 0.15);\n",
              "      filter: drop-shadow(0px 1px 2px rgba(0, 0, 0, 0.3));\n",
              "      fill: #FFFFFF;\n",
              "    }\n",
              "  </style>\n",
              "\n",
              "    <script>\n",
              "      const buttonEl =\n",
              "        document.querySelector('#df-03f2302c-e2ec-4ed4-9aef-3c0a09c1e227 button.colab-df-convert');\n",
              "      buttonEl.style.display =\n",
              "        google.colab.kernel.accessAllowed ? 'block' : 'none';\n",
              "\n",
              "      async function convertToInteractive(key) {\n",
              "        const element = document.querySelector('#df-03f2302c-e2ec-4ed4-9aef-3c0a09c1e227');\n",
              "        const dataTable =\n",
              "          await google.colab.kernel.invokeFunction('convertToInteractive',\n",
              "                                                    [key], {});\n",
              "        if (!dataTable) return;\n",
              "\n",
              "        const docLinkHtml = 'Like what you see? Visit the ' +\n",
              "          '<a target=\"_blank\" href=https://colab.research.google.com/notebooks/data_table.ipynb>data table notebook</a>'\n",
              "          + ' to learn more about interactive tables.';\n",
              "        element.innerHTML = '';\n",
              "        dataTable['output_type'] = 'display_data';\n",
              "        await google.colab.output.renderOutput(dataTable, element);\n",
              "        const docLink = document.createElement('div');\n",
              "        docLink.innerHTML = docLinkHtml;\n",
              "        element.appendChild(docLink);\n",
              "      }\n",
              "    </script>\n",
              "  </div>\n",
              "\n",
              "\n",
              "<div id=\"df-9fc6359d-6766-4a3e-b314-dd3d9c5792d2\">\n",
              "  <button class=\"colab-df-quickchart\" onclick=\"quickchart('df-9fc6359d-6766-4a3e-b314-dd3d9c5792d2')\"\n",
              "            title=\"Suggest charts\"\n",
              "            style=\"display:none;\">\n",
              "\n",
              "<svg xmlns=\"http://www.w3.org/2000/svg\" height=\"24px\"viewBox=\"0 0 24 24\"\n",
              "     width=\"24px\">\n",
              "    <g>\n",
              "        <path d=\"M19 3H5c-1.1 0-2 .9-2 2v14c0 1.1.9 2 2 2h14c1.1 0 2-.9 2-2V5c0-1.1-.9-2-2-2zM9 17H7v-7h2v7zm4 0h-2V7h2v10zm4 0h-2v-4h2v4z\"/>\n",
              "    </g>\n",
              "</svg>\n",
              "  </button>\n",
              "\n",
              "<style>\n",
              "  .colab-df-quickchart {\n",
              "      --bg-color: #E8F0FE;\n",
              "      --fill-color: #1967D2;\n",
              "      --hover-bg-color: #E2EBFA;\n",
              "      --hover-fill-color: #174EA6;\n",
              "      --disabled-fill-color: #AAA;\n",
              "      --disabled-bg-color: #DDD;\n",
              "  }\n",
              "\n",
              "  [theme=dark] .colab-df-quickchart {\n",
              "      --bg-color: #3B4455;\n",
              "      --fill-color: #D2E3FC;\n",
              "      --hover-bg-color: #434B5C;\n",
              "      --hover-fill-color: #FFFFFF;\n",
              "      --disabled-bg-color: #3B4455;\n",
              "      --disabled-fill-color: #666;\n",
              "  }\n",
              "\n",
              "  .colab-df-quickchart {\n",
              "    background-color: var(--bg-color);\n",
              "    border: none;\n",
              "    border-radius: 50%;\n",
              "    cursor: pointer;\n",
              "    display: none;\n",
              "    fill: var(--fill-color);\n",
              "    height: 32px;\n",
              "    padding: 0;\n",
              "    width: 32px;\n",
              "  }\n",
              "\n",
              "  .colab-df-quickchart:hover {\n",
              "    background-color: var(--hover-bg-color);\n",
              "    box-shadow: 0 1px 2px rgba(60, 64, 67, 0.3), 0 1px 3px 1px rgba(60, 64, 67, 0.15);\n",
              "    fill: var(--button-hover-fill-color);\n",
              "  }\n",
              "\n",
              "  .colab-df-quickchart-complete:disabled,\n",
              "  .colab-df-quickchart-complete:disabled:hover {\n",
              "    background-color: var(--disabled-bg-color);\n",
              "    fill: var(--disabled-fill-color);\n",
              "    box-shadow: none;\n",
              "  }\n",
              "\n",
              "  .colab-df-spinner {\n",
              "    border: 2px solid var(--fill-color);\n",
              "    border-color: transparent;\n",
              "    border-bottom-color: var(--fill-color);\n",
              "    animation:\n",
              "      spin 1s steps(1) infinite;\n",
              "  }\n",
              "\n",
              "  @keyframes spin {\n",
              "    0% {\n",
              "      border-color: transparent;\n",
              "      border-bottom-color: var(--fill-color);\n",
              "      border-left-color: var(--fill-color);\n",
              "    }\n",
              "    20% {\n",
              "      border-color: transparent;\n",
              "      border-left-color: var(--fill-color);\n",
              "      border-top-color: var(--fill-color);\n",
              "    }\n",
              "    30% {\n",
              "      border-color: transparent;\n",
              "      border-left-color: var(--fill-color);\n",
              "      border-top-color: var(--fill-color);\n",
              "      border-right-color: var(--fill-color);\n",
              "    }\n",
              "    40% {\n",
              "      border-color: transparent;\n",
              "      border-right-color: var(--fill-color);\n",
              "      border-top-color: var(--fill-color);\n",
              "    }\n",
              "    60% {\n",
              "      border-color: transparent;\n",
              "      border-right-color: var(--fill-color);\n",
              "    }\n",
              "    80% {\n",
              "      border-color: transparent;\n",
              "      border-right-color: var(--fill-color);\n",
              "      border-bottom-color: var(--fill-color);\n",
              "    }\n",
              "    90% {\n",
              "      border-color: transparent;\n",
              "      border-bottom-color: var(--fill-color);\n",
              "    }\n",
              "  }\n",
              "</style>\n",
              "\n",
              "  <script>\n",
              "    async function quickchart(key) {\n",
              "      const quickchartButtonEl =\n",
              "        document.querySelector('#' + key + ' button');\n",
              "      quickchartButtonEl.disabled = true;  // To prevent multiple clicks.\n",
              "      quickchartButtonEl.classList.add('colab-df-spinner');\n",
              "      try {\n",
              "        const charts = await google.colab.kernel.invokeFunction(\n",
              "            'suggestCharts', [key], {});\n",
              "      } catch (error) {\n",
              "        console.error('Error during call to suggestCharts:', error);\n",
              "      }\n",
              "      quickchartButtonEl.classList.remove('colab-df-spinner');\n",
              "      quickchartButtonEl.classList.add('colab-df-quickchart-complete');\n",
              "    }\n",
              "    (() => {\n",
              "      let quickchartButtonEl =\n",
              "        document.querySelector('#df-9fc6359d-6766-4a3e-b314-dd3d9c5792d2 button');\n",
              "      quickchartButtonEl.style.display =\n",
              "        google.colab.kernel.accessAllowed ? 'block' : 'none';\n",
              "    })();\n",
              "  </script>\n",
              "</div>\n",
              "\n",
              "  <div id=\"id_285986c6-b4d4-4a61-84ca-0b2272e2d981\">\n",
              "    <style>\n",
              "      .colab-df-generate {\n",
              "        background-color: #E8F0FE;\n",
              "        border: none;\n",
              "        border-radius: 50%;\n",
              "        cursor: pointer;\n",
              "        display: none;\n",
              "        fill: #1967D2;\n",
              "        height: 32px;\n",
              "        padding: 0 0 0 0;\n",
              "        width: 32px;\n",
              "      }\n",
              "\n",
              "      .colab-df-generate:hover {\n",
              "        background-color: #E2EBFA;\n",
              "        box-shadow: 0px 1px 2px rgba(60, 64, 67, 0.3), 0px 1px 3px 1px rgba(60, 64, 67, 0.15);\n",
              "        fill: #174EA6;\n",
              "      }\n",
              "\n",
              "      [theme=dark] .colab-df-generate {\n",
              "        background-color: #3B4455;\n",
              "        fill: #D2E3FC;\n",
              "      }\n",
              "\n",
              "      [theme=dark] .colab-df-generate:hover {\n",
              "        background-color: #434B5C;\n",
              "        box-shadow: 0px 1px 3px 1px rgba(0, 0, 0, 0.15);\n",
              "        filter: drop-shadow(0px 1px 2px rgba(0, 0, 0, 0.3));\n",
              "        fill: #FFFFFF;\n",
              "      }\n",
              "    </style>\n",
              "    <button class=\"colab-df-generate\" onclick=\"generateWithVariable('df')\"\n",
              "            title=\"Generate code using this dataframe.\"\n",
              "            style=\"display:none;\">\n",
              "\n",
              "  <svg xmlns=\"http://www.w3.org/2000/svg\" height=\"24px\"viewBox=\"0 0 24 24\"\n",
              "       width=\"24px\">\n",
              "    <path d=\"M7,19H8.4L18.45,9,17,7.55,7,17.6ZM5,21V16.75L18.45,3.32a2,2,0,0,1,2.83,0l1.4,1.43a1.91,1.91,0,0,1,.58,1.4,1.91,1.91,0,0,1-.58,1.4L9.25,21ZM18.45,9,17,7.55Zm-12,3A5.31,5.31,0,0,0,4.9,8.1,5.31,5.31,0,0,0,1,6.5,5.31,5.31,0,0,0,4.9,4.9,5.31,5.31,0,0,0,6.5,1,5.31,5.31,0,0,0,8.1,4.9,5.31,5.31,0,0,0,12,6.5,5.46,5.46,0,0,0,6.5,12Z\"/>\n",
              "  </svg>\n",
              "    </button>\n",
              "    <script>\n",
              "      (() => {\n",
              "      const buttonEl =\n",
              "        document.querySelector('#id_285986c6-b4d4-4a61-84ca-0b2272e2d981 button.colab-df-generate');\n",
              "      buttonEl.style.display =\n",
              "        google.colab.kernel.accessAllowed ? 'block' : 'none';\n",
              "\n",
              "      buttonEl.onclick = () => {\n",
              "        google.colab.notebook.generateWithVariable('df');\n",
              "      }\n",
              "      })();\n",
              "    </script>\n",
              "  </div>\n",
              "\n",
              "    </div>\n",
              "  </div>\n"
            ],
            "application/vnd.google.colaboratory.intrinsic+json": {
              "type": "dataframe",
              "variable_name": "df",
              "summary": "{\n  \"name\": \"df\",\n  \"rows\": 3337,\n  \"fields\": [\n    {\n      \"column\": \"Date\",\n      \"properties\": {\n        \"dtype\": \"date\",\n        \"min\": \"2008-02-01 00:00:00\",\n        \"max\": \"2017-06-25 00:00:00\",\n        \"num_unique_values\": 3337,\n        \"samples\": [\n          \"2008-12-18 00:00:00\",\n          \"2016-10-27 00:00:00\",\n          \"2010-01-28 00:00:00\"\n        ],\n        \"semantic_type\": \"\",\n        \"description\": \"\"\n      }\n    },\n    {\n      \"column\": \"Location\",\n      \"properties\": {\n        \"dtype\": \"category\",\n        \"num_unique_values\": 1,\n        \"samples\": [\n          \"Sydney\"\n        ],\n        \"semantic_type\": \"\",\n        \"description\": \"\"\n      }\n    },\n    {\n      \"column\": \"MinTemp\",\n      \"properties\": {\n        \"dtype\": \"number\",\n        \"std\": 4.553641323894793,\n        \"min\": 4.3,\n        \"max\": 27.6,\n        \"num_unique_values\": 205,\n        \"samples\": [\n          19.1\n        ],\n        \"semantic_type\": \"\",\n        \"description\": \"\"\n      }\n    },\n    {\n      \"column\": \"MaxTemp\",\n      \"properties\": {\n        \"dtype\": \"number\",\n        \"std\": 4.494637935707593,\n        \"min\": 11.7,\n        \"max\": 45.8,\n        \"num_unique_values\": 249,\n        \"samples\": [\n          20.4\n        ],\n        \"semantic_type\": \"\",\n        \"description\": \"\"\n      }\n    },\n    {\n      \"column\": \"Rainfall\",\n      \"properties\": {\n        \"dtype\": \"number\",\n        \"std\": 9.895172264834624,\n        \"min\": 0.0,\n        \"max\": 119.4,\n        \"num_unique_values\": 208,\n        \"samples\": [\n          56.2\n        ],\n        \"semantic_type\": \"\",\n        \"description\": \"\"\n      }\n    },\n    {\n      \"column\": \"Evaporation\",\n      \"properties\": {\n        \"dtype\": \"number\",\n        \"std\": 2.7774067228510346,\n        \"min\": 0.0,\n        \"max\": 18.4,\n        \"num_unique_values\": 84,\n        \"samples\": [\n          18.4\n        ],\n        \"semantic_type\": \"\",\n        \"description\": \"\"\n      }\n    },\n    {\n      \"column\": \"Sunshine\",\n      \"properties\": {\n        \"dtype\": \"number\",\n        \"std\": 3.8108863204466528,\n        \"min\": 0.0,\n        \"max\": 13.6,\n        \"num_unique_values\": 137,\n        \"samples\": [\n          11.9\n        ],\n        \"semantic_type\": \"\",\n        \"description\": \"\"\n      }\n    },\n    {\n      \"column\": \"Humidity9am\",\n      \"properties\": {\n        \"dtype\": \"number\",\n        \"std\": 15.085355416966241,\n        \"min\": 19.0,\n        \"max\": 100.0,\n        \"num_unique_values\": 80,\n        \"samples\": [\n          85.0\n        ],\n        \"semantic_type\": \"\",\n        \"description\": \"\"\n      }\n    },\n    {\n      \"column\": \"Humidity3pm\",\n      \"properties\": {\n        \"dtype\": \"number\",\n        \"std\": 16.29353039103219,\n        \"min\": 10.0,\n        \"max\": 99.0,\n        \"num_unique_values\": 86,\n        \"samples\": [\n          26.0\n        ],\n        \"semantic_type\": \"\",\n        \"description\": \"\"\n      }\n    },\n    {\n      \"column\": \"Pressure9am\",\n      \"properties\": {\n        \"dtype\": \"number\",\n        \"std\": 7.021571180935679,\n        \"min\": 986.7,\n        \"max\": 1039.0,\n        \"num_unique_values\": 362,\n        \"samples\": [\n          1022.3\n        ],\n        \"semantic_type\": \"\",\n        \"description\": \"\"\n      }\n    },\n    {\n      \"column\": \"Pressure3pm\",\n      \"properties\": {\n        \"dtype\": \"number\",\n        \"std\": 7.032211041156623,\n        \"min\": 989.8,\n        \"max\": 1036.7,\n        \"num_unique_values\": 371,\n        \"samples\": [\n          1028.4\n        ],\n        \"semantic_type\": \"\",\n        \"description\": \"\"\n      }\n    },\n    {\n      \"column\": \"Cloud9am\",\n      \"properties\": {\n        \"dtype\": \"number\",\n        \"std\": 2.7495778457263813,\n        \"min\": 0.0,\n        \"max\": 9.0,\n        \"num_unique_values\": 10,\n        \"samples\": [\n          2.0\n        ],\n        \"semantic_type\": \"\",\n        \"description\": \"\"\n      }\n    },\n    {\n      \"column\": \"Cloud3pm\",\n      \"properties\": {\n        \"dtype\": \"number\",\n        \"std\": 2.641885309278621,\n        \"min\": 0.0,\n        \"max\": 8.0,\n        \"num_unique_values\": 9,\n        \"samples\": [\n          4.0\n        ],\n        \"semantic_type\": \"\",\n        \"description\": \"\"\n      }\n    },\n    {\n      \"column\": \"Temp9am\",\n      \"properties\": {\n        \"dtype\": \"number\",\n        \"std\": 4.8971768632469574,\n        \"min\": 6.4,\n        \"max\": 36.5,\n        \"num_unique_values\": 231,\n        \"samples\": [\n          7.2\n        ],\n        \"semantic_type\": \"\",\n        \"description\": \"\"\n      }\n    },\n    {\n      \"column\": \"Temp3pm\",\n      \"properties\": {\n        \"dtype\": \"number\",\n        \"std\": 4.303736848407921,\n        \"min\": 10.2,\n        \"max\": 44.7,\n        \"num_unique_values\": 242,\n        \"samples\": [\n          22.5\n        ],\n        \"semantic_type\": \"\",\n        \"description\": \"\"\n      }\n    },\n    {\n      \"column\": \"RainToday\",\n      \"properties\": {\n        \"dtype\": \"category\",\n        \"num_unique_values\": 2,\n        \"samples\": [\n          \"No\"\n        ],\n        \"semantic_type\": \"\",\n        \"description\": \"\"\n      }\n    },\n    {\n      \"column\": \"RainTomorrow\",\n      \"properties\": {\n        \"dtype\": \"category\",\n        \"num_unique_values\": 2,\n        \"samples\": [\n          \"No\"\n        ],\n        \"semantic_type\": \"\",\n        \"description\": \"\"\n      }\n    }\n  ]\n}"
            }
          },
          "metadata": {},
          "execution_count": 3
        }
      ]
    },
    {
      "cell_type": "markdown",
      "source": [
        "##### Delete columns 'Date' and 'Location' from the dataframe"
      ],
      "metadata": {
        "id": "iw8qtiMColJe"
      }
    },
    {
      "cell_type": "code",
      "source": [
        "df.drop(['Date','Location'], axis=1, inplace=True) #inplace=True is for perminant change"
      ],
      "metadata": {
        "id": "Gj1AbWPaARUr"
      },
      "execution_count": 4,
      "outputs": []
    },
    {
      "cell_type": "code",
      "source": [
        "df.head()"
      ],
      "metadata": {
        "colab": {
          "base_uri": "https://localhost:8080/",
          "height": 226
        },
        "id": "akkadS2WD6dL",
        "outputId": "fc495c80-ff74-4456-b5f7-8f6a8c622a4f"
      },
      "execution_count": 5,
      "outputs": [
        {
          "output_type": "execute_result",
          "data": {
            "text/plain": [
              "   MinTemp  MaxTemp  Rainfall  Evaporation  Sunshine  Humidity9am  \\\n",
              "0     19.5     22.4      15.6          6.2       0.0         92.0   \n",
              "1     19.5     25.6       6.0          3.4       2.7         83.0   \n",
              "2     21.6     24.5       6.6          2.4       0.1         88.0   \n",
              "3     20.2     22.8      18.8          2.2       0.0         83.0   \n",
              "4     19.7     25.7      77.4          NaN       0.0         88.0   \n",
              "\n",
              "   Humidity3pm  Pressure9am  Pressure3pm  Cloud9am  Cloud3pm  Temp9am  \\\n",
              "0         84.0       1017.6       1017.4       8.0       8.0     20.7   \n",
              "1         73.0       1017.9       1016.4       7.0       7.0     22.4   \n",
              "2         86.0       1016.7       1015.6       7.0       8.0     23.5   \n",
              "3         90.0       1014.2       1011.8       8.0       8.0     21.4   \n",
              "4         74.0       1008.3       1004.8       8.0       8.0     22.5   \n",
              "\n",
              "   Temp3pm RainToday RainTomorrow  \n",
              "0     20.9       Yes          Yes  \n",
              "1     24.8       Yes          Yes  \n",
              "2     23.0       Yes          Yes  \n",
              "3     20.9       Yes          Yes  \n",
              "4     25.5       Yes          Yes  "
            ],
            "text/html": [
              "\n",
              "  <div id=\"df-b13c0a9c-732d-4f2e-ac35-5d361a2cb080\" class=\"colab-df-container\">\n",
              "    <div>\n",
              "<style scoped>\n",
              "    .dataframe tbody tr th:only-of-type {\n",
              "        vertical-align: middle;\n",
              "    }\n",
              "\n",
              "    .dataframe tbody tr th {\n",
              "        vertical-align: top;\n",
              "    }\n",
              "\n",
              "    .dataframe thead th {\n",
              "        text-align: right;\n",
              "    }\n",
              "</style>\n",
              "<table border=\"1\" class=\"dataframe\">\n",
              "  <thead>\n",
              "    <tr style=\"text-align: right;\">\n",
              "      <th></th>\n",
              "      <th>MinTemp</th>\n",
              "      <th>MaxTemp</th>\n",
              "      <th>Rainfall</th>\n",
              "      <th>Evaporation</th>\n",
              "      <th>Sunshine</th>\n",
              "      <th>Humidity9am</th>\n",
              "      <th>Humidity3pm</th>\n",
              "      <th>Pressure9am</th>\n",
              "      <th>Pressure3pm</th>\n",
              "      <th>Cloud9am</th>\n",
              "      <th>Cloud3pm</th>\n",
              "      <th>Temp9am</th>\n",
              "      <th>Temp3pm</th>\n",
              "      <th>RainToday</th>\n",
              "      <th>RainTomorrow</th>\n",
              "    </tr>\n",
              "  </thead>\n",
              "  <tbody>\n",
              "    <tr>\n",
              "      <th>0</th>\n",
              "      <td>19.5</td>\n",
              "      <td>22.4</td>\n",
              "      <td>15.6</td>\n",
              "      <td>6.2</td>\n",
              "      <td>0.0</td>\n",
              "      <td>92.0</td>\n",
              "      <td>84.0</td>\n",
              "      <td>1017.6</td>\n",
              "      <td>1017.4</td>\n",
              "      <td>8.0</td>\n",
              "      <td>8.0</td>\n",
              "      <td>20.7</td>\n",
              "      <td>20.9</td>\n",
              "      <td>Yes</td>\n",
              "      <td>Yes</td>\n",
              "    </tr>\n",
              "    <tr>\n",
              "      <th>1</th>\n",
              "      <td>19.5</td>\n",
              "      <td>25.6</td>\n",
              "      <td>6.0</td>\n",
              "      <td>3.4</td>\n",
              "      <td>2.7</td>\n",
              "      <td>83.0</td>\n",
              "      <td>73.0</td>\n",
              "      <td>1017.9</td>\n",
              "      <td>1016.4</td>\n",
              "      <td>7.0</td>\n",
              "      <td>7.0</td>\n",
              "      <td>22.4</td>\n",
              "      <td>24.8</td>\n",
              "      <td>Yes</td>\n",
              "      <td>Yes</td>\n",
              "    </tr>\n",
              "    <tr>\n",
              "      <th>2</th>\n",
              "      <td>21.6</td>\n",
              "      <td>24.5</td>\n",
              "      <td>6.6</td>\n",
              "      <td>2.4</td>\n",
              "      <td>0.1</td>\n",
              "      <td>88.0</td>\n",
              "      <td>86.0</td>\n",
              "      <td>1016.7</td>\n",
              "      <td>1015.6</td>\n",
              "      <td>7.0</td>\n",
              "      <td>8.0</td>\n",
              "      <td>23.5</td>\n",
              "      <td>23.0</td>\n",
              "      <td>Yes</td>\n",
              "      <td>Yes</td>\n",
              "    </tr>\n",
              "    <tr>\n",
              "      <th>3</th>\n",
              "      <td>20.2</td>\n",
              "      <td>22.8</td>\n",
              "      <td>18.8</td>\n",
              "      <td>2.2</td>\n",
              "      <td>0.0</td>\n",
              "      <td>83.0</td>\n",
              "      <td>90.0</td>\n",
              "      <td>1014.2</td>\n",
              "      <td>1011.8</td>\n",
              "      <td>8.0</td>\n",
              "      <td>8.0</td>\n",
              "      <td>21.4</td>\n",
              "      <td>20.9</td>\n",
              "      <td>Yes</td>\n",
              "      <td>Yes</td>\n",
              "    </tr>\n",
              "    <tr>\n",
              "      <th>4</th>\n",
              "      <td>19.7</td>\n",
              "      <td>25.7</td>\n",
              "      <td>77.4</td>\n",
              "      <td>NaN</td>\n",
              "      <td>0.0</td>\n",
              "      <td>88.0</td>\n",
              "      <td>74.0</td>\n",
              "      <td>1008.3</td>\n",
              "      <td>1004.8</td>\n",
              "      <td>8.0</td>\n",
              "      <td>8.0</td>\n",
              "      <td>22.5</td>\n",
              "      <td>25.5</td>\n",
              "      <td>Yes</td>\n",
              "      <td>Yes</td>\n",
              "    </tr>\n",
              "  </tbody>\n",
              "</table>\n",
              "</div>\n",
              "    <div class=\"colab-df-buttons\">\n",
              "\n",
              "  <div class=\"colab-df-container\">\n",
              "    <button class=\"colab-df-convert\" onclick=\"convertToInteractive('df-b13c0a9c-732d-4f2e-ac35-5d361a2cb080')\"\n",
              "            title=\"Convert this dataframe to an interactive table.\"\n",
              "            style=\"display:none;\">\n",
              "\n",
              "  <svg xmlns=\"http://www.w3.org/2000/svg\" height=\"24px\" viewBox=\"0 -960 960 960\">\n",
              "    <path d=\"M120-120v-720h720v720H120Zm60-500h600v-160H180v160Zm220 220h160v-160H400v160Zm0 220h160v-160H400v160ZM180-400h160v-160H180v160Zm440 0h160v-160H620v160ZM180-180h160v-160H180v160Zm440 0h160v-160H620v160Z\"/>\n",
              "  </svg>\n",
              "    </button>\n",
              "\n",
              "  <style>\n",
              "    .colab-df-container {\n",
              "      display:flex;\n",
              "      gap: 12px;\n",
              "    }\n",
              "\n",
              "    .colab-df-convert {\n",
              "      background-color: #E8F0FE;\n",
              "      border: none;\n",
              "      border-radius: 50%;\n",
              "      cursor: pointer;\n",
              "      display: none;\n",
              "      fill: #1967D2;\n",
              "      height: 32px;\n",
              "      padding: 0 0 0 0;\n",
              "      width: 32px;\n",
              "    }\n",
              "\n",
              "    .colab-df-convert:hover {\n",
              "      background-color: #E2EBFA;\n",
              "      box-shadow: 0px 1px 2px rgba(60, 64, 67, 0.3), 0px 1px 3px 1px rgba(60, 64, 67, 0.15);\n",
              "      fill: #174EA6;\n",
              "    }\n",
              "\n",
              "    .colab-df-buttons div {\n",
              "      margin-bottom: 4px;\n",
              "    }\n",
              "\n",
              "    [theme=dark] .colab-df-convert {\n",
              "      background-color: #3B4455;\n",
              "      fill: #D2E3FC;\n",
              "    }\n",
              "\n",
              "    [theme=dark] .colab-df-convert:hover {\n",
              "      background-color: #434B5C;\n",
              "      box-shadow: 0px 1px 3px 1px rgba(0, 0, 0, 0.15);\n",
              "      filter: drop-shadow(0px 1px 2px rgba(0, 0, 0, 0.3));\n",
              "      fill: #FFFFFF;\n",
              "    }\n",
              "  </style>\n",
              "\n",
              "    <script>\n",
              "      const buttonEl =\n",
              "        document.querySelector('#df-b13c0a9c-732d-4f2e-ac35-5d361a2cb080 button.colab-df-convert');\n",
              "      buttonEl.style.display =\n",
              "        google.colab.kernel.accessAllowed ? 'block' : 'none';\n",
              "\n",
              "      async function convertToInteractive(key) {\n",
              "        const element = document.querySelector('#df-b13c0a9c-732d-4f2e-ac35-5d361a2cb080');\n",
              "        const dataTable =\n",
              "          await google.colab.kernel.invokeFunction('convertToInteractive',\n",
              "                                                    [key], {});\n",
              "        if (!dataTable) return;\n",
              "\n",
              "        const docLinkHtml = 'Like what you see? Visit the ' +\n",
              "          '<a target=\"_blank\" href=https://colab.research.google.com/notebooks/data_table.ipynb>data table notebook</a>'\n",
              "          + ' to learn more about interactive tables.';\n",
              "        element.innerHTML = '';\n",
              "        dataTable['output_type'] = 'display_data';\n",
              "        await google.colab.output.renderOutput(dataTable, element);\n",
              "        const docLink = document.createElement('div');\n",
              "        docLink.innerHTML = docLinkHtml;\n",
              "        element.appendChild(docLink);\n",
              "      }\n",
              "    </script>\n",
              "  </div>\n",
              "\n",
              "\n",
              "<div id=\"df-6b591c5d-c055-448e-a09d-d5507b282d91\">\n",
              "  <button class=\"colab-df-quickchart\" onclick=\"quickchart('df-6b591c5d-c055-448e-a09d-d5507b282d91')\"\n",
              "            title=\"Suggest charts\"\n",
              "            style=\"display:none;\">\n",
              "\n",
              "<svg xmlns=\"http://www.w3.org/2000/svg\" height=\"24px\"viewBox=\"0 0 24 24\"\n",
              "     width=\"24px\">\n",
              "    <g>\n",
              "        <path d=\"M19 3H5c-1.1 0-2 .9-2 2v14c0 1.1.9 2 2 2h14c1.1 0 2-.9 2-2V5c0-1.1-.9-2-2-2zM9 17H7v-7h2v7zm4 0h-2V7h2v10zm4 0h-2v-4h2v4z\"/>\n",
              "    </g>\n",
              "</svg>\n",
              "  </button>\n",
              "\n",
              "<style>\n",
              "  .colab-df-quickchart {\n",
              "      --bg-color: #E8F0FE;\n",
              "      --fill-color: #1967D2;\n",
              "      --hover-bg-color: #E2EBFA;\n",
              "      --hover-fill-color: #174EA6;\n",
              "      --disabled-fill-color: #AAA;\n",
              "      --disabled-bg-color: #DDD;\n",
              "  }\n",
              "\n",
              "  [theme=dark] .colab-df-quickchart {\n",
              "      --bg-color: #3B4455;\n",
              "      --fill-color: #D2E3FC;\n",
              "      --hover-bg-color: #434B5C;\n",
              "      --hover-fill-color: #FFFFFF;\n",
              "      --disabled-bg-color: #3B4455;\n",
              "      --disabled-fill-color: #666;\n",
              "  }\n",
              "\n",
              "  .colab-df-quickchart {\n",
              "    background-color: var(--bg-color);\n",
              "    border: none;\n",
              "    border-radius: 50%;\n",
              "    cursor: pointer;\n",
              "    display: none;\n",
              "    fill: var(--fill-color);\n",
              "    height: 32px;\n",
              "    padding: 0;\n",
              "    width: 32px;\n",
              "  }\n",
              "\n",
              "  .colab-df-quickchart:hover {\n",
              "    background-color: var(--hover-bg-color);\n",
              "    box-shadow: 0 1px 2px rgba(60, 64, 67, 0.3), 0 1px 3px 1px rgba(60, 64, 67, 0.15);\n",
              "    fill: var(--button-hover-fill-color);\n",
              "  }\n",
              "\n",
              "  .colab-df-quickchart-complete:disabled,\n",
              "  .colab-df-quickchart-complete:disabled:hover {\n",
              "    background-color: var(--disabled-bg-color);\n",
              "    fill: var(--disabled-fill-color);\n",
              "    box-shadow: none;\n",
              "  }\n",
              "\n",
              "  .colab-df-spinner {\n",
              "    border: 2px solid var(--fill-color);\n",
              "    border-color: transparent;\n",
              "    border-bottom-color: var(--fill-color);\n",
              "    animation:\n",
              "      spin 1s steps(1) infinite;\n",
              "  }\n",
              "\n",
              "  @keyframes spin {\n",
              "    0% {\n",
              "      border-color: transparent;\n",
              "      border-bottom-color: var(--fill-color);\n",
              "      border-left-color: var(--fill-color);\n",
              "    }\n",
              "    20% {\n",
              "      border-color: transparent;\n",
              "      border-left-color: var(--fill-color);\n",
              "      border-top-color: var(--fill-color);\n",
              "    }\n",
              "    30% {\n",
              "      border-color: transparent;\n",
              "      border-left-color: var(--fill-color);\n",
              "      border-top-color: var(--fill-color);\n",
              "      border-right-color: var(--fill-color);\n",
              "    }\n",
              "    40% {\n",
              "      border-color: transparent;\n",
              "      border-right-color: var(--fill-color);\n",
              "      border-top-color: var(--fill-color);\n",
              "    }\n",
              "    60% {\n",
              "      border-color: transparent;\n",
              "      border-right-color: var(--fill-color);\n",
              "    }\n",
              "    80% {\n",
              "      border-color: transparent;\n",
              "      border-right-color: var(--fill-color);\n",
              "      border-bottom-color: var(--fill-color);\n",
              "    }\n",
              "    90% {\n",
              "      border-color: transparent;\n",
              "      border-bottom-color: var(--fill-color);\n",
              "    }\n",
              "  }\n",
              "</style>\n",
              "\n",
              "  <script>\n",
              "    async function quickchart(key) {\n",
              "      const quickchartButtonEl =\n",
              "        document.querySelector('#' + key + ' button');\n",
              "      quickchartButtonEl.disabled = true;  // To prevent multiple clicks.\n",
              "      quickchartButtonEl.classList.add('colab-df-spinner');\n",
              "      try {\n",
              "        const charts = await google.colab.kernel.invokeFunction(\n",
              "            'suggestCharts', [key], {});\n",
              "      } catch (error) {\n",
              "        console.error('Error during call to suggestCharts:', error);\n",
              "      }\n",
              "      quickchartButtonEl.classList.remove('colab-df-spinner');\n",
              "      quickchartButtonEl.classList.add('colab-df-quickchart-complete');\n",
              "    }\n",
              "    (() => {\n",
              "      let quickchartButtonEl =\n",
              "        document.querySelector('#df-6b591c5d-c055-448e-a09d-d5507b282d91 button');\n",
              "      quickchartButtonEl.style.display =\n",
              "        google.colab.kernel.accessAllowed ? 'block' : 'none';\n",
              "    })();\n",
              "  </script>\n",
              "</div>\n",
              "\n",
              "    </div>\n",
              "  </div>\n"
            ],
            "application/vnd.google.colaboratory.intrinsic+json": {
              "type": "dataframe",
              "variable_name": "df",
              "summary": "{\n  \"name\": \"df\",\n  \"rows\": 3337,\n  \"fields\": [\n    {\n      \"column\": \"MinTemp\",\n      \"properties\": {\n        \"dtype\": \"number\",\n        \"std\": 4.553641323894793,\n        \"min\": 4.3,\n        \"max\": 27.6,\n        \"num_unique_values\": 205,\n        \"samples\": [\n          19.1,\n          18.4,\n          7.0\n        ],\n        \"semantic_type\": \"\",\n        \"description\": \"\"\n      }\n    },\n    {\n      \"column\": \"MaxTemp\",\n      \"properties\": {\n        \"dtype\": \"number\",\n        \"std\": 4.494637935707593,\n        \"min\": 11.7,\n        \"max\": 45.8,\n        \"num_unique_values\": 249,\n        \"samples\": [\n          20.4,\n          26.3,\n          12.7\n        ],\n        \"semantic_type\": \"\",\n        \"description\": \"\"\n      }\n    },\n    {\n      \"column\": \"Rainfall\",\n      \"properties\": {\n        \"dtype\": \"number\",\n        \"std\": 9.895172264834624,\n        \"min\": 0.0,\n        \"max\": 119.4,\n        \"num_unique_values\": 208,\n        \"samples\": [\n          56.2,\n          4.2,\n          36.8\n        ],\n        \"semantic_type\": \"\",\n        \"description\": \"\"\n      }\n    },\n    {\n      \"column\": \"Evaporation\",\n      \"properties\": {\n        \"dtype\": \"number\",\n        \"std\": 2.7774067228510346,\n        \"min\": 0.0,\n        \"max\": 18.4,\n        \"num_unique_values\": 84,\n        \"samples\": [\n          18.4,\n          6.2,\n          8.8\n        ],\n        \"semantic_type\": \"\",\n        \"description\": \"\"\n      }\n    },\n    {\n      \"column\": \"Sunshine\",\n      \"properties\": {\n        \"dtype\": \"number\",\n        \"std\": 3.8108863204466528,\n        \"min\": 0.0,\n        \"max\": 13.6,\n        \"num_unique_values\": 137,\n        \"samples\": [\n          11.9,\n          8.1,\n          8.5\n        ],\n        \"semantic_type\": \"\",\n        \"description\": \"\"\n      }\n    },\n    {\n      \"column\": \"Humidity9am\",\n      \"properties\": {\n        \"dtype\": \"number\",\n        \"std\": 15.085355416966241,\n        \"min\": 19.0,\n        \"max\": 100.0,\n        \"num_unique_values\": 80,\n        \"samples\": [\n          85.0,\n          92.0,\n          93.0\n        ],\n        \"semantic_type\": \"\",\n        \"description\": \"\"\n      }\n    },\n    {\n      \"column\": \"Humidity3pm\",\n      \"properties\": {\n        \"dtype\": \"number\",\n        \"std\": 16.29353039103219,\n        \"min\": 10.0,\n        \"max\": 99.0,\n        \"num_unique_values\": 86,\n        \"samples\": [\n          26.0,\n          84.0,\n          19.0\n        ],\n        \"semantic_type\": \"\",\n        \"description\": \"\"\n      }\n    },\n    {\n      \"column\": \"Pressure9am\",\n      \"properties\": {\n        \"dtype\": \"number\",\n        \"std\": 7.021571180935679,\n        \"min\": 986.7,\n        \"max\": 1039.0,\n        \"num_unique_values\": 362,\n        \"samples\": [\n          1022.3,\n          1023.4,\n          1021.7\n        ],\n        \"semantic_type\": \"\",\n        \"description\": \"\"\n      }\n    },\n    {\n      \"column\": \"Pressure3pm\",\n      \"properties\": {\n        \"dtype\": \"number\",\n        \"std\": 7.032211041156623,\n        \"min\": 989.8,\n        \"max\": 1036.7,\n        \"num_unique_values\": 371,\n        \"samples\": [\n          1028.4,\n          1020.7,\n          1022.6\n        ],\n        \"semantic_type\": \"\",\n        \"description\": \"\"\n      }\n    },\n    {\n      \"column\": \"Cloud9am\",\n      \"properties\": {\n        \"dtype\": \"number\",\n        \"std\": 2.7495778457263813,\n        \"min\": 0.0,\n        \"max\": 9.0,\n        \"num_unique_values\": 10,\n        \"samples\": [\n          2.0,\n          7.0,\n          1.0\n        ],\n        \"semantic_type\": \"\",\n        \"description\": \"\"\n      }\n    },\n    {\n      \"column\": \"Cloud3pm\",\n      \"properties\": {\n        \"dtype\": \"number\",\n        \"std\": 2.641885309278621,\n        \"min\": 0.0,\n        \"max\": 8.0,\n        \"num_unique_values\": 9,\n        \"samples\": [\n          4.0,\n          7.0,\n          3.0\n        ],\n        \"semantic_type\": \"\",\n        \"description\": \"\"\n      }\n    },\n    {\n      \"column\": \"Temp9am\",\n      \"properties\": {\n        \"dtype\": \"number\",\n        \"std\": 4.8971768632469574,\n        \"min\": 6.4,\n        \"max\": 36.5,\n        \"num_unique_values\": 231,\n        \"samples\": [\n          7.2,\n          14.1,\n          17.2\n        ],\n        \"semantic_type\": \"\",\n        \"description\": \"\"\n      }\n    },\n    {\n      \"column\": \"Temp3pm\",\n      \"properties\": {\n        \"dtype\": \"number\",\n        \"std\": 4.303736848407921,\n        \"min\": 10.2,\n        \"max\": 44.7,\n        \"num_unique_values\": 242,\n        \"samples\": [\n          22.5,\n          21.1,\n          28.1\n        ],\n        \"semantic_type\": \"\",\n        \"description\": \"\"\n      }\n    },\n    {\n      \"column\": \"RainToday\",\n      \"properties\": {\n        \"dtype\": \"category\",\n        \"num_unique_values\": 2,\n        \"samples\": [\n          \"No\",\n          \"Yes\"\n        ],\n        \"semantic_type\": \"\",\n        \"description\": \"\"\n      }\n    },\n    {\n      \"column\": \"RainTomorrow\",\n      \"properties\": {\n        \"dtype\": \"category\",\n        \"num_unique_values\": 2,\n        \"samples\": [\n          \"No\",\n          \"Yes\"\n        ],\n        \"semantic_type\": \"\",\n        \"description\": \"\"\n      }\n    }\n  ]\n}"
            }
          },
          "metadata": {},
          "execution_count": 5
        }
      ]
    },
    {
      "cell_type": "markdown",
      "source": [
        "**Creating dummy variable**"
      ],
      "metadata": {
        "id": "SrdOYH_gMCBT"
      }
    },
    {
      "cell_type": "code",
      "source": [
        "#Dummy Variable\n",
        "df = pd.get_dummies(df, columns = [\"RainToday\", \"RainTomorrow\"], drop_first = True,dtype=int)"
      ],
      "metadata": {
        "id": "JqKO0SiqLrzJ"
      },
      "execution_count": 6,
      "outputs": []
    },
    {
      "cell_type": "code",
      "source": [
        "df"
      ],
      "metadata": {
        "colab": {
          "base_uri": "https://localhost:8080/",
          "height": 443
        },
        "id": "FwK7suMZL4Wm",
        "outputId": "ac7112ba-7d73-4f54-afd5-5e5cabde3eca"
      },
      "execution_count": 7,
      "outputs": [
        {
          "output_type": "execute_result",
          "data": {
            "text/plain": [
              "      MinTemp  MaxTemp  Rainfall  Evaporation  Sunshine  Humidity9am  \\\n",
              "0        19.5     22.4      15.6          6.2       0.0         92.0   \n",
              "1        19.5     25.6       6.0          3.4       2.7         83.0   \n",
              "2        21.6     24.5       6.6          2.4       0.1         88.0   \n",
              "3        20.2     22.8      18.8          2.2       0.0         83.0   \n",
              "4        19.7     25.7      77.4          NaN       0.0         88.0   \n",
              "...       ...      ...       ...          ...       ...          ...   \n",
              "3332      8.6     19.6       0.0          2.0       7.8         73.0   \n",
              "3333      9.3     19.2       0.0          2.0       9.2         78.0   \n",
              "3334      9.4     17.7       0.0          2.4       2.7         85.0   \n",
              "3335     10.1     19.3       0.0          1.4       9.3         56.0   \n",
              "3336      7.6     19.3       0.0          3.4       9.4         73.0   \n",
              "\n",
              "      Humidity3pm  Pressure9am  Pressure3pm  Cloud9am  Cloud3pm  Temp9am  \\\n",
              "0            84.0       1017.6       1017.4       8.0       8.0     20.7   \n",
              "1            73.0       1017.9       1016.4       7.0       7.0     22.4   \n",
              "2            86.0       1016.7       1015.6       7.0       8.0     23.5   \n",
              "3            90.0       1014.2       1011.8       8.0       8.0     21.4   \n",
              "4            74.0       1008.3       1004.8       8.0       8.0     22.5   \n",
              "...           ...          ...          ...       ...       ...      ...   \n",
              "3332         52.0       1025.9       1025.3       2.0       2.0     10.5   \n",
              "3333         53.0       1028.5       1024.6       2.0       2.0     11.0   \n",
              "3334         56.0       1020.8       1015.0       6.0       6.0     10.2   \n",
              "3335         35.0       1017.3       1015.1       5.0       2.0     12.4   \n",
              "3336         32.0       1018.6       1015.4       1.0       1.0      9.4   \n",
              "\n",
              "      Temp3pm  RainToday_Yes  RainTomorrow_Yes  \n",
              "0        20.9              1                 1  \n",
              "1        24.8              1                 1  \n",
              "2        23.0              1                 1  \n",
              "3        20.9              1                 1  \n",
              "4        25.5              1                 1  \n",
              "...       ...            ...               ...  \n",
              "3332     17.9              0                 0  \n",
              "3333     18.7              0                 0  \n",
              "3334     17.3              0                 0  \n",
              "3335     19.0              0                 0  \n",
              "3336     18.8              0                 0  \n",
              "\n",
              "[3337 rows x 15 columns]"
            ],
            "text/html": [
              "\n",
              "  <div id=\"df-b1dca768-53d6-4b24-8e0c-b0a00bfd05c7\" class=\"colab-df-container\">\n",
              "    <div>\n",
              "<style scoped>\n",
              "    .dataframe tbody tr th:only-of-type {\n",
              "        vertical-align: middle;\n",
              "    }\n",
              "\n",
              "    .dataframe tbody tr th {\n",
              "        vertical-align: top;\n",
              "    }\n",
              "\n",
              "    .dataframe thead th {\n",
              "        text-align: right;\n",
              "    }\n",
              "</style>\n",
              "<table border=\"1\" class=\"dataframe\">\n",
              "  <thead>\n",
              "    <tr style=\"text-align: right;\">\n",
              "      <th></th>\n",
              "      <th>MinTemp</th>\n",
              "      <th>MaxTemp</th>\n",
              "      <th>Rainfall</th>\n",
              "      <th>Evaporation</th>\n",
              "      <th>Sunshine</th>\n",
              "      <th>Humidity9am</th>\n",
              "      <th>Humidity3pm</th>\n",
              "      <th>Pressure9am</th>\n",
              "      <th>Pressure3pm</th>\n",
              "      <th>Cloud9am</th>\n",
              "      <th>Cloud3pm</th>\n",
              "      <th>Temp9am</th>\n",
              "      <th>Temp3pm</th>\n",
              "      <th>RainToday_Yes</th>\n",
              "      <th>RainTomorrow_Yes</th>\n",
              "    </tr>\n",
              "  </thead>\n",
              "  <tbody>\n",
              "    <tr>\n",
              "      <th>0</th>\n",
              "      <td>19.5</td>\n",
              "      <td>22.4</td>\n",
              "      <td>15.6</td>\n",
              "      <td>6.2</td>\n",
              "      <td>0.0</td>\n",
              "      <td>92.0</td>\n",
              "      <td>84.0</td>\n",
              "      <td>1017.6</td>\n",
              "      <td>1017.4</td>\n",
              "      <td>8.0</td>\n",
              "      <td>8.0</td>\n",
              "      <td>20.7</td>\n",
              "      <td>20.9</td>\n",
              "      <td>1</td>\n",
              "      <td>1</td>\n",
              "    </tr>\n",
              "    <tr>\n",
              "      <th>1</th>\n",
              "      <td>19.5</td>\n",
              "      <td>25.6</td>\n",
              "      <td>6.0</td>\n",
              "      <td>3.4</td>\n",
              "      <td>2.7</td>\n",
              "      <td>83.0</td>\n",
              "      <td>73.0</td>\n",
              "      <td>1017.9</td>\n",
              "      <td>1016.4</td>\n",
              "      <td>7.0</td>\n",
              "      <td>7.0</td>\n",
              "      <td>22.4</td>\n",
              "      <td>24.8</td>\n",
              "      <td>1</td>\n",
              "      <td>1</td>\n",
              "    </tr>\n",
              "    <tr>\n",
              "      <th>2</th>\n",
              "      <td>21.6</td>\n",
              "      <td>24.5</td>\n",
              "      <td>6.6</td>\n",
              "      <td>2.4</td>\n",
              "      <td>0.1</td>\n",
              "      <td>88.0</td>\n",
              "      <td>86.0</td>\n",
              "      <td>1016.7</td>\n",
              "      <td>1015.6</td>\n",
              "      <td>7.0</td>\n",
              "      <td>8.0</td>\n",
              "      <td>23.5</td>\n",
              "      <td>23.0</td>\n",
              "      <td>1</td>\n",
              "      <td>1</td>\n",
              "    </tr>\n",
              "    <tr>\n",
              "      <th>3</th>\n",
              "      <td>20.2</td>\n",
              "      <td>22.8</td>\n",
              "      <td>18.8</td>\n",
              "      <td>2.2</td>\n",
              "      <td>0.0</td>\n",
              "      <td>83.0</td>\n",
              "      <td>90.0</td>\n",
              "      <td>1014.2</td>\n",
              "      <td>1011.8</td>\n",
              "      <td>8.0</td>\n",
              "      <td>8.0</td>\n",
              "      <td>21.4</td>\n",
              "      <td>20.9</td>\n",
              "      <td>1</td>\n",
              "      <td>1</td>\n",
              "    </tr>\n",
              "    <tr>\n",
              "      <th>4</th>\n",
              "      <td>19.7</td>\n",
              "      <td>25.7</td>\n",
              "      <td>77.4</td>\n",
              "      <td>NaN</td>\n",
              "      <td>0.0</td>\n",
              "      <td>88.0</td>\n",
              "      <td>74.0</td>\n",
              "      <td>1008.3</td>\n",
              "      <td>1004.8</td>\n",
              "      <td>8.0</td>\n",
              "      <td>8.0</td>\n",
              "      <td>22.5</td>\n",
              "      <td>25.5</td>\n",
              "      <td>1</td>\n",
              "      <td>1</td>\n",
              "    </tr>\n",
              "    <tr>\n",
              "      <th>...</th>\n",
              "      <td>...</td>\n",
              "      <td>...</td>\n",
              "      <td>...</td>\n",
              "      <td>...</td>\n",
              "      <td>...</td>\n",
              "      <td>...</td>\n",
              "      <td>...</td>\n",
              "      <td>...</td>\n",
              "      <td>...</td>\n",
              "      <td>...</td>\n",
              "      <td>...</td>\n",
              "      <td>...</td>\n",
              "      <td>...</td>\n",
              "      <td>...</td>\n",
              "      <td>...</td>\n",
              "    </tr>\n",
              "    <tr>\n",
              "      <th>3332</th>\n",
              "      <td>8.6</td>\n",
              "      <td>19.6</td>\n",
              "      <td>0.0</td>\n",
              "      <td>2.0</td>\n",
              "      <td>7.8</td>\n",
              "      <td>73.0</td>\n",
              "      <td>52.0</td>\n",
              "      <td>1025.9</td>\n",
              "      <td>1025.3</td>\n",
              "      <td>2.0</td>\n",
              "      <td>2.0</td>\n",
              "      <td>10.5</td>\n",
              "      <td>17.9</td>\n",
              "      <td>0</td>\n",
              "      <td>0</td>\n",
              "    </tr>\n",
              "    <tr>\n",
              "      <th>3333</th>\n",
              "      <td>9.3</td>\n",
              "      <td>19.2</td>\n",
              "      <td>0.0</td>\n",
              "      <td>2.0</td>\n",
              "      <td>9.2</td>\n",
              "      <td>78.0</td>\n",
              "      <td>53.0</td>\n",
              "      <td>1028.5</td>\n",
              "      <td>1024.6</td>\n",
              "      <td>2.0</td>\n",
              "      <td>2.0</td>\n",
              "      <td>11.0</td>\n",
              "      <td>18.7</td>\n",
              "      <td>0</td>\n",
              "      <td>0</td>\n",
              "    </tr>\n",
              "    <tr>\n",
              "      <th>3334</th>\n",
              "      <td>9.4</td>\n",
              "      <td>17.7</td>\n",
              "      <td>0.0</td>\n",
              "      <td>2.4</td>\n",
              "      <td>2.7</td>\n",
              "      <td>85.0</td>\n",
              "      <td>56.0</td>\n",
              "      <td>1020.8</td>\n",
              "      <td>1015.0</td>\n",
              "      <td>6.0</td>\n",
              "      <td>6.0</td>\n",
              "      <td>10.2</td>\n",
              "      <td>17.3</td>\n",
              "      <td>0</td>\n",
              "      <td>0</td>\n",
              "    </tr>\n",
              "    <tr>\n",
              "      <th>3335</th>\n",
              "      <td>10.1</td>\n",
              "      <td>19.3</td>\n",
              "      <td>0.0</td>\n",
              "      <td>1.4</td>\n",
              "      <td>9.3</td>\n",
              "      <td>56.0</td>\n",
              "      <td>35.0</td>\n",
              "      <td>1017.3</td>\n",
              "      <td>1015.1</td>\n",
              "      <td>5.0</td>\n",
              "      <td>2.0</td>\n",
              "      <td>12.4</td>\n",
              "      <td>19.0</td>\n",
              "      <td>0</td>\n",
              "      <td>0</td>\n",
              "    </tr>\n",
              "    <tr>\n",
              "      <th>3336</th>\n",
              "      <td>7.6</td>\n",
              "      <td>19.3</td>\n",
              "      <td>0.0</td>\n",
              "      <td>3.4</td>\n",
              "      <td>9.4</td>\n",
              "      <td>73.0</td>\n",
              "      <td>32.0</td>\n",
              "      <td>1018.6</td>\n",
              "      <td>1015.4</td>\n",
              "      <td>1.0</td>\n",
              "      <td>1.0</td>\n",
              "      <td>9.4</td>\n",
              "      <td>18.8</td>\n",
              "      <td>0</td>\n",
              "      <td>0</td>\n",
              "    </tr>\n",
              "  </tbody>\n",
              "</table>\n",
              "<p>3337 rows × 15 columns</p>\n",
              "</div>\n",
              "    <div class=\"colab-df-buttons\">\n",
              "\n",
              "  <div class=\"colab-df-container\">\n",
              "    <button class=\"colab-df-convert\" onclick=\"convertToInteractive('df-b1dca768-53d6-4b24-8e0c-b0a00bfd05c7')\"\n",
              "            title=\"Convert this dataframe to an interactive table.\"\n",
              "            style=\"display:none;\">\n",
              "\n",
              "  <svg xmlns=\"http://www.w3.org/2000/svg\" height=\"24px\" viewBox=\"0 -960 960 960\">\n",
              "    <path d=\"M120-120v-720h720v720H120Zm60-500h600v-160H180v160Zm220 220h160v-160H400v160Zm0 220h160v-160H400v160ZM180-400h160v-160H180v160Zm440 0h160v-160H620v160ZM180-180h160v-160H180v160Zm440 0h160v-160H620v160Z\"/>\n",
              "  </svg>\n",
              "    </button>\n",
              "\n",
              "  <style>\n",
              "    .colab-df-container {\n",
              "      display:flex;\n",
              "      gap: 12px;\n",
              "    }\n",
              "\n",
              "    .colab-df-convert {\n",
              "      background-color: #E8F0FE;\n",
              "      border: none;\n",
              "      border-radius: 50%;\n",
              "      cursor: pointer;\n",
              "      display: none;\n",
              "      fill: #1967D2;\n",
              "      height: 32px;\n",
              "      padding: 0 0 0 0;\n",
              "      width: 32px;\n",
              "    }\n",
              "\n",
              "    .colab-df-convert:hover {\n",
              "      background-color: #E2EBFA;\n",
              "      box-shadow: 0px 1px 2px rgba(60, 64, 67, 0.3), 0px 1px 3px 1px rgba(60, 64, 67, 0.15);\n",
              "      fill: #174EA6;\n",
              "    }\n",
              "\n",
              "    .colab-df-buttons div {\n",
              "      margin-bottom: 4px;\n",
              "    }\n",
              "\n",
              "    [theme=dark] .colab-df-convert {\n",
              "      background-color: #3B4455;\n",
              "      fill: #D2E3FC;\n",
              "    }\n",
              "\n",
              "    [theme=dark] .colab-df-convert:hover {\n",
              "      background-color: #434B5C;\n",
              "      box-shadow: 0px 1px 3px 1px rgba(0, 0, 0, 0.15);\n",
              "      filter: drop-shadow(0px 1px 2px rgba(0, 0, 0, 0.3));\n",
              "      fill: #FFFFFF;\n",
              "    }\n",
              "  </style>\n",
              "\n",
              "    <script>\n",
              "      const buttonEl =\n",
              "        document.querySelector('#df-b1dca768-53d6-4b24-8e0c-b0a00bfd05c7 button.colab-df-convert');\n",
              "      buttonEl.style.display =\n",
              "        google.colab.kernel.accessAllowed ? 'block' : 'none';\n",
              "\n",
              "      async function convertToInteractive(key) {\n",
              "        const element = document.querySelector('#df-b1dca768-53d6-4b24-8e0c-b0a00bfd05c7');\n",
              "        const dataTable =\n",
              "          await google.colab.kernel.invokeFunction('convertToInteractive',\n",
              "                                                    [key], {});\n",
              "        if (!dataTable) return;\n",
              "\n",
              "        const docLinkHtml = 'Like what you see? Visit the ' +\n",
              "          '<a target=\"_blank\" href=https://colab.research.google.com/notebooks/data_table.ipynb>data table notebook</a>'\n",
              "          + ' to learn more about interactive tables.';\n",
              "        element.innerHTML = '';\n",
              "        dataTable['output_type'] = 'display_data';\n",
              "        await google.colab.output.renderOutput(dataTable, element);\n",
              "        const docLink = document.createElement('div');\n",
              "        docLink.innerHTML = docLinkHtml;\n",
              "        element.appendChild(docLink);\n",
              "      }\n",
              "    </script>\n",
              "  </div>\n",
              "\n",
              "\n",
              "<div id=\"df-f38418fd-1e4b-4c36-b886-679ef76d6d4b\">\n",
              "  <button class=\"colab-df-quickchart\" onclick=\"quickchart('df-f38418fd-1e4b-4c36-b886-679ef76d6d4b')\"\n",
              "            title=\"Suggest charts\"\n",
              "            style=\"display:none;\">\n",
              "\n",
              "<svg xmlns=\"http://www.w3.org/2000/svg\" height=\"24px\"viewBox=\"0 0 24 24\"\n",
              "     width=\"24px\">\n",
              "    <g>\n",
              "        <path d=\"M19 3H5c-1.1 0-2 .9-2 2v14c0 1.1.9 2 2 2h14c1.1 0 2-.9 2-2V5c0-1.1-.9-2-2-2zM9 17H7v-7h2v7zm4 0h-2V7h2v10zm4 0h-2v-4h2v4z\"/>\n",
              "    </g>\n",
              "</svg>\n",
              "  </button>\n",
              "\n",
              "<style>\n",
              "  .colab-df-quickchart {\n",
              "      --bg-color: #E8F0FE;\n",
              "      --fill-color: #1967D2;\n",
              "      --hover-bg-color: #E2EBFA;\n",
              "      --hover-fill-color: #174EA6;\n",
              "      --disabled-fill-color: #AAA;\n",
              "      --disabled-bg-color: #DDD;\n",
              "  }\n",
              "\n",
              "  [theme=dark] .colab-df-quickchart {\n",
              "      --bg-color: #3B4455;\n",
              "      --fill-color: #D2E3FC;\n",
              "      --hover-bg-color: #434B5C;\n",
              "      --hover-fill-color: #FFFFFF;\n",
              "      --disabled-bg-color: #3B4455;\n",
              "      --disabled-fill-color: #666;\n",
              "  }\n",
              "\n",
              "  .colab-df-quickchart {\n",
              "    background-color: var(--bg-color);\n",
              "    border: none;\n",
              "    border-radius: 50%;\n",
              "    cursor: pointer;\n",
              "    display: none;\n",
              "    fill: var(--fill-color);\n",
              "    height: 32px;\n",
              "    padding: 0;\n",
              "    width: 32px;\n",
              "  }\n",
              "\n",
              "  .colab-df-quickchart:hover {\n",
              "    background-color: var(--hover-bg-color);\n",
              "    box-shadow: 0 1px 2px rgba(60, 64, 67, 0.3), 0 1px 3px 1px rgba(60, 64, 67, 0.15);\n",
              "    fill: var(--button-hover-fill-color);\n",
              "  }\n",
              "\n",
              "  .colab-df-quickchart-complete:disabled,\n",
              "  .colab-df-quickchart-complete:disabled:hover {\n",
              "    background-color: var(--disabled-bg-color);\n",
              "    fill: var(--disabled-fill-color);\n",
              "    box-shadow: none;\n",
              "  }\n",
              "\n",
              "  .colab-df-spinner {\n",
              "    border: 2px solid var(--fill-color);\n",
              "    border-color: transparent;\n",
              "    border-bottom-color: var(--fill-color);\n",
              "    animation:\n",
              "      spin 1s steps(1) infinite;\n",
              "  }\n",
              "\n",
              "  @keyframes spin {\n",
              "    0% {\n",
              "      border-color: transparent;\n",
              "      border-bottom-color: var(--fill-color);\n",
              "      border-left-color: var(--fill-color);\n",
              "    }\n",
              "    20% {\n",
              "      border-color: transparent;\n",
              "      border-left-color: var(--fill-color);\n",
              "      border-top-color: var(--fill-color);\n",
              "    }\n",
              "    30% {\n",
              "      border-color: transparent;\n",
              "      border-left-color: var(--fill-color);\n",
              "      border-top-color: var(--fill-color);\n",
              "      border-right-color: var(--fill-color);\n",
              "    }\n",
              "    40% {\n",
              "      border-color: transparent;\n",
              "      border-right-color: var(--fill-color);\n",
              "      border-top-color: var(--fill-color);\n",
              "    }\n",
              "    60% {\n",
              "      border-color: transparent;\n",
              "      border-right-color: var(--fill-color);\n",
              "    }\n",
              "    80% {\n",
              "      border-color: transparent;\n",
              "      border-right-color: var(--fill-color);\n",
              "      border-bottom-color: var(--fill-color);\n",
              "    }\n",
              "    90% {\n",
              "      border-color: transparent;\n",
              "      border-bottom-color: var(--fill-color);\n",
              "    }\n",
              "  }\n",
              "</style>\n",
              "\n",
              "  <script>\n",
              "    async function quickchart(key) {\n",
              "      const quickchartButtonEl =\n",
              "        document.querySelector('#' + key + ' button');\n",
              "      quickchartButtonEl.disabled = true;  // To prevent multiple clicks.\n",
              "      quickchartButtonEl.classList.add('colab-df-spinner');\n",
              "      try {\n",
              "        const charts = await google.colab.kernel.invokeFunction(\n",
              "            'suggestCharts', [key], {});\n",
              "      } catch (error) {\n",
              "        console.error('Error during call to suggestCharts:', error);\n",
              "      }\n",
              "      quickchartButtonEl.classList.remove('colab-df-spinner');\n",
              "      quickchartButtonEl.classList.add('colab-df-quickchart-complete');\n",
              "    }\n",
              "    (() => {\n",
              "      let quickchartButtonEl =\n",
              "        document.querySelector('#df-f38418fd-1e4b-4c36-b886-679ef76d6d4b button');\n",
              "      quickchartButtonEl.style.display =\n",
              "        google.colab.kernel.accessAllowed ? 'block' : 'none';\n",
              "    })();\n",
              "  </script>\n",
              "</div>\n",
              "\n",
              "  <div id=\"id_771e1391-23ac-4c32-be0f-f30ad6d74c89\">\n",
              "    <style>\n",
              "      .colab-df-generate {\n",
              "        background-color: #E8F0FE;\n",
              "        border: none;\n",
              "        border-radius: 50%;\n",
              "        cursor: pointer;\n",
              "        display: none;\n",
              "        fill: #1967D2;\n",
              "        height: 32px;\n",
              "        padding: 0 0 0 0;\n",
              "        width: 32px;\n",
              "      }\n",
              "\n",
              "      .colab-df-generate:hover {\n",
              "        background-color: #E2EBFA;\n",
              "        box-shadow: 0px 1px 2px rgba(60, 64, 67, 0.3), 0px 1px 3px 1px rgba(60, 64, 67, 0.15);\n",
              "        fill: #174EA6;\n",
              "      }\n",
              "\n",
              "      [theme=dark] .colab-df-generate {\n",
              "        background-color: #3B4455;\n",
              "        fill: #D2E3FC;\n",
              "      }\n",
              "\n",
              "      [theme=dark] .colab-df-generate:hover {\n",
              "        background-color: #434B5C;\n",
              "        box-shadow: 0px 1px 3px 1px rgba(0, 0, 0, 0.15);\n",
              "        filter: drop-shadow(0px 1px 2px rgba(0, 0, 0, 0.3));\n",
              "        fill: #FFFFFF;\n",
              "      }\n",
              "    </style>\n",
              "    <button class=\"colab-df-generate\" onclick=\"generateWithVariable('df')\"\n",
              "            title=\"Generate code using this dataframe.\"\n",
              "            style=\"display:none;\">\n",
              "\n",
              "  <svg xmlns=\"http://www.w3.org/2000/svg\" height=\"24px\"viewBox=\"0 0 24 24\"\n",
              "       width=\"24px\">\n",
              "    <path d=\"M7,19H8.4L18.45,9,17,7.55,7,17.6ZM5,21V16.75L18.45,3.32a2,2,0,0,1,2.83,0l1.4,1.43a1.91,1.91,0,0,1,.58,1.4,1.91,1.91,0,0,1-.58,1.4L9.25,21ZM18.45,9,17,7.55Zm-12,3A5.31,5.31,0,0,0,4.9,8.1,5.31,5.31,0,0,0,1,6.5,5.31,5.31,0,0,0,4.9,4.9,5.31,5.31,0,0,0,6.5,1,5.31,5.31,0,0,0,8.1,4.9,5.31,5.31,0,0,0,12,6.5,5.46,5.46,0,0,0,6.5,12Z\"/>\n",
              "  </svg>\n",
              "    </button>\n",
              "    <script>\n",
              "      (() => {\n",
              "      const buttonEl =\n",
              "        document.querySelector('#id_771e1391-23ac-4c32-be0f-f30ad6d74c89 button.colab-df-generate');\n",
              "      buttonEl.style.display =\n",
              "        google.colab.kernel.accessAllowed ? 'block' : 'none';\n",
              "\n",
              "      buttonEl.onclick = () => {\n",
              "        google.colab.notebook.generateWithVariable('df');\n",
              "      }\n",
              "      })();\n",
              "    </script>\n",
              "  </div>\n",
              "\n",
              "    </div>\n",
              "  </div>\n"
            ],
            "application/vnd.google.colaboratory.intrinsic+json": {
              "type": "dataframe",
              "variable_name": "df",
              "summary": "{\n  \"name\": \"df\",\n  \"rows\": 3337,\n  \"fields\": [\n    {\n      \"column\": \"MinTemp\",\n      \"properties\": {\n        \"dtype\": \"number\",\n        \"std\": 4.553641323894793,\n        \"min\": 4.3,\n        \"max\": 27.6,\n        \"num_unique_values\": 205,\n        \"samples\": [\n          19.1,\n          18.4,\n          7.0\n        ],\n        \"semantic_type\": \"\",\n        \"description\": \"\"\n      }\n    },\n    {\n      \"column\": \"MaxTemp\",\n      \"properties\": {\n        \"dtype\": \"number\",\n        \"std\": 4.494637935707593,\n        \"min\": 11.7,\n        \"max\": 45.8,\n        \"num_unique_values\": 249,\n        \"samples\": [\n          20.4,\n          26.3,\n          12.7\n        ],\n        \"semantic_type\": \"\",\n        \"description\": \"\"\n      }\n    },\n    {\n      \"column\": \"Rainfall\",\n      \"properties\": {\n        \"dtype\": \"number\",\n        \"std\": 9.895172264834624,\n        \"min\": 0.0,\n        \"max\": 119.4,\n        \"num_unique_values\": 208,\n        \"samples\": [\n          56.2,\n          4.2,\n          36.8\n        ],\n        \"semantic_type\": \"\",\n        \"description\": \"\"\n      }\n    },\n    {\n      \"column\": \"Evaporation\",\n      \"properties\": {\n        \"dtype\": \"number\",\n        \"std\": 2.7774067228510346,\n        \"min\": 0.0,\n        \"max\": 18.4,\n        \"num_unique_values\": 84,\n        \"samples\": [\n          18.4,\n          6.2,\n          8.8\n        ],\n        \"semantic_type\": \"\",\n        \"description\": \"\"\n      }\n    },\n    {\n      \"column\": \"Sunshine\",\n      \"properties\": {\n        \"dtype\": \"number\",\n        \"std\": 3.8108863204466528,\n        \"min\": 0.0,\n        \"max\": 13.6,\n        \"num_unique_values\": 137,\n        \"samples\": [\n          11.9,\n          8.1,\n          8.5\n        ],\n        \"semantic_type\": \"\",\n        \"description\": \"\"\n      }\n    },\n    {\n      \"column\": \"Humidity9am\",\n      \"properties\": {\n        \"dtype\": \"number\",\n        \"std\": 15.085355416966241,\n        \"min\": 19.0,\n        \"max\": 100.0,\n        \"num_unique_values\": 80,\n        \"samples\": [\n          85.0,\n          92.0,\n          93.0\n        ],\n        \"semantic_type\": \"\",\n        \"description\": \"\"\n      }\n    },\n    {\n      \"column\": \"Humidity3pm\",\n      \"properties\": {\n        \"dtype\": \"number\",\n        \"std\": 16.29353039103219,\n        \"min\": 10.0,\n        \"max\": 99.0,\n        \"num_unique_values\": 86,\n        \"samples\": [\n          26.0,\n          84.0,\n          19.0\n        ],\n        \"semantic_type\": \"\",\n        \"description\": \"\"\n      }\n    },\n    {\n      \"column\": \"Pressure9am\",\n      \"properties\": {\n        \"dtype\": \"number\",\n        \"std\": 7.021571180935679,\n        \"min\": 986.7,\n        \"max\": 1039.0,\n        \"num_unique_values\": 362,\n        \"samples\": [\n          1022.3,\n          1023.4,\n          1021.7\n        ],\n        \"semantic_type\": \"\",\n        \"description\": \"\"\n      }\n    },\n    {\n      \"column\": \"Pressure3pm\",\n      \"properties\": {\n        \"dtype\": \"number\",\n        \"std\": 7.032211041156623,\n        \"min\": 989.8,\n        \"max\": 1036.7,\n        \"num_unique_values\": 371,\n        \"samples\": [\n          1028.4,\n          1020.7,\n          1022.6\n        ],\n        \"semantic_type\": \"\",\n        \"description\": \"\"\n      }\n    },\n    {\n      \"column\": \"Cloud9am\",\n      \"properties\": {\n        \"dtype\": \"number\",\n        \"std\": 2.7495778457263813,\n        \"min\": 0.0,\n        \"max\": 9.0,\n        \"num_unique_values\": 10,\n        \"samples\": [\n          2.0,\n          7.0,\n          1.0\n        ],\n        \"semantic_type\": \"\",\n        \"description\": \"\"\n      }\n    },\n    {\n      \"column\": \"Cloud3pm\",\n      \"properties\": {\n        \"dtype\": \"number\",\n        \"std\": 2.641885309278621,\n        \"min\": 0.0,\n        \"max\": 8.0,\n        \"num_unique_values\": 9,\n        \"samples\": [\n          4.0,\n          7.0,\n          3.0\n        ],\n        \"semantic_type\": \"\",\n        \"description\": \"\"\n      }\n    },\n    {\n      \"column\": \"Temp9am\",\n      \"properties\": {\n        \"dtype\": \"number\",\n        \"std\": 4.8971768632469574,\n        \"min\": 6.4,\n        \"max\": 36.5,\n        \"num_unique_values\": 231,\n        \"samples\": [\n          7.2,\n          14.1,\n          17.2\n        ],\n        \"semantic_type\": \"\",\n        \"description\": \"\"\n      }\n    },\n    {\n      \"column\": \"Temp3pm\",\n      \"properties\": {\n        \"dtype\": \"number\",\n        \"std\": 4.303736848407921,\n        \"min\": 10.2,\n        \"max\": 44.7,\n        \"num_unique_values\": 242,\n        \"samples\": [\n          22.5,\n          21.1,\n          28.1\n        ],\n        \"semantic_type\": \"\",\n        \"description\": \"\"\n      }\n    },\n    {\n      \"column\": \"RainToday_Yes\",\n      \"properties\": {\n        \"dtype\": \"number\",\n        \"std\": 0,\n        \"min\": 0,\n        \"max\": 1,\n        \"num_unique_values\": 2,\n        \"samples\": [\n          0,\n          1\n        ],\n        \"semantic_type\": \"\",\n        \"description\": \"\"\n      }\n    },\n    {\n      \"column\": \"RainTomorrow_Yes\",\n      \"properties\": {\n        \"dtype\": \"number\",\n        \"std\": 0,\n        \"min\": 0,\n        \"max\": 1,\n        \"num_unique_values\": 2,\n        \"samples\": [\n          0,\n          1\n        ],\n        \"semantic_type\": \"\",\n        \"description\": \"\"\n      }\n    }\n  ]\n}"
            }
          },
          "metadata": {},
          "execution_count": 7
        }
      ]
    },
    {
      "cell_type": "markdown",
      "source": [
        "#####Finding the null value columns"
      ],
      "metadata": {
        "id": "c1MqCnNOEhYZ"
      }
    },
    {
      "cell_type": "code",
      "source": [
        "df.info()"
      ],
      "metadata": {
        "colab": {
          "base_uri": "https://localhost:8080/"
        },
        "id": "TQzzB-3tD-Fx",
        "outputId": "68ff67ad-f4a1-46bb-f18d-8b526c9e2598"
      },
      "execution_count": 8,
      "outputs": [
        {
          "output_type": "stream",
          "name": "stdout",
          "text": [
            "<class 'pandas.core.frame.DataFrame'>\n",
            "RangeIndex: 3337 entries, 0 to 3336\n",
            "Data columns (total 15 columns):\n",
            " #   Column            Non-Null Count  Dtype  \n",
            "---  ------            --------------  -----  \n",
            " 0   MinTemp           3334 non-null   float64\n",
            " 1   MaxTemp           3335 non-null   float64\n",
            " 2   Rainfall          3331 non-null   float64\n",
            " 3   Evaporation       3286 non-null   float64\n",
            " 4   Sunshine          3321 non-null   float64\n",
            " 5   Humidity9am       3323 non-null   float64\n",
            " 6   Humidity3pm       3324 non-null   float64\n",
            " 7   Pressure9am       3317 non-null   float64\n",
            " 8   Pressure3pm       3318 non-null   float64\n",
            " 9   Cloud9am          2771 non-null   float64\n",
            " 10  Cloud3pm          2776 non-null   float64\n",
            " 11  Temp9am           3333 non-null   float64\n",
            " 12  Temp3pm           3333 non-null   float64\n",
            " 13  RainToday_Yes     3337 non-null   int64  \n",
            " 14  RainTomorrow_Yes  3337 non-null   int64  \n",
            "dtypes: float64(13), int64(2)\n",
            "memory usage: 391.2 KB\n"
          ]
        }
      ]
    },
    {
      "cell_type": "markdown",
      "source": [
        "###### Replacing Null values with mean"
      ],
      "metadata": {
        "id": "MB2uiZ06MhTj"
      }
    },
    {
      "cell_type": "code",
      "source": [
        "df['MinTemp'] = df['MinTemp'].fillna(df['MinTemp'].mean())\n",
        "df['MaxTemp'] =df['MaxTemp'].fillna(df['MaxTemp'].mean())\n",
        "df['Rainfall'] = df['Rainfall'].fillna(df['Rainfall'].mean())\n",
        "df['Evaporation'] = df['Evaporation'].fillna(df['Evaporation'].mean())\n",
        "df['Sunshine'] = df['Sunshine'].fillna(df['Sunshine'].mean())\n",
        "df['Humidity9am'] = df['Humidity9am'].fillna(df['Humidity9am'].mean())\n",
        "df['Humidity3pm'] = df['Humidity3pm'].fillna(df['Humidity3pm'].mean())\n",
        "df['Pressure9am'] = df['Pressure9am'].fillna(df['Pressure9am'].mean())\n",
        "df['Pressure3pm'] = df['Pressure3pm'].fillna(df['Pressure3pm'].mean())\n",
        "df['Cloud9am'] = df['Cloud9am'].fillna(df['Cloud9am'].mean())\n",
        "df['Cloud3pm'] = df['Cloud3pm'].fillna(df['Cloud3pm'].mean())\n",
        "df['Temp9am'] = df['Temp9am'].fillna(df['Temp9am'].mean())\n",
        "df['Temp3pm'] = df['Temp3pm'].fillna(df['Temp3pm'].mean())\n"
      ],
      "metadata": {
        "id": "gGlk71-WEFYb"
      },
      "execution_count": 9,
      "outputs": []
    },
    {
      "cell_type": "code",
      "source": [
        "#To the index dtype, column names, non-null counts, and dtypes of each column.\n",
        "df.info()"
      ],
      "metadata": {
        "colab": {
          "base_uri": "https://localhost:8080/"
        },
        "id": "No8Zk6oBNv1c",
        "outputId": "4a856ba9-8ec5-4040-fcf2-655c89335cbb"
      },
      "execution_count": 10,
      "outputs": [
        {
          "output_type": "stream",
          "name": "stdout",
          "text": [
            "<class 'pandas.core.frame.DataFrame'>\n",
            "RangeIndex: 3337 entries, 0 to 3336\n",
            "Data columns (total 15 columns):\n",
            " #   Column            Non-Null Count  Dtype  \n",
            "---  ------            --------------  -----  \n",
            " 0   MinTemp           3337 non-null   float64\n",
            " 1   MaxTemp           3337 non-null   float64\n",
            " 2   Rainfall          3337 non-null   float64\n",
            " 3   Evaporation       3337 non-null   float64\n",
            " 4   Sunshine          3337 non-null   float64\n",
            " 5   Humidity9am       3337 non-null   float64\n",
            " 6   Humidity3pm       3337 non-null   float64\n",
            " 7   Pressure9am       3337 non-null   float64\n",
            " 8   Pressure3pm       3337 non-null   float64\n",
            " 9   Cloud9am          3337 non-null   float64\n",
            " 10  Cloud3pm          3337 non-null   float64\n",
            " 11  Temp9am           3337 non-null   float64\n",
            " 12  Temp3pm           3337 non-null   float64\n",
            " 13  RainToday_Yes     3337 non-null   int64  \n",
            " 14  RainTomorrow_Yes  3337 non-null   int64  \n",
            "dtypes: float64(13), int64(2)\n",
            "memory usage: 391.2 KB\n"
          ]
        }
      ]
    },
    {
      "cell_type": "code",
      "source": [
        "# summary of statistics for the numerical columns in a DataFrame\n",
        "df.describe()"
      ],
      "metadata": {
        "colab": {
          "base_uri": "https://localhost:8080/",
          "height": 320
        },
        "id": "5ze2D1q0Qlsq",
        "outputId": "6d00ae29-909c-4d60-f758-3366533f402e"
      },
      "execution_count": 11,
      "outputs": [
        {
          "output_type": "execute_result",
          "data": {
            "text/plain": [
              "           MinTemp      MaxTemp     Rainfall  Evaporation     Sunshine  \\\n",
              "count  3337.000000  3337.000000  3337.000000  3337.000000  3337.000000   \n",
              "mean     14.865057    23.002339     3.330231     5.187432     7.179374   \n",
              "std       4.551593     4.493290     9.886270     2.756095     3.801737   \n",
              "min       4.300000    11.700000     0.000000     0.000000     0.000000   \n",
              "25%      11.000000    19.600000     0.000000     3.200000     4.300000   \n",
              "50%      14.900000    22.800000     0.000000     4.800000     8.200000   \n",
              "75%      18.700000    26.000000     1.400000     7.000000    10.200000   \n",
              "max      27.600000    45.800000   119.400000    18.400000    13.600000   \n",
              "\n",
              "       Humidity9am  Humidity3pm  Pressure9am  Pressure3pm     Cloud9am  \\\n",
              "count  3337.000000  3337.000000  3337.000000  3337.000000  3337.000000   \n",
              "mean     68.229010    54.699158  1018.346156  1016.018774     4.181523   \n",
              "std      15.053668    16.261752     7.000492     7.012157     2.505491   \n",
              "min      19.000000    10.000000   986.700000   989.800000     0.000000   \n",
              "25%      58.000000    44.000000  1013.800000  1011.300000     2.000000   \n",
              "50%      69.000000    56.000000  1018.500000  1016.300000     4.181523   \n",
              "75%      80.000000    64.000000  1023.100000  1020.800000     7.000000   \n",
              "max     100.000000    99.000000  1039.000000  1036.700000     9.000000   \n",
              "\n",
              "          Cloud3pm      Temp9am      Temp3pm  RainToday_Yes  RainTomorrow_Yes  \n",
              "count  3337.000000  3337.000000  3337.000000    3337.000000       3337.000000  \n",
              "mean      4.218660    17.819742    21.533333       0.259515          0.259215  \n",
              "std       2.409531     4.894240     4.301156       0.438434          0.438269  \n",
              "min       0.000000     6.400000    10.200000       0.000000          0.000000  \n",
              "25%       2.000000    13.800000    18.400000       0.000000          0.000000  \n",
              "50%       4.218660    18.200000    21.300000       0.000000          0.000000  \n",
              "75%       7.000000    21.700000    24.500000       1.000000          1.000000  \n",
              "max       8.000000    36.500000    44.700000       1.000000          1.000000  "
            ],
            "text/html": [
              "\n",
              "  <div id=\"df-cf0b8701-6ffe-4ef8-bf34-ff93126693cd\" class=\"colab-df-container\">\n",
              "    <div>\n",
              "<style scoped>\n",
              "    .dataframe tbody tr th:only-of-type {\n",
              "        vertical-align: middle;\n",
              "    }\n",
              "\n",
              "    .dataframe tbody tr th {\n",
              "        vertical-align: top;\n",
              "    }\n",
              "\n",
              "    .dataframe thead th {\n",
              "        text-align: right;\n",
              "    }\n",
              "</style>\n",
              "<table border=\"1\" class=\"dataframe\">\n",
              "  <thead>\n",
              "    <tr style=\"text-align: right;\">\n",
              "      <th></th>\n",
              "      <th>MinTemp</th>\n",
              "      <th>MaxTemp</th>\n",
              "      <th>Rainfall</th>\n",
              "      <th>Evaporation</th>\n",
              "      <th>Sunshine</th>\n",
              "      <th>Humidity9am</th>\n",
              "      <th>Humidity3pm</th>\n",
              "      <th>Pressure9am</th>\n",
              "      <th>Pressure3pm</th>\n",
              "      <th>Cloud9am</th>\n",
              "      <th>Cloud3pm</th>\n",
              "      <th>Temp9am</th>\n",
              "      <th>Temp3pm</th>\n",
              "      <th>RainToday_Yes</th>\n",
              "      <th>RainTomorrow_Yes</th>\n",
              "    </tr>\n",
              "  </thead>\n",
              "  <tbody>\n",
              "    <tr>\n",
              "      <th>count</th>\n",
              "      <td>3337.000000</td>\n",
              "      <td>3337.000000</td>\n",
              "      <td>3337.000000</td>\n",
              "      <td>3337.000000</td>\n",
              "      <td>3337.000000</td>\n",
              "      <td>3337.000000</td>\n",
              "      <td>3337.000000</td>\n",
              "      <td>3337.000000</td>\n",
              "      <td>3337.000000</td>\n",
              "      <td>3337.000000</td>\n",
              "      <td>3337.000000</td>\n",
              "      <td>3337.000000</td>\n",
              "      <td>3337.000000</td>\n",
              "      <td>3337.000000</td>\n",
              "      <td>3337.000000</td>\n",
              "    </tr>\n",
              "    <tr>\n",
              "      <th>mean</th>\n",
              "      <td>14.865057</td>\n",
              "      <td>23.002339</td>\n",
              "      <td>3.330231</td>\n",
              "      <td>5.187432</td>\n",
              "      <td>7.179374</td>\n",
              "      <td>68.229010</td>\n",
              "      <td>54.699158</td>\n",
              "      <td>1018.346156</td>\n",
              "      <td>1016.018774</td>\n",
              "      <td>4.181523</td>\n",
              "      <td>4.218660</td>\n",
              "      <td>17.819742</td>\n",
              "      <td>21.533333</td>\n",
              "      <td>0.259515</td>\n",
              "      <td>0.259215</td>\n",
              "    </tr>\n",
              "    <tr>\n",
              "      <th>std</th>\n",
              "      <td>4.551593</td>\n",
              "      <td>4.493290</td>\n",
              "      <td>9.886270</td>\n",
              "      <td>2.756095</td>\n",
              "      <td>3.801737</td>\n",
              "      <td>15.053668</td>\n",
              "      <td>16.261752</td>\n",
              "      <td>7.000492</td>\n",
              "      <td>7.012157</td>\n",
              "      <td>2.505491</td>\n",
              "      <td>2.409531</td>\n",
              "      <td>4.894240</td>\n",
              "      <td>4.301156</td>\n",
              "      <td>0.438434</td>\n",
              "      <td>0.438269</td>\n",
              "    </tr>\n",
              "    <tr>\n",
              "      <th>min</th>\n",
              "      <td>4.300000</td>\n",
              "      <td>11.700000</td>\n",
              "      <td>0.000000</td>\n",
              "      <td>0.000000</td>\n",
              "      <td>0.000000</td>\n",
              "      <td>19.000000</td>\n",
              "      <td>10.000000</td>\n",
              "      <td>986.700000</td>\n",
              "      <td>989.800000</td>\n",
              "      <td>0.000000</td>\n",
              "      <td>0.000000</td>\n",
              "      <td>6.400000</td>\n",
              "      <td>10.200000</td>\n",
              "      <td>0.000000</td>\n",
              "      <td>0.000000</td>\n",
              "    </tr>\n",
              "    <tr>\n",
              "      <th>25%</th>\n",
              "      <td>11.000000</td>\n",
              "      <td>19.600000</td>\n",
              "      <td>0.000000</td>\n",
              "      <td>3.200000</td>\n",
              "      <td>4.300000</td>\n",
              "      <td>58.000000</td>\n",
              "      <td>44.000000</td>\n",
              "      <td>1013.800000</td>\n",
              "      <td>1011.300000</td>\n",
              "      <td>2.000000</td>\n",
              "      <td>2.000000</td>\n",
              "      <td>13.800000</td>\n",
              "      <td>18.400000</td>\n",
              "      <td>0.000000</td>\n",
              "      <td>0.000000</td>\n",
              "    </tr>\n",
              "    <tr>\n",
              "      <th>50%</th>\n",
              "      <td>14.900000</td>\n",
              "      <td>22.800000</td>\n",
              "      <td>0.000000</td>\n",
              "      <td>4.800000</td>\n",
              "      <td>8.200000</td>\n",
              "      <td>69.000000</td>\n",
              "      <td>56.000000</td>\n",
              "      <td>1018.500000</td>\n",
              "      <td>1016.300000</td>\n",
              "      <td>4.181523</td>\n",
              "      <td>4.218660</td>\n",
              "      <td>18.200000</td>\n",
              "      <td>21.300000</td>\n",
              "      <td>0.000000</td>\n",
              "      <td>0.000000</td>\n",
              "    </tr>\n",
              "    <tr>\n",
              "      <th>75%</th>\n",
              "      <td>18.700000</td>\n",
              "      <td>26.000000</td>\n",
              "      <td>1.400000</td>\n",
              "      <td>7.000000</td>\n",
              "      <td>10.200000</td>\n",
              "      <td>80.000000</td>\n",
              "      <td>64.000000</td>\n",
              "      <td>1023.100000</td>\n",
              "      <td>1020.800000</td>\n",
              "      <td>7.000000</td>\n",
              "      <td>7.000000</td>\n",
              "      <td>21.700000</td>\n",
              "      <td>24.500000</td>\n",
              "      <td>1.000000</td>\n",
              "      <td>1.000000</td>\n",
              "    </tr>\n",
              "    <tr>\n",
              "      <th>max</th>\n",
              "      <td>27.600000</td>\n",
              "      <td>45.800000</td>\n",
              "      <td>119.400000</td>\n",
              "      <td>18.400000</td>\n",
              "      <td>13.600000</td>\n",
              "      <td>100.000000</td>\n",
              "      <td>99.000000</td>\n",
              "      <td>1039.000000</td>\n",
              "      <td>1036.700000</td>\n",
              "      <td>9.000000</td>\n",
              "      <td>8.000000</td>\n",
              "      <td>36.500000</td>\n",
              "      <td>44.700000</td>\n",
              "      <td>1.000000</td>\n",
              "      <td>1.000000</td>\n",
              "    </tr>\n",
              "  </tbody>\n",
              "</table>\n",
              "</div>\n",
              "    <div class=\"colab-df-buttons\">\n",
              "\n",
              "  <div class=\"colab-df-container\">\n",
              "    <button class=\"colab-df-convert\" onclick=\"convertToInteractive('df-cf0b8701-6ffe-4ef8-bf34-ff93126693cd')\"\n",
              "            title=\"Convert this dataframe to an interactive table.\"\n",
              "            style=\"display:none;\">\n",
              "\n",
              "  <svg xmlns=\"http://www.w3.org/2000/svg\" height=\"24px\" viewBox=\"0 -960 960 960\">\n",
              "    <path d=\"M120-120v-720h720v720H120Zm60-500h600v-160H180v160Zm220 220h160v-160H400v160Zm0 220h160v-160H400v160ZM180-400h160v-160H180v160Zm440 0h160v-160H620v160ZM180-180h160v-160H180v160Zm440 0h160v-160H620v160Z\"/>\n",
              "  </svg>\n",
              "    </button>\n",
              "\n",
              "  <style>\n",
              "    .colab-df-container {\n",
              "      display:flex;\n",
              "      gap: 12px;\n",
              "    }\n",
              "\n",
              "    .colab-df-convert {\n",
              "      background-color: #E8F0FE;\n",
              "      border: none;\n",
              "      border-radius: 50%;\n",
              "      cursor: pointer;\n",
              "      display: none;\n",
              "      fill: #1967D2;\n",
              "      height: 32px;\n",
              "      padding: 0 0 0 0;\n",
              "      width: 32px;\n",
              "    }\n",
              "\n",
              "    .colab-df-convert:hover {\n",
              "      background-color: #E2EBFA;\n",
              "      box-shadow: 0px 1px 2px rgba(60, 64, 67, 0.3), 0px 1px 3px 1px rgba(60, 64, 67, 0.15);\n",
              "      fill: #174EA6;\n",
              "    }\n",
              "\n",
              "    .colab-df-buttons div {\n",
              "      margin-bottom: 4px;\n",
              "    }\n",
              "\n",
              "    [theme=dark] .colab-df-convert {\n",
              "      background-color: #3B4455;\n",
              "      fill: #D2E3FC;\n",
              "    }\n",
              "\n",
              "    [theme=dark] .colab-df-convert:hover {\n",
              "      background-color: #434B5C;\n",
              "      box-shadow: 0px 1px 3px 1px rgba(0, 0, 0, 0.15);\n",
              "      filter: drop-shadow(0px 1px 2px rgba(0, 0, 0, 0.3));\n",
              "      fill: #FFFFFF;\n",
              "    }\n",
              "  </style>\n",
              "\n",
              "    <script>\n",
              "      const buttonEl =\n",
              "        document.querySelector('#df-cf0b8701-6ffe-4ef8-bf34-ff93126693cd button.colab-df-convert');\n",
              "      buttonEl.style.display =\n",
              "        google.colab.kernel.accessAllowed ? 'block' : 'none';\n",
              "\n",
              "      async function convertToInteractive(key) {\n",
              "        const element = document.querySelector('#df-cf0b8701-6ffe-4ef8-bf34-ff93126693cd');\n",
              "        const dataTable =\n",
              "          await google.colab.kernel.invokeFunction('convertToInteractive',\n",
              "                                                    [key], {});\n",
              "        if (!dataTable) return;\n",
              "\n",
              "        const docLinkHtml = 'Like what you see? Visit the ' +\n",
              "          '<a target=\"_blank\" href=https://colab.research.google.com/notebooks/data_table.ipynb>data table notebook</a>'\n",
              "          + ' to learn more about interactive tables.';\n",
              "        element.innerHTML = '';\n",
              "        dataTable['output_type'] = 'display_data';\n",
              "        await google.colab.output.renderOutput(dataTable, element);\n",
              "        const docLink = document.createElement('div');\n",
              "        docLink.innerHTML = docLinkHtml;\n",
              "        element.appendChild(docLink);\n",
              "      }\n",
              "    </script>\n",
              "  </div>\n",
              "\n",
              "\n",
              "<div id=\"df-fa9c9042-2e5f-4fb5-bf59-fe0e6344b0b2\">\n",
              "  <button class=\"colab-df-quickchart\" onclick=\"quickchart('df-fa9c9042-2e5f-4fb5-bf59-fe0e6344b0b2')\"\n",
              "            title=\"Suggest charts\"\n",
              "            style=\"display:none;\">\n",
              "\n",
              "<svg xmlns=\"http://www.w3.org/2000/svg\" height=\"24px\"viewBox=\"0 0 24 24\"\n",
              "     width=\"24px\">\n",
              "    <g>\n",
              "        <path d=\"M19 3H5c-1.1 0-2 .9-2 2v14c0 1.1.9 2 2 2h14c1.1 0 2-.9 2-2V5c0-1.1-.9-2-2-2zM9 17H7v-7h2v7zm4 0h-2V7h2v10zm4 0h-2v-4h2v4z\"/>\n",
              "    </g>\n",
              "</svg>\n",
              "  </button>\n",
              "\n",
              "<style>\n",
              "  .colab-df-quickchart {\n",
              "      --bg-color: #E8F0FE;\n",
              "      --fill-color: #1967D2;\n",
              "      --hover-bg-color: #E2EBFA;\n",
              "      --hover-fill-color: #174EA6;\n",
              "      --disabled-fill-color: #AAA;\n",
              "      --disabled-bg-color: #DDD;\n",
              "  }\n",
              "\n",
              "  [theme=dark] .colab-df-quickchart {\n",
              "      --bg-color: #3B4455;\n",
              "      --fill-color: #D2E3FC;\n",
              "      --hover-bg-color: #434B5C;\n",
              "      --hover-fill-color: #FFFFFF;\n",
              "      --disabled-bg-color: #3B4455;\n",
              "      --disabled-fill-color: #666;\n",
              "  }\n",
              "\n",
              "  .colab-df-quickchart {\n",
              "    background-color: var(--bg-color);\n",
              "    border: none;\n",
              "    border-radius: 50%;\n",
              "    cursor: pointer;\n",
              "    display: none;\n",
              "    fill: var(--fill-color);\n",
              "    height: 32px;\n",
              "    padding: 0;\n",
              "    width: 32px;\n",
              "  }\n",
              "\n",
              "  .colab-df-quickchart:hover {\n",
              "    background-color: var(--hover-bg-color);\n",
              "    box-shadow: 0 1px 2px rgba(60, 64, 67, 0.3), 0 1px 3px 1px rgba(60, 64, 67, 0.15);\n",
              "    fill: var(--button-hover-fill-color);\n",
              "  }\n",
              "\n",
              "  .colab-df-quickchart-complete:disabled,\n",
              "  .colab-df-quickchart-complete:disabled:hover {\n",
              "    background-color: var(--disabled-bg-color);\n",
              "    fill: var(--disabled-fill-color);\n",
              "    box-shadow: none;\n",
              "  }\n",
              "\n",
              "  .colab-df-spinner {\n",
              "    border: 2px solid var(--fill-color);\n",
              "    border-color: transparent;\n",
              "    border-bottom-color: var(--fill-color);\n",
              "    animation:\n",
              "      spin 1s steps(1) infinite;\n",
              "  }\n",
              "\n",
              "  @keyframes spin {\n",
              "    0% {\n",
              "      border-color: transparent;\n",
              "      border-bottom-color: var(--fill-color);\n",
              "      border-left-color: var(--fill-color);\n",
              "    }\n",
              "    20% {\n",
              "      border-color: transparent;\n",
              "      border-left-color: var(--fill-color);\n",
              "      border-top-color: var(--fill-color);\n",
              "    }\n",
              "    30% {\n",
              "      border-color: transparent;\n",
              "      border-left-color: var(--fill-color);\n",
              "      border-top-color: var(--fill-color);\n",
              "      border-right-color: var(--fill-color);\n",
              "    }\n",
              "    40% {\n",
              "      border-color: transparent;\n",
              "      border-right-color: var(--fill-color);\n",
              "      border-top-color: var(--fill-color);\n",
              "    }\n",
              "    60% {\n",
              "      border-color: transparent;\n",
              "      border-right-color: var(--fill-color);\n",
              "    }\n",
              "    80% {\n",
              "      border-color: transparent;\n",
              "      border-right-color: var(--fill-color);\n",
              "      border-bottom-color: var(--fill-color);\n",
              "    }\n",
              "    90% {\n",
              "      border-color: transparent;\n",
              "      border-bottom-color: var(--fill-color);\n",
              "    }\n",
              "  }\n",
              "</style>\n",
              "\n",
              "  <script>\n",
              "    async function quickchart(key) {\n",
              "      const quickchartButtonEl =\n",
              "        document.querySelector('#' + key + ' button');\n",
              "      quickchartButtonEl.disabled = true;  // To prevent multiple clicks.\n",
              "      quickchartButtonEl.classList.add('colab-df-spinner');\n",
              "      try {\n",
              "        const charts = await google.colab.kernel.invokeFunction(\n",
              "            'suggestCharts', [key], {});\n",
              "      } catch (error) {\n",
              "        console.error('Error during call to suggestCharts:', error);\n",
              "      }\n",
              "      quickchartButtonEl.classList.remove('colab-df-spinner');\n",
              "      quickchartButtonEl.classList.add('colab-df-quickchart-complete');\n",
              "    }\n",
              "    (() => {\n",
              "      let quickchartButtonEl =\n",
              "        document.querySelector('#df-fa9c9042-2e5f-4fb5-bf59-fe0e6344b0b2 button');\n",
              "      quickchartButtonEl.style.display =\n",
              "        google.colab.kernel.accessAllowed ? 'block' : 'none';\n",
              "    })();\n",
              "  </script>\n",
              "</div>\n",
              "\n",
              "    </div>\n",
              "  </div>\n"
            ],
            "application/vnd.google.colaboratory.intrinsic+json": {
              "type": "dataframe",
              "summary": "{\n  \"name\": \"df\",\n  \"rows\": 8,\n  \"fields\": [\n    {\n      \"column\": \"MinTemp\",\n      \"properties\": {\n        \"dtype\": \"number\",\n        \"std\": 1174.987479926546,\n        \"min\": 4.3,\n        \"max\": 3337.0,\n        \"num_unique_values\": 8,\n        \"samples\": [\n          14.86505698860228,\n          14.9,\n          3337.0\n        ],\n        \"semantic_type\": \"\",\n        \"description\": \"\"\n      }\n    },\n    {\n      \"column\": \"MaxTemp\",\n      \"properties\": {\n        \"dtype\": \"number\",\n        \"std\": 1172.121100591565,\n        \"min\": 4.493290420181668,\n        \"max\": 3337.0,\n        \"num_unique_values\": 8,\n        \"samples\": [\n          23.00233883058471,\n          22.8,\n          3337.0\n        ],\n        \"semantic_type\": \"\",\n        \"description\": \"\"\n      }\n    },\n    {\n      \"column\": \"Rainfall\",\n      \"properties\": {\n        \"dtype\": \"number\",\n        \"std\": 1173.757197153717,\n        \"min\": 0.0,\n        \"max\": 3337.0,\n        \"num_unique_values\": 6,\n        \"samples\": [\n          3337.0,\n          3.3302311618132694,\n          119.4\n        ],\n        \"semantic_type\": \"\",\n        \"description\": \"\"\n      }\n    },\n    {\n      \"column\": \"Evaporation\",\n      \"properties\": {\n        \"dtype\": \"number\",\n        \"std\": 1177.7323078567517,\n        \"min\": 0.0,\n        \"max\": 3337.0,\n        \"num_unique_values\": 8,\n        \"samples\": [\n          5.187431527693245,\n          4.8,\n          3337.0\n        ],\n        \"semantic_type\": \"\",\n        \"description\": \"\"\n      }\n    },\n    {\n      \"column\": \"Sunshine\",\n      \"properties\": {\n        \"dtype\": \"number\",\n        \"std\": 1177.4269705892964,\n        \"min\": 0.0,\n        \"max\": 3337.0,\n        \"num_unique_values\": 8,\n        \"samples\": [\n          7.179373682625714,\n          8.2,\n          3337.0\n        ],\n        \"semantic_type\": \"\",\n        \"description\": \"\"\n      }\n    },\n    {\n      \"column\": \"Humidity9am\",\n      \"properties\": {\n        \"dtype\": \"number\",\n        \"std\": 1159.4954304506796,\n        \"min\": 15.053668213809168,\n        \"max\": 3337.0,\n        \"num_unique_values\": 8,\n        \"samples\": [\n          68.22900993078544,\n          69.0,\n          3337.0\n        ],\n        \"semantic_type\": \"\",\n        \"description\": \"\"\n      }\n    },\n    {\n      \"column\": \"Humidity3pm\",\n      \"properties\": {\n        \"dtype\": \"number\",\n        \"std\": 1162.7682664208564,\n        \"min\": 10.0,\n        \"max\": 3337.0,\n        \"num_unique_values\": 8,\n        \"samples\": [\n          54.699157641395914,\n          56.0,\n          3337.0\n        ],\n        \"semantic_type\": \"\",\n        \"description\": \"\"\n      }\n    },\n    {\n      \"column\": \"Pressure9am\",\n      \"properties\": {\n        \"dtype\": \"number\",\n        \"std\": 940.3855984845441,\n        \"min\": 7.000491664197561,\n        \"max\": 3337.0,\n        \"num_unique_values\": 8,\n        \"samples\": [\n          1018.3461561652095,\n          1018.5,\n          3337.0\n        ],\n        \"semantic_type\": \"\",\n        \"description\": \"\"\n      }\n    },\n    {\n      \"column\": \"Pressure3pm\",\n      \"properties\": {\n        \"dtype\": \"number\",\n        \"std\": 940.573461942417,\n        \"min\": 7.01215666489751,\n        \"max\": 3337.0,\n        \"num_unique_values\": 8,\n        \"samples\": [\n          1016.018773960217,\n          1016.3,\n          3337.0\n        ],\n        \"semantic_type\": \"\",\n        \"description\": \"\"\n      }\n    },\n    {\n      \"column\": \"Cloud9am\",\n      \"properties\": {\n        \"dtype\": \"number\",\n        \"std\": 1178.3529892955944,\n        \"min\": 0.0,\n        \"max\": 3337.0,\n        \"num_unique_values\": 7,\n        \"samples\": [\n          3337.0,\n          4.181522915914832,\n          7.0\n        ],\n        \"semantic_type\": \"\",\n        \"description\": \"\"\n      }\n    },\n    {\n      \"column\": \"Cloud3pm\",\n      \"properties\": {\n        \"dtype\": \"number\",\n        \"std\": 1178.4040726569312,\n        \"min\": 0.0,\n        \"max\": 3337.0,\n        \"num_unique_values\": 8,\n        \"samples\": [\n          4.218659942363112,\n          4.218659942363113,\n          3337.0\n        ],\n        \"semantic_type\": \"\",\n        \"description\": \"\"\n      }\n    },\n    {\n      \"column\": \"Temp9am\",\n      \"properties\": {\n        \"dtype\": \"number\",\n        \"std\": 1173.8223876366364,\n        \"min\": 4.894240025283728,\n        \"max\": 3337.0,\n        \"num_unique_values\": 8,\n        \"samples\": [\n          17.81974197419742,\n          18.2,\n          3337.0\n        ],\n        \"semantic_type\": \"\",\n        \"description\": \"\"\n      }\n    },\n    {\n      \"column\": \"Temp3pm\",\n      \"properties\": {\n        \"dtype\": \"number\",\n        \"std\": 1172.546821543078,\n        \"min\": 4.301155896542569,\n        \"max\": 3337.0,\n        \"num_unique_values\": 8,\n        \"samples\": [\n          21.53333333333333,\n          21.3,\n          3337.0\n        ],\n        \"semantic_type\": \"\",\n        \"description\": \"\"\n      }\n    },\n    {\n      \"column\": \"RainToday_Yes\",\n      \"properties\": {\n        \"dtype\": \"number\",\n        \"std\": 1179.6714712863488,\n        \"min\": 0.0,\n        \"max\": 3337.0,\n        \"num_unique_values\": 5,\n        \"samples\": [\n          0.2595145340125862,\n          1.0,\n          0.4384339683325869\n        ],\n        \"semantic_type\": \"\",\n        \"description\": \"\"\n      }\n    },\n    {\n      \"column\": \"RainTomorrow_Yes\",\n      \"properties\": {\n        \"dtype\": \"number\",\n        \"std\": 1179.6714947367777,\n        \"min\": 0.0,\n        \"max\": 3337.0,\n        \"num_unique_values\": 5,\n        \"samples\": [\n          0.25921486364998503,\n          1.0,\n          0.4382694135115672\n        ],\n        \"semantic_type\": \"\",\n        \"description\": \"\"\n      }\n    }\n  ]\n}"
            }
          },
          "metadata": {},
          "execution_count": 11
        }
      ]
    },
    {
      "cell_type": "code",
      "source": [
        "#to find the null values\n",
        "df.isna().sum()"
      ],
      "metadata": {
        "colab": {
          "base_uri": "https://localhost:8080/"
        },
        "id": "D9-fdVLYQ33E",
        "outputId": "888a0284-027a-46d6-82de-1e31e88b7f3f"
      },
      "execution_count": 12,
      "outputs": [
        {
          "output_type": "execute_result",
          "data": {
            "text/plain": [
              "MinTemp             0\n",
              "MaxTemp             0\n",
              "Rainfall            0\n",
              "Evaporation         0\n",
              "Sunshine            0\n",
              "Humidity9am         0\n",
              "Humidity3pm         0\n",
              "Pressure9am         0\n",
              "Pressure3pm         0\n",
              "Cloud9am            0\n",
              "Cloud3pm            0\n",
              "Temp9am             0\n",
              "Temp3pm             0\n",
              "RainToday_Yes       0\n",
              "RainTomorrow_Yes    0\n",
              "dtype: int64"
            ]
          },
          "metadata": {},
          "execution_count": 12
        }
      ]
    },
    {
      "cell_type": "markdown",
      "source": [
        "Finding Outliers using Boxplot"
      ],
      "metadata": {
        "id": "k0Lb5OSnQPQD"
      }
    },
    {
      "cell_type": "code",
      "source": [
        "import matplotlib.pyplot as plt\n",
        "\n",
        "# Create box plots for each numerical feature\n",
        "for col in df.select_dtypes(include=np.number).columns:\n",
        "    sns.boxplot(x=df[col])\n",
        "    plt.show()"
      ],
      "metadata": {
        "colab": {
          "base_uri": "https://localhost:8080/",
          "height": 1000
        },
        "id": "tHY6S0muP8tJ",
        "outputId": "a3ca0581-654d-454a-bc69-d95ad3adac1f"
      },
      "execution_count": 13,
      "outputs": [
        {
          "output_type": "display_data",
          "data": {
            "text/plain": [
              "<Figure size 640x480 with 1 Axes>"
            ],
            "image/png": "[encoded data removed]"
          },
          "metadata": {}
        },
        {
          "output_type": "display_data",
          "data": {
            "text/plain": [
              "<Figure size 640x480 with 1 Axes>"
            ],
            "image/png": "[encoded data removed]"
          },
          "metadata": {}
        },
        {
          "output_type": "display_data",
          "data": {
            "text/plain": [
              "<Figure size 640x480 with 1 Axes>"
            ],
            "image/png": "[encoded data removed]"
          },
          "metadata": {}
        },
        {
          "output_type": "display_data",
          "data": {
            "text/plain": [
              "<Figure size 640x480 with 1 Axes>"
            ],
            "image/png": "[encoded data removed]"
          },
          "metadata": {}
        },
        {
          "output_type": "display_data",
          "data": {
            "text/plain": [
              "<Figure size 640x480 with 1 Axes>"
            ],
            "image/png": "[encoded data removed]"
          },
          "metadata": {}
        },
        {
          "output_type": "display_data",
          "data": {
            "text/plain": [
              "<Figure size 640x480 with 1 Axes>"
            ],
            "image/png": "[encoded data removed]"
          },
          "metadata": {}
        },
        {
          "output_type": "display_data",
          "data": {
            "text/plain": [
              "<Figure size 640x480 with 1 Axes>"
            ],
            "image/png": "[encoded data removed]"
          },
          "metadata": {}
        },
        {
          "output_type": "display_data",
          "data": {
            "text/plain": [
              "<Figure size 640x480 with 1 Axes>"
            ],
            "image/png": "[encoded data removed]"
          },
          "metadata": {}
        },
        {
          "output_type": "display_data",
          "data": {
            "text/plain": [
              "<Figure size 640x480 with 1 Axes>"
            ],
            "image/png": "[encoded data removed]"
          },
          "metadata": {}
        },
        {
          "output_type": "display_data",
          "data": {
            "text/plain": [
              "<Figure size 640x480 with 1 Axes>"
            ],
            "image/png": "[encoded data removed]"
          },
          "metadata": {}
        },
        {
          "output_type": "display_data",
          "data": {
            "text/plain": [
              "<Figure size 640x480 with 1 Axes>"
            ],
            "image/png": "[encoded data removed]"
          },
          "metadata": {}
        },
        {
          "output_type": "display_data",
          "data": {
            "text/plain": [
              "<Figure size 640x480 with 1 Axes>"
            ],
            "image/png": "[encoded data removed]"
          },
          "metadata": {}
        },
        {
          "output_type": "display_data",
          "data": {
            "text/plain": [
              "<Figure size 640x480 with 1 Axes>"
            ],
            "image/png": "[encoded data removed]"
          },
          "metadata": {}
        },
        {
          "output_type": "display_data",
          "data": {
            "text/plain": [
              "<Figure size 640x480 with 1 Axes>"
            ],
            "image/png": "[encoded data removed]"
          },
          "metadata": {}
        },
        {
          "output_type": "display_data",
          "data": {
            "text/plain": [
              "<Figure size 640x480 with 1 Axes>"
            ],
            "image/png": "[encoded data removed]"
          },
          "metadata": {}
        }
      ]
    },
    {
      "cell_type": "markdown",
      "source": [
        "#### outlier treatment"
      ],
      "metadata": {
        "id": "vfJrjTSkppI7"
      }
    },
    {
      "cell_type": "code",
      "source": [
        "# Identify columns with numerical data\n",
        "numerical_cols = df.select_dtypes(include=np.number).columns\n",
        "\n",
        "# Calculate the Interquartile Range (IQR) for each numerical feature\n",
        "Q1 = df[numerical_cols].quantile(0.25)\n",
        "Q3 = df[numerical_cols].quantile(0.75)\n",
        "IQR = Q3 - Q1\n",
        "\n",
        "# Calculate the lower and upper bounds for each feature\n",
        "lower_bound = Q1 - (1.5 * IQR)\n",
        "upper_bound = Q3 + (1.5 * IQR)\n",
        "\n",
        "# Replace outliers with the lower or upper bound, but only for numerical columns\n",
        "for col in numerical_cols:\n",
        "    df[col] = np.where((df[col] < lower_bound[col]), lower_bound[col], df[col])\n",
        "    df[col] = np.where((df[col] > upper_bound[col]), upper_bound[col], df[col])"
      ],
      "metadata": {
        "id": "yRmke3r1Slw7"
      },
      "execution_count": 14,
      "outputs": []
    },
    {
      "cell_type": "markdown",
      "source": [
        "#### Check for outliers again"
      ],
      "metadata": {
        "id": "wvq5S_RhpwpQ"
      }
    },
    {
      "cell_type": "code",
      "source": [
        "for col in df.select_dtypes(include=np.number).columns:\n",
        "    sns.boxplot(x=df[col])\n",
        "    plt.show()"
      ],
      "metadata": {
        "colab": {
          "base_uri": "https://localhost:8080/",
          "height": 1000
        },
        "id": "PypG-0KJSvGk",
        "outputId": "15dedc23-7b90-4279-dc15-583213a220c0"
      },
      "execution_count": 15,
      "outputs": [
        {
          "output_type": "display_data",
          "data": {
            "text/plain": [
              "<Figure size 640x480 with 1 Axes>"
            ],
            "image/png": "[encoded data removed]"
          },
          "metadata": {}
        },
        {
          "output_type": "display_data",
          "data": {
            "text/plain": [
              "<Figure size 640x480 with 1 Axes>"
            ],
            "image/png": "[encoded data removed]"
          },
          "metadata": {}
        },
        {
          "output_type": "display_data",
          "data": {
            "text/plain": [
              "<Figure size 640x480 with 1 Axes>"
            ],
            "image/png": "[encoded data removed]"
          },
          "metadata": {}
        },
        {
          "output_type": "display_data",
          "data": {
            "text/plain": [
              "<Figure size 640x480 with 1 Axes>"
            ],
            "image/png": "[encoded data removed]"
          },
          "metadata": {}
        },
        {
          "output_type": "display_data",
          "data": {
            "text/plain": [
              "<Figure size 640x480 with 1 Axes>"
            ],
            "image/png": "[encoded data removed]"
          },
          "metadata": {}
        },
        {
          "output_type": "display_data",
          "data": {
            "text/plain": [
              "<Figure size 640x480 with 1 Axes>"
            ],
            "image/png": "[encoded data removed]"
          },
          "metadata": {}
        },
        {
          "output_type": "display_data",
          "data": {
            "text/plain": [
              "<Figure size 640x480 with 1 Axes>"
            ],
            "image/png": "[encoded data removed]"
          },
          "metadata": {}
        },
        {
          "output_type": "display_data",
          "data": {
            "text/plain": [
              "<Figure size 640x480 with 1 Axes>"
            ],
            "image/png": "[encoded data removed]"
          },
          "metadata": {}
        },
        {
          "output_type": "display_data",
          "data": {
            "text/plain": [
              "<Figure size 640x480 with 1 Axes>"
            ],
            "image/png": "[encoded data removed]"
          },
          "metadata": {}
        },
        {
          "output_type": "display_data",
          "data": {
            "text/plain": [
              "<Figure size 640x480 with 1 Axes>"
            ],
            "image/png": "[encoded data removed]"
          },
          "metadata": {}
        },
        {
          "output_type": "display_data",
          "data": {
            "text/plain": [
              "<Figure size 640x480 with 1 Axes>"
            ],
            "image/png": "[encoded data removed]"
          },
          "metadata": {}
        },
        {
          "output_type": "display_data",
          "data": {
            "text/plain": [
              "<Figure size 640x480 with 1 Axes>"
            ],
            "image/png": "[encoded data removed]"
          },
          "metadata": {}
        },
        {
          "output_type": "display_data",
          "data": {
            "text/plain": [
              "<Figure size 640x480 with 1 Axes>"
            ],
            "image/png": "[encoded data removed]"
          },
          "metadata": {}
        },
        {
          "output_type": "display_data",
          "data": {
            "text/plain": [
              "<Figure size 640x480 with 1 Axes>"
            ],
            "image/png": "[encoded data removed]"
          },
          "metadata": {}
        },
        {
          "output_type": "display_data",
          "data": {
            "text/plain": [
              "<Figure size 640x480 with 1 Axes>"
            ],
            "image/png": "[encoded data removed]"
          },
          "metadata": {}
        }
      ]
    },
    {
      "cell_type": "code",
      "source": [
        "df.describe()"
      ],
      "metadata": {
        "colab": {
          "base_uri": "https://localhost:8080/",
          "height": 320
        },
        "id": "y1ZE_ES7SzcY",
        "outputId": "91326d59-8829-49f7-caaa-b2f08bad4666"
      },
      "execution_count": 16,
      "outputs": [
        {
          "output_type": "execute_result",
          "data": {
            "text/plain": [
              "           MinTemp      MaxTemp     Rainfall  Evaporation     Sunshine  \\\n",
              "count  3337.000000  3337.000000  3337.000000  3337.000000  3337.000000   \n",
              "mean     14.865057    22.977196     0.868919     5.174396     7.179374   \n",
              "std       4.551593     4.409312     1.393618     2.714802     3.801737   \n",
              "min       4.300000    11.700000     0.000000     0.000000     0.000000   \n",
              "25%      11.000000    19.600000     0.000000     3.200000     4.300000   \n",
              "50%      14.900000    22.800000     0.000000     4.800000     8.200000   \n",
              "75%      18.700000    26.000000     1.400000     7.000000    10.200000   \n",
              "max      27.600000    35.600000     3.500000    12.700000    13.600000   \n",
              "\n",
              "       Humidity9am  Humidity3pm  Pressure9am  Pressure3pm     Cloud9am  \\\n",
              "count  3337.000000  3337.000000  3337.000000  3337.000000  3337.000000   \n",
              "mean     68.238300    54.703353  1018.360271  1016.030446     4.181523   \n",
              "std      15.025889    16.229354     6.946585     6.968893     2.505491   \n",
              "min      25.000000    14.000000   999.850000   997.050000     0.000000   \n",
              "25%      58.000000    44.000000  1013.800000  1011.300000     2.000000   \n",
              "50%      69.000000    56.000000  1018.500000  1016.300000     4.181523   \n",
              "75%      80.000000    64.000000  1023.100000  1020.800000     7.000000   \n",
              "max     100.000000    94.000000  1037.050000  1035.050000     9.000000   \n",
              "\n",
              "          Cloud3pm      Temp9am      Temp3pm  RainToday_Yes  RainTomorrow_Yes  \n",
              "count  3337.000000  3337.000000  3337.000000    3337.000000       3337.000000  \n",
              "mean      4.218660    17.818813    21.510199       0.259515          0.259215  \n",
              "std       2.409531     4.890985     4.219776       0.438434          0.438269  \n",
              "min       0.000000     6.400000    10.200000       0.000000          0.000000  \n",
              "25%       2.000000    13.800000    18.400000       0.000000          0.000000  \n",
              "50%       4.218660    18.200000    21.300000       0.000000          0.000000  \n",
              "75%       7.000000    21.700000    24.500000       1.000000          1.000000  \n",
              "max       8.000000    33.550000    33.650000       1.000000          1.000000  "
            ],
            "text/html": [
              "\n",
              "  <div id=\"df-9a53a82c-cf51-46a3-b0b8-6d4c9c197920\" class=\"colab-df-container\">\n",
              "    <div>\n",
              "<style scoped>\n",
              "    .dataframe tbody tr th:only-of-type {\n",
              "        vertical-align: middle;\n",
              "    }\n",
              "\n",
              "    .dataframe tbody tr th {\n",
              "        vertical-align: top;\n",
              "    }\n",
              "\n",
              "    .dataframe thead th {\n",
              "        text-align: right;\n",
              "    }\n",
              "</style>\n",
              "<table border=\"1\" class=\"dataframe\">\n",
              "  <thead>\n",
              "    <tr style=\"text-align: right;\">\n",
              "      <th></th>\n",
              "      <th>MinTemp</th>\n",
              "      <th>MaxTemp</th>\n",
              "      <th>Rainfall</th>\n",
              "      <th>Evaporation</th>\n",
              "      <th>Sunshine</th>\n",
              "      <th>Humidity9am</th>\n",
              "      <th>Humidity3pm</th>\n",
              "      <th>Pressure9am</th>\n",
              "      <th>Pressure3pm</th>\n",
              "      <th>Cloud9am</th>\n",
              "      <th>Cloud3pm</th>\n",
              "      <th>Temp9am</th>\n",
              "      <th>Temp3pm</th>\n",
              "      <th>RainToday_Yes</th>\n",
              "      <th>RainTomorrow_Yes</th>\n",
              "    </tr>\n",
              "  </thead>\n",
              "  <tbody>\n",
              "    <tr>\n",
              "      <th>count</th>\n",
              "      <td>3337.000000</td>\n",
              "      <td>3337.000000</td>\n",
              "      <td>3337.000000</td>\n",
              "      <td>3337.000000</td>\n",
              "      <td>3337.000000</td>\n",
              "      <td>3337.000000</td>\n",
              "      <td>3337.000000</td>\n",
              "      <td>3337.000000</td>\n",
              "      <td>3337.000000</td>\n",
              "      <td>3337.000000</td>\n",
              "      <td>3337.000000</td>\n",
              "      <td>3337.000000</td>\n",
              "      <td>3337.000000</td>\n",
              "      <td>3337.000000</td>\n",
              "      <td>3337.000000</td>\n",
              "    </tr>\n",
              "    <tr>\n",
              "      <th>mean</th>\n",
              "      <td>14.865057</td>\n",
              "      <td>22.977196</td>\n",
              "      <td>0.868919</td>\n",
              "      <td>5.174396</td>\n",
              "      <td>7.179374</td>\n",
              "      <td>68.238300</td>\n",
              "      <td>54.703353</td>\n",
              "      <td>1018.360271</td>\n",
              "      <td>1016.030446</td>\n",
              "      <td>4.181523</td>\n",
              "      <td>4.218660</td>\n",
              "      <td>17.818813</td>\n",
              "      <td>21.510199</td>\n",
              "      <td>0.259515</td>\n",
              "      <td>0.259215</td>\n",
              "    </tr>\n",
              "    <tr>\n",
              "      <th>std</th>\n",
              "      <td>4.551593</td>\n",
              "      <td>4.409312</td>\n",
              "      <td>1.393618</td>\n",
              "      <td>2.714802</td>\n",
              "      <td>3.801737</td>\n",
              "      <td>15.025889</td>\n",
              "      <td>16.229354</td>\n",
              "      <td>6.946585</td>\n",
              "      <td>6.968893</td>\n",
              "      <td>2.505491</td>\n",
              "      <td>2.409531</td>\n",
              "      <td>4.890985</td>\n",
              "      <td>4.219776</td>\n",
              "      <td>0.438434</td>\n",
              "      <td>0.438269</td>\n",
              "    </tr>\n",
              "    <tr>\n",
              "      <th>min</th>\n",
              "      <td>4.300000</td>\n",
              "      <td>11.700000</td>\n",
              "      <td>0.000000</td>\n",
              "      <td>0.000000</td>\n",
              "      <td>0.000000</td>\n",
              "      <td>25.000000</td>\n",
              "      <td>14.000000</td>\n",
              "      <td>999.850000</td>\n",
              "      <td>997.050000</td>\n",
              "      <td>0.000000</td>\n",
              "      <td>0.000000</td>\n",
              "      <td>6.400000</td>\n",
              "      <td>10.200000</td>\n",
              "      <td>0.000000</td>\n",
              "      <td>0.000000</td>\n",
              "    </tr>\n",
              "    <tr>\n",
              "      <th>25%</th>\n",
              "      <td>11.000000</td>\n",
              "      <td>19.600000</td>\n",
              "      <td>0.000000</td>\n",
              "      <td>3.200000</td>\n",
              "      <td>4.300000</td>\n",
              "      <td>58.000000</td>\n",
              "      <td>44.000000</td>\n",
              "      <td>1013.800000</td>\n",
              "      <td>1011.300000</td>\n",
              "      <td>2.000000</td>\n",
              "      <td>2.000000</td>\n",
              "      <td>13.800000</td>\n",
              "      <td>18.400000</td>\n",
              "      <td>0.000000</td>\n",
              "      <td>0.000000</td>\n",
              "    </tr>\n",
              "    <tr>\n",
              "      <th>50%</th>\n",
              "      <td>14.900000</td>\n",
              "      <td>22.800000</td>\n",
              "      <td>0.000000</td>\n",
              "      <td>4.800000</td>\n",
              "      <td>8.200000</td>\n",
              "      <td>69.000000</td>\n",
              "      <td>56.000000</td>\n",
              "      <td>1018.500000</td>\n",
              "      <td>1016.300000</td>\n",
              "      <td>4.181523</td>\n",
              "      <td>4.218660</td>\n",
              "      <td>18.200000</td>\n",
              "      <td>21.300000</td>\n",
              "      <td>0.000000</td>\n",
              "      <td>0.000000</td>\n",
              "    </tr>\n",
              "    <tr>\n",
              "      <th>75%</th>\n",
              "      <td>18.700000</td>\n",
              "      <td>26.000000</td>\n",
              "      <td>1.400000</td>\n",
              "      <td>7.000000</td>\n",
              "      <td>10.200000</td>\n",
              "      <td>80.000000</td>\n",
              "      <td>64.000000</td>\n",
              "      <td>1023.100000</td>\n",
              "      <td>1020.800000</td>\n",
              "      <td>7.000000</td>\n",
              "      <td>7.000000</td>\n",
              "      <td>21.700000</td>\n",
              "      <td>24.500000</td>\n",
              "      <td>1.000000</td>\n",
              "      <td>1.000000</td>\n",
              "    </tr>\n",
              "    <tr>\n",
              "      <th>max</th>\n",
              "      <td>27.600000</td>\n",
              "      <td>35.600000</td>\n",
              "      <td>3.500000</td>\n",
              "      <td>12.700000</td>\n",
              "      <td>13.600000</td>\n",
              "      <td>100.000000</td>\n",
              "      <td>94.000000</td>\n",
              "      <td>1037.050000</td>\n",
              "      <td>1035.050000</td>\n",
              "      <td>9.000000</td>\n",
              "      <td>8.000000</td>\n",
              "      <td>33.550000</td>\n",
              "      <td>33.650000</td>\n",
              "      <td>1.000000</td>\n",
              "      <td>1.000000</td>\n",
              "    </tr>\n",
              "  </tbody>\n",
              "</table>\n",
              "</div>\n",
              "    <div class=\"colab-df-buttons\">\n",
              "\n",
              "  <div class=\"colab-df-container\">\n",
              "    <button class=\"colab-df-convert\" onclick=\"convertToInteractive('df-9a53a82c-cf51-46a3-b0b8-6d4c9c197920')\"\n",
              "            title=\"Convert this dataframe to an interactive table.\"\n",
              "            style=\"display:none;\">\n",
              "\n",
              "  <svg xmlns=\"http://www.w3.org/2000/svg\" height=\"24px\" viewBox=\"0 -960 960 960\">\n",
              "    <path d=\"M120-120v-720h720v720H120Zm60-500h600v-160H180v160Zm220 220h160v-160H400v160Zm0 220h160v-160H400v160ZM180-400h160v-160H180v160Zm440 0h160v-160H620v160ZM180-180h160v-160H180v160Zm440 0h160v-160H620v160Z\"/>\n",
              "  </svg>\n",
              "    </button>\n",
              "\n",
              "  <style>\n",
              "    .colab-df-container {\n",
              "      display:flex;\n",
              "      gap: 12px;\n",
              "    }\n",
              "\n",
              "    .colab-df-convert {\n",
              "      background-color: #E8F0FE;\n",
              "      border: none;\n",
              "      border-radius: 50%;\n",
              "      cursor: pointer;\n",
              "      display: none;\n",
              "      fill: #1967D2;\n",
              "      height: 32px;\n",
              "      padding: 0 0 0 0;\n",
              "      width: 32px;\n",
              "    }\n",
              "\n",
              "    .colab-df-convert:hover {\n",
              "      background-color: #E2EBFA;\n",
              "      box-shadow: 0px 1px 2px rgba(60, 64, 67, 0.3), 0px 1px 3px 1px rgba(60, 64, 67, 0.15);\n",
              "      fill: #174EA6;\n",
              "    }\n",
              "\n",
              "    .colab-df-buttons div {\n",
              "      margin-bottom: 4px;\n",
              "    }\n",
              "\n",
              "    [theme=dark] .colab-df-convert {\n",
              "      background-color: #3B4455;\n",
              "      fill: #D2E3FC;\n",
              "    }\n",
              "\n",
              "    [theme=dark] .colab-df-convert:hover {\n",
              "      background-color: #434B5C;\n",
              "      box-shadow: 0px 1px 3px 1px rgba(0, 0, 0, 0.15);\n",
              "      filter: drop-shadow(0px 1px 2px rgba(0, 0, 0, 0.3));\n",
              "      fill: #FFFFFF;\n",
              "    }\n",
              "  </style>\n",
              "\n",
              "    <script>\n",
              "      const buttonEl =\n",
              "        document.querySelector('#df-9a53a82c-cf51-46a3-b0b8-6d4c9c197920 button.colab-df-convert');\n",
              "      buttonEl.style.display =\n",
              "        google.colab.kernel.accessAllowed ? 'block' : 'none';\n",
              "\n",
              "      async function convertToInteractive(key) {\n",
              "        const element = document.querySelector('#df-9a53a82c-cf51-46a3-b0b8-6d4c9c197920');\n",
              "        const dataTable =\n",
              "          await google.colab.kernel.invokeFunction('convertToInteractive',\n",
              "                                                    [key], {});\n",
              "        if (!dataTable) return;\n",
              "\n",
              "        const docLinkHtml = 'Like what you see? Visit the ' +\n",
              "          '<a target=\"_blank\" href=https://colab.research.google.com/notebooks/data_table.ipynb>data table notebook</a>'\n",
              "          + ' to learn more about interactive tables.';\n",
              "        element.innerHTML = '';\n",
              "        dataTable['output_type'] = 'display_data';\n",
              "        await google.colab.output.renderOutput(dataTable, element);\n",
              "        const docLink = document.createElement('div');\n",
              "        docLink.innerHTML = docLinkHtml;\n",
              "        element.appendChild(docLink);\n",
              "      }\n",
              "    </script>\n",
              "  </div>\n",
              "\n",
              "\n",
              "<div id=\"df-47e5287c-bf9c-4163-8343-68cb6100b6cf\">\n",
              "  <button class=\"colab-df-quickchart\" onclick=\"quickchart('df-47e5287c-bf9c-4163-8343-68cb6100b6cf')\"\n",
              "            title=\"Suggest charts\"\n",
              "            style=\"display:none;\">\n",
              "\n",
              "<svg xmlns=\"http://www.w3.org/2000/svg\" height=\"24px\"viewBox=\"0 0 24 24\"\n",
              "     width=\"24px\">\n",
              "    <g>\n",
              "        <path d=\"M19 3H5c-1.1 0-2 .9-2 2v14c0 1.1.9 2 2 2h14c1.1 0 2-.9 2-2V5c0-1.1-.9-2-2-2zM9 17H7v-7h2v7zm4 0h-2V7h2v10zm4 0h-2v-4h2v4z\"/>\n",
              "    </g>\n",
              "</svg>\n",
              "  </button>\n",
              "\n",
              "<style>\n",
              "  .colab-df-quickchart {\n",
              "      --bg-color: #E8F0FE;\n",
              "      --fill-color: #1967D2;\n",
              "      --hover-bg-color: #E2EBFA;\n",
              "      --hover-fill-color: #174EA6;\n",
              "      --disabled-fill-color: #AAA;\n",
              "      --disabled-bg-color: #DDD;\n",
              "  }\n",
              "\n",
              "  [theme=dark] .colab-df-quickchart {\n",
              "      --bg-color: #3B4455;\n",
              "      --fill-color: #D2E3FC;\n",
              "      --hover-bg-color: #434B5C;\n",
              "      --hover-fill-color: #FFFFFF;\n",
              "      --disabled-bg-color: #3B4455;\n",
              "      --disabled-fill-color: #666;\n",
              "  }\n",
              "\n",
              "  .colab-df-quickchart {\n",
              "    background-color: var(--bg-color);\n",
              "    border: none;\n",
              "    border-radius: 50%;\n",
              "    cursor: pointer;\n",
              "    display: none;\n",
              "    fill: var(--fill-color);\n",
              "    height: 32px;\n",
              "    padding: 0;\n",
              "    width: 32px;\n",
              "  }\n",
              "\n",
              "  .colab-df-quickchart:hover {\n",
              "    background-color: var(--hover-bg-color);\n",
              "    box-shadow: 0 1px 2px rgba(60, 64, 67, 0.3), 0 1px 3px 1px rgba(60, 64, 67, 0.15);\n",
              "    fill: var(--button-hover-fill-color);\n",
              "  }\n",
              "\n",
              "  .colab-df-quickchart-complete:disabled,\n",
              "  .colab-df-quickchart-complete:disabled:hover {\n",
              "    background-color: var(--disabled-bg-color);\n",
              "    fill: var(--disabled-fill-color);\n",
              "    box-shadow: none;\n",
              "  }\n",
              "\n",
              "  .colab-df-spinner {\n",
              "    border: 2px solid var(--fill-color);\n",
              "    border-color: transparent;\n",
              "    border-bottom-color: var(--fill-color);\n",
              "    animation:\n",
              "      spin 1s steps(1) infinite;\n",
              "  }\n",
              "\n",
              "  @keyframes spin {\n",
              "    0% {\n",
              "      border-color: transparent;\n",
              "      border-bottom-color: var(--fill-color);\n",
              "      border-left-color: var(--fill-color);\n",
              "    }\n",
              "    20% {\n",
              "      border-color: transparent;\n",
              "      border-left-color: var(--fill-color);\n",
              "      border-top-color: var(--fill-color);\n",
              "    }\n",
              "    30% {\n",
              "      border-color: transparent;\n",
              "      border-left-color: var(--fill-color);\n",
              "      border-top-color: var(--fill-color);\n",
              "      border-right-color: var(--fill-color);\n",
              "    }\n",
              "    40% {\n",
              "      border-color: transparent;\n",
              "      border-right-color: var(--fill-color);\n",
              "      border-top-color: var(--fill-color);\n",
              "    }\n",
              "    60% {\n",
              "      border-color: transparent;\n",
              "      border-right-color: var(--fill-color);\n",
              "    }\n",
              "    80% {\n",
              "      border-color: transparent;\n",
              "      border-right-color: var(--fill-color);\n",
              "      border-bottom-color: var(--fill-color);\n",
              "    }\n",
              "    90% {\n",
              "      border-color: transparent;\n",
              "      border-bottom-color: var(--fill-color);\n",
              "    }\n",
              "  }\n",
              "</style>\n",
              "\n",
              "  <script>\n",
              "    async function quickchart(key) {\n",
              "      const quickchartButtonEl =\n",
              "        document.querySelector('#' + key + ' button');\n",
              "      quickchartButtonEl.disabled = true;  // To prevent multiple clicks.\n",
              "      quickchartButtonEl.classList.add('colab-df-spinner');\n",
              "      try {\n",
              "        const charts = await google.colab.kernel.invokeFunction(\n",
              "            'suggestCharts', [key], {});\n",
              "      } catch (error) {\n",
              "        console.error('Error during call to suggestCharts:', error);\n",
              "      }\n",
              "      quickchartButtonEl.classList.remove('colab-df-spinner');\n",
              "      quickchartButtonEl.classList.add('colab-df-quickchart-complete');\n",
              "    }\n",
              "    (() => {\n",
              "      let quickchartButtonEl =\n",
              "        document.querySelector('#df-47e5287c-bf9c-4163-8343-68cb6100b6cf button');\n",
              "      quickchartButtonEl.style.display =\n",
              "        google.colab.kernel.accessAllowed ? 'block' : 'none';\n",
              "    })();\n",
              "  </script>\n",
              "</div>\n",
              "\n",
              "    </div>\n",
              "  </div>\n"
            ],
            "application/vnd.google.colaboratory.intrinsic+json": {
              "type": "dataframe",
              "summary": "{\n  \"name\": \"df\",\n  \"rows\": 8,\n  \"fields\": [\n    {\n      \"column\": \"MinTemp\",\n      \"properties\": {\n        \"dtype\": \"number\",\n        \"std\": 1174.987479926546,\n        \"min\": 4.3,\n        \"max\": 3337.0,\n        \"num_unique_values\": 8,\n        \"samples\": [\n          14.86505698860228,\n          14.9,\n          3337.0\n        ],\n        \"semantic_type\": \"\",\n        \"description\": \"\"\n      }\n    },\n    {\n      \"column\": \"MaxTemp\",\n      \"properties\": {\n        \"dtype\": \"number\",\n        \"std\": 1172.61766880883,\n        \"min\": 4.409311829122428,\n        \"max\": 3337.0,\n        \"num_unique_values\": 8,\n        \"samples\": [\n          22.977196487162477,\n          22.8,\n          3337.0\n        ],\n        \"semantic_type\": \"\",\n        \"description\": \"\"\n      }\n    },\n    {\n      \"column\": \"Rainfall\",\n      \"properties\": {\n        \"dtype\": \"number\",\n        \"std\": 1179.4464817585288,\n        \"min\": 0.0,\n        \"max\": 3337.0,\n        \"num_unique_values\": 6,\n        \"samples\": [\n          3337.0,\n          0.8689186056250763,\n          3.4999999999999996\n        ],\n        \"semantic_type\": \"\",\n        \"description\": \"\"\n      }\n    },\n    {\n      \"column\": \"Evaporation\",\n      \"properties\": {\n        \"dtype\": \"number\",\n        \"std\": 1178.0160062767898,\n        \"min\": 0.0,\n        \"max\": 3337.0,\n        \"num_unique_values\": 8,\n        \"samples\": [\n          5.1743958669200945,\n          4.8,\n          3337.0\n        ],\n        \"semantic_type\": \"\",\n        \"description\": \"\"\n      }\n    },\n    {\n      \"column\": \"Sunshine\",\n      \"properties\": {\n        \"dtype\": \"number\",\n        \"std\": 1177.4269705892964,\n        \"min\": 0.0,\n        \"max\": 3337.0,\n        \"num_unique_values\": 8,\n        \"samples\": [\n          7.179373682625714,\n          8.2,\n          3337.0\n        ],\n        \"semantic_type\": \"\",\n        \"description\": \"\"\n      }\n    },\n    {\n      \"column\": \"Humidity9am\",\n      \"properties\": {\n        \"dtype\": \"number\",\n        \"std\": 1159.1662906023428,\n        \"min\": 15.025889297269048,\n        \"max\": 3337.0,\n        \"num_unique_values\": 8,\n        \"samples\": [\n          68.23829971202606,\n          69.0,\n          3337.0\n        ],\n        \"semantic_type\": \"\",\n        \"description\": \"\"\n      }\n    },\n    {\n      \"column\": \"Humidity3pm\",\n      \"properties\": {\n        \"dtype\": \"number\",\n        \"std\": 1162.772963799827,\n        \"min\": 14.0,\n        \"max\": 3337.0,\n        \"num_unique_values\": 8,\n        \"samples\": [\n          54.70335302647233,\n          56.0,\n          3337.0\n        ],\n        \"semantic_type\": \"\",\n        \"description\": \"\"\n      }\n    },\n    {\n      \"column\": \"Pressure9am\",\n      \"properties\": {\n        \"dtype\": \"number\",\n        \"std\": 940.0619334402384,\n        \"min\": 6.946585254585524,\n        \"max\": 3337.0,\n        \"num_unique_values\": 8,\n        \"samples\": [\n          1018.360270639288,\n          1018.5,\n          3337.0\n        ],\n        \"semantic_type\": \"\",\n        \"description\": \"\"\n      }\n    },\n    {\n      \"column\": \"Pressure3pm\",\n      \"properties\": {\n        \"dtype\": \"number\",\n        \"std\": 940.4117780136517,\n        \"min\": 6.968893355448495,\n        \"max\": 3337.0,\n        \"num_unique_values\": 8,\n        \"samples\": [\n          1016.0304461208403,\n          1016.3,\n          3337.0\n        ],\n        \"semantic_type\": \"\",\n        \"description\": \"\"\n      }\n    },\n    {\n      \"column\": \"Cloud9am\",\n      \"properties\": {\n        \"dtype\": \"number\",\n        \"std\": 1178.3529892955944,\n        \"min\": 0.0,\n        \"max\": 3337.0,\n        \"num_unique_values\": 7,\n        \"samples\": [\n          3337.0,\n          4.181522915914832,\n          7.0\n        ],\n        \"semantic_type\": \"\",\n        \"description\": \"\"\n      }\n    },\n    {\n      \"column\": \"Cloud3pm\",\n      \"properties\": {\n        \"dtype\": \"number\",\n        \"std\": 1178.4040726569312,\n        \"min\": 0.0,\n        \"max\": 3337.0,\n        \"num_unique_values\": 8,\n        \"samples\": [\n          4.218659942363112,\n          4.218659942363113,\n          3337.0\n        ],\n        \"semantic_type\": \"\",\n        \"description\": \"\"\n      }\n    },\n    {\n      \"column\": \"Temp9am\",\n      \"properties\": {\n        \"dtype\": \"number\",\n        \"std\": 1173.965065647771,\n        \"min\": 4.890984999173682,\n        \"max\": 3337.0,\n        \"num_unique_values\": 8,\n        \"samples\": [\n          17.818812996073355,\n          18.2,\n          3337.0\n        ],\n        \"semantic_type\": \"\",\n        \"description\": \"\"\n      }\n    },\n    {\n      \"column\": \"Temp3pm\",\n      \"properties\": {\n        \"dtype\": \"number\",\n        \"std\": 1173.0844052745938,\n        \"min\": 4.2197762375012475,\n        \"max\": 3337.0,\n        \"num_unique_values\": 8,\n        \"samples\": [\n          21.510198781340524,\n          21.3,\n          3337.0\n        ],\n        \"semantic_type\": \"\",\n        \"description\": \"\"\n      }\n    },\n    {\n      \"column\": \"RainToday_Yes\",\n      \"properties\": {\n        \"dtype\": \"number\",\n        \"std\": 1179.6714712863488,\n        \"min\": 0.0,\n        \"max\": 3337.0,\n        \"num_unique_values\": 5,\n        \"samples\": [\n          0.2595145340125862,\n          1.0,\n          0.4384339683325869\n        ],\n        \"semantic_type\": \"\",\n        \"description\": \"\"\n      }\n    },\n    {\n      \"column\": \"RainTomorrow_Yes\",\n      \"properties\": {\n        \"dtype\": \"number\",\n        \"std\": 1179.6714947367777,\n        \"min\": 0.0,\n        \"max\": 3337.0,\n        \"num_unique_values\": 5,\n        \"samples\": [\n          0.25921486364998503,\n          1.0,\n          0.4382694135115672\n        ],\n        \"semantic_type\": \"\",\n        \"description\": \"\"\n      }\n    }\n  ]\n}"
            }
          },
          "metadata": {},
          "execution_count": 16
        }
      ]
    },
    {
      "cell_type": "markdown",
      "source": [
        "After outlier treatment its seems no outliers"
      ],
      "metadata": {
        "id": "3XCVune_Tf_S"
      }
    },
    {
      "cell_type": "markdown",
      "source": [
        "**Now spliting whole data into training and test set in 80:20 ratio**"
      ],
      "metadata": {
        "id": "VVJ91k2ZTyL-"
      }
    },
    {
      "cell_type": "code",
      "source": [
        "from sklearn.model_selection import train_test_split"
      ],
      "metadata": {
        "id": "yhVcrX06UkQl"
      },
      "execution_count": 17,
      "outputs": []
    },
    {
      "cell_type": "code",
      "source": [
        "#in y_mul take dependent variable i.e RainTomorrow_Yes and  x_mul take all the variables except RainTomorrow_Yes\n",
        "x_mul = df.drop(['RainTomorrow_Yes'], axis=1)\n",
        "y_mul = df['RainTomorrow_Yes']"
      ],
      "metadata": {
        "id": "w9c9aMw2TZFN"
      },
      "execution_count": 18,
      "outputs": []
    },
    {
      "cell_type": "code",
      "source": [
        "x_train, x_test, y_train, y_test = train_test_split(x_mul, y_mul, test_size=0.2, random_state=42)"
      ],
      "metadata": {
        "id": "pEEGSGcaUabS"
      },
      "execution_count": 19,
      "outputs": []
    },
    {
      "cell_type": "code",
      "source": [
        "#finding the shape\n",
        "x_train.shape,x_test.shape"
      ],
      "metadata": {
        "colab": {
          "base_uri": "https://localhost:8080/"
        },
        "id": "PCIDT34IUaPM",
        "outputId": "e35d6ca0-1100-4f8d-c85b-09aae7c025b2"
      },
      "execution_count": 20,
      "outputs": [
        {
          "output_type": "execute_result",
          "data": {
            "text/plain": [
              "((2669, 14), (668, 14))"
            ]
          },
          "metadata": {},
          "execution_count": 20
        }
      ]
    },
    {
      "cell_type": "markdown",
      "source": [
        "**Logistic Regression**"
      ],
      "metadata": {
        "id": "ga7psgBnvrlN"
      }
    },
    {
      "cell_type": "code",
      "source": [
        "#logistic using sklearn_model\n",
        "from sklearn.linear_model import LogisticRegression\n",
        "from sklearn.metrics import accuracy_score, confusion_matrix, roc_auc_score, precision_score, recall_score"
      ],
      "metadata": {
        "id": "dyGF5p7Tw-EY"
      },
      "execution_count": 21,
      "outputs": []
    },
    {
      "cell_type": "code",
      "source": [
        "#fitting the train dataset into logistic model\n",
        "clf_lr=LogisticRegression()\n",
        "clf_lr.fit(x_train,y_train)"
      ],
      "metadata": {
        "colab": {
          "base_uri": "https://localhost:8080/",
          "height": 233
        },
        "id": "ZWx-c-7OvqpG",
        "outputId": "c7dc8901-7103-4d78-e5fe-ddb4060f0fe6"
      },
      "execution_count": 22,
      "outputs": [
        {
          "output_type": "stream",
          "name": "stderr",
          "text": [
            "/usr/local/lib/python3.10/dist-packages/sklearn/linear_model/_logistic.py:458: ConvergenceWarning: lbfgs failed to converge (status=1):\n",
            "STOP: TOTAL NO. of ITERATIONS REACHED LIMIT.\n",
            "\n",
            "Increase the number of iterations (max_iter) or scale the data as shown in:\n",
            "    https://scikit-learn.org/stable/modules/preprocessing.html\n",
            "Please also refer to the documentation for alternative solver options:\n",
            "    https://scikit-learn.org/stable/modules/linear_model.html#logistic-regression\n",
            "  n_iter_i = _check_optimize_result(\n"
          ]
        },
        {
          "output_type": "execute_result",
          "data": {
            "text/plain": [
              "LogisticRegression()"
            ],
            "text/html": [
              "<style>#sk-container-id-1 {color: black;background-color: white;}#sk-container-id-1 pre{padding: 0;}#sk-container-id-1 div.sk-toggleable {background-color: white;}#sk-container-id-1 label.sk-toggleable__label {cursor: pointer;display: block;width: 100%;margin-bottom: 0;padding: 0.3em;box-sizing: border-box;text-align: center;}#sk-container-id-1 label.sk-toggleable__label-arrow:before {content: \"▸\";float: left;margin-right: 0.25em;color: #696969;}#sk-container-id-1 label.sk-toggleable__label-arrow:hover:before {color: black;}#sk-container-id-1 div.sk-estimator:hover label.sk-toggleable__label-arrow:before {color: black;}#sk-container-id-1 div.sk-toggleable__content {max-height: 0;max-width: 0;overflow: hidden;text-align: left;background-color: #f0f8ff;}#sk-container-id-1 div.sk-toggleable__content pre {margin: 0.2em;color: black;border-radius: 0.25em;background-color: #f0f8ff;}#sk-container-id-1 input.sk-toggleable__control:checked~div.sk-toggleable__content {max-height: 200px;max-width: 100%;overflow: auto;}#sk-container-id-1 input.sk-toggleable__control:checked~label.sk-toggleable__label-arrow:before {content: \"▾\";}#sk-container-id-1 div.sk-estimator input.sk-toggleable__control:checked~label.sk-toggleable__label {background-color: #d4ebff;}#sk-container-id-1 div.sk-label input.sk-toggleable__control:checked~label.sk-toggleable__label {background-color: #d4ebff;}#sk-container-id-1 input.sk-hidden--visually {border: 0;clip: rect(1px 1px 1px 1px);clip: rect(1px, 1px, 1px, 1px);height: 1px;margin: -1px;overflow: hidden;padding: 0;position: absolute;width: 1px;}#sk-container-id-1 div.sk-estimator {font-family: monospace;background-color: #f0f8ff;border: 1px dotted black;border-radius: 0.25em;box-sizing: border-box;margin-bottom: 0.5em;}#sk-container-id-1 div.sk-estimator:hover {background-color: #d4ebff;}#sk-container-id-1 div.sk-parallel-item::after {content: \"\";width: 100%;border-bottom: 1px solid gray;flex-grow: 1;}#sk-container-id-1 div.sk-label:hover label.sk-toggleable__label {background-color: #d4ebff;}#sk-container-id-1 div.sk-serial::before {content: \"\";position: absolute;border-left: 1px solid gray;box-sizing: border-box;top: 0;bottom: 0;left: 50%;z-index: 0;}#sk-container-id-1 div.sk-serial {display: flex;flex-direction: column;align-items: center;background-color: white;padding-right: 0.2em;padding-left: 0.2em;position: relative;}#sk-container-id-1 div.sk-item {position: relative;z-index: 1;}#sk-container-id-1 div.sk-parallel {display: flex;align-items: stretch;justify-content: center;background-color: white;position: relative;}#sk-container-id-1 div.sk-item::before, #sk-container-id-1 div.sk-parallel-item::before {content: \"\";position: absolute;border-left: 1px solid gray;box-sizing: border-box;top: 0;bottom: 0;left: 50%;z-index: -1;}#sk-container-id-1 div.sk-parallel-item {display: flex;flex-direction: column;z-index: 1;position: relative;background-color: white;}#sk-container-id-1 div.sk-parallel-item:first-child::after {align-self: flex-end;width: 50%;}#sk-container-id-1 div.sk-parallel-item:last-child::after {align-self: flex-start;width: 50%;}#sk-container-id-1 div.sk-parallel-item:only-child::after {width: 0;}#sk-container-id-1 div.sk-dashed-wrapped {border: 1px dashed gray;margin: 0 0.4em 0.5em 0.4em;box-sizing: border-box;padding-bottom: 0.4em;background-color: white;}#sk-container-id-1 div.sk-label label {font-family: monospace;font-weight: bold;display: inline-block;line-height: 1.2em;}#sk-container-id-1 div.sk-label-container {text-align: center;}#sk-container-id-1 div.sk-container {/* jupyter's `normalize.less` sets `[hidden] { display: none; }` but bootstrap.min.css set `[hidden] { display: none !important; }` so we also need the `!important` here to be able to override the default hidden behavior on the sphinx rendered scikit-learn.org. See: https://github.com/scikit-learn/scikit-learn/issues/21755 */display: inline-block !important;position: relative;}#sk-container-id-1 div.sk-text-repr-fallback {display: none;}</style><div id=\"sk-container-id-1\" class=\"sk-top-container\"><div class=\"sk-text-repr-fallback\"><pre>LogisticRegression()</pre><b>In a Jupyter environment, please rerun this cell to show the HTML representation or trust the notebook. <br />On GitHub, the HTML representation is unable to render, please try loading this page with nbviewer.org.</b></div><div class=\"sk-container\" hidden><div class=\"sk-item\"><div class=\"sk-estimator sk-toggleable\"><input class=\"sk-toggleable__control sk-hidden--visually\" id=\"sk-estimator-id-1\" type=\"checkbox\" checked><label for=\"sk-estimator-id-1\" class=\"sk-toggleable__label sk-toggleable__label-arrow\">LogisticRegression</label><div class=\"sk-toggleable__content\"><pre>LogisticRegression()</pre></div></div></div></div></div>"
            ]
          },
          "metadata": {},
          "execution_count": 22
        }
      ]
    },
    {
      "cell_type": "code",
      "source": [
        "#cefficient\n",
        "clf_lr.coef_"
      ],
      "metadata": {
        "colab": {
          "base_uri": "https://localhost:8080/"
        },
        "id": "RAc_ur21xN07",
        "outputId": "5115065e-5bce-4ca0-d013-28fe92a0e0e6"
      },
      "execution_count": 23,
      "outputs": [
        {
          "output_type": "execute_result",
          "data": {
            "text/plain": [
              "array([[-0.17039826,  0.13001563,  0.29529357,  0.09665675, -0.23698952,\n",
              "         0.00689342,  0.0532069 , -0.07590863,  0.07142259, -0.07470856,\n",
              "         0.11656833,  0.04667259, -0.03331876,  0.0791022 ]])"
            ]
          },
          "metadata": {},
          "execution_count": 23
        }
      ]
    },
    {
      "cell_type": "code",
      "source": [
        "#finding the intercept value\n",
        "clf_lr.intercept_"
      ],
      "metadata": {
        "colab": {
          "base_uri": "https://localhost:8080/"
        },
        "id": "2pxVVRKIxSvJ",
        "outputId": "cad15569-9259-44de-8d08-a447758d67d5"
      },
      "execution_count": 24,
      "outputs": [
        {
          "output_type": "execute_result",
          "data": {
            "text/plain": [
              "array([0.00169256])"
            ]
          },
          "metadata": {},
          "execution_count": 24
        }
      ]
    },
    {
      "cell_type": "code",
      "source": [
        "import statsmodels.discrete.discrete_model as sm\n",
        "#using stats model :drawback is  it doesnot take as constants defaulty beta0=0\n",
        "import statsmodels.api as sn\n",
        "#using stat model\n",
        "x_cons_train=sn.add_constant(x_train)\n",
        "logit=sm.Logit(y_train,x_cons_train).fit()"
      ],
      "metadata": {
        "colab": {
          "base_uri": "https://localhost:8080/"
        },
        "id": "AAMyHyqIxjKo",
        "outputId": "011205f7-c502-40bf-e83d-349f7ea35aff"
      },
      "execution_count": 25,
      "outputs": [
        {
          "output_type": "stream",
          "name": "stdout",
          "text": [
            "Optimization terminated successfully.\n",
            "         Current function value: 0.380122\n",
            "         Iterations 7\n"
          ]
        }
      ]
    },
    {
      "cell_type": "code",
      "source": [
        "logit.summary()"
      ],
      "metadata": {
        "colab": {
          "base_uri": "https://localhost:8080/",
          "height": 530
        },
        "id": "C_VQeiAPyH_W",
        "outputId": "3cfdd48d-c938-4db5-e349-eae27b11a8ac"
      },
      "execution_count": 26,
      "outputs": [
        {
          "output_type": "execute_result",
          "data": {
            "text/plain": [
              "<class 'statsmodels.iolib.summary.Summary'>\n",
              "\"\"\"\n",
              "                           Logit Regression Results                           \n",
              "==============================================================================\n",
              "Dep. Variable:       RainTomorrow_Yes   No. Observations:                 2669\n",
              "Model:                          Logit   Df Residuals:                     2654\n",
              "Method:                           MLE   Df Model:                           14\n",
              "Date:                Fri, 14 Jun 2024   Pseudo R-squ.:                  0.3307\n",
              "Time:                        07:26:27   Log-Likelihood:                -1014.5\n",
              "converged:                       True   LL-Null:                       -1515.8\n",
              "Covariance Type:            nonrobust   LLR p-value:                4.579e-205\n",
              "=================================================================================\n",
              "                    coef    std err          z      P>|z|      [0.025      0.975]\n",
              "---------------------------------------------------------------------------------\n",
              "const            34.5772      9.645      3.585      0.000      15.673      53.481\n",
              "MinTemp          -0.2395      0.055     -4.374      0.000      -0.347      -0.132\n",
              "MaxTemp           0.1032      0.051      2.027      0.043       0.003       0.203\n",
              "Rainfall          0.3566      0.120      2.974      0.003       0.122       0.592\n",
              "Evaporation       0.0791      0.029      2.718      0.007       0.022       0.136\n",
              "Sunshine         -0.2423      0.026     -9.423      0.000      -0.293      -0.192\n",
              "Humidity9am       0.0138      0.008      1.786      0.074      -0.001       0.029\n",
              "Humidity3pm       0.0534      0.008      7.108      0.000       0.039       0.068\n",
              "Pressure9am      -0.1088      0.035     -3.107      0.002      -0.177      -0.040\n",
              "Pressure3pm       0.0704      0.034      2.082      0.037       0.004       0.137\n",
              "Cloud9am         -0.0601      0.034     -1.771      0.077      -0.127       0.006\n",
              "Cloud3pm          0.0924      0.036      2.601      0.009       0.023       0.162\n",
              "Temp9am           0.1203      0.058      2.080      0.038       0.007       0.234\n",
              "Temp3pm          -0.0331      0.058     -0.568      0.570      -0.147       0.081\n",
              "RainToday_Yes    -0.2387      0.376     -0.635      0.525      -0.976       0.498\n",
              "=================================================================================\n",
              "\"\"\""
            ],
            "text/html": [
              "<table class=\"simpletable\">\n",
              "<caption>Logit Regression Results</caption>\n",
              "<tr>\n",
              "  <th>Dep. Variable:</th>   <td>RainTomorrow_Yes</td> <th>  No. Observations:  </th>   <td>  2669</td>  \n",
              "</tr>\n",
              "<tr>\n",
              "  <th>Model:</th>                 <td>Logit</td>      <th>  Df Residuals:      </th>   <td>  2654</td>  \n",
              "</tr>\n",
              "<tr>\n",
              "  <th>Method:</th>                 <td>MLE</td>       <th>  Df Model:          </th>   <td>    14</td>  \n",
              "</tr>\n",
              "<tr>\n",
              "  <th>Date:</th>            <td>Fri, 14 Jun 2024</td> <th>  Pseudo R-squ.:     </th>   <td>0.3307</td>  \n",
              "</tr>\n",
              "<tr>\n",
              "  <th>Time:</th>                <td>07:26:27</td>     <th>  Log-Likelihood:    </th>  <td> -1014.5</td> \n",
              "</tr>\n",
              "<tr>\n",
              "  <th>converged:</th>             <td>True</td>       <th>  LL-Null:           </th>  <td> -1515.8</td> \n",
              "</tr>\n",
              "<tr>\n",
              "  <th>Covariance Type:</th>     <td>nonrobust</td>    <th>  LLR p-value:       </th> <td>4.579e-205</td>\n",
              "</tr>\n",
              "</table>\n",
              "<table class=\"simpletable\">\n",
              "<tr>\n",
              "        <td></td>           <th>coef</th>     <th>std err</th>      <th>z</th>      <th>P>|z|</th>  <th>[0.025</th>    <th>0.975]</th>  \n",
              "</tr>\n",
              "<tr>\n",
              "  <th>const</th>         <td>   34.5772</td> <td>    9.645</td> <td>    3.585</td> <td> 0.000</td> <td>   15.673</td> <td>   53.481</td>\n",
              "</tr>\n",
              "<tr>\n",
              "  <th>MinTemp</th>       <td>   -0.2395</td> <td>    0.055</td> <td>   -4.374</td> <td> 0.000</td> <td>   -0.347</td> <td>   -0.132</td>\n",
              "</tr>\n",
              "<tr>\n",
              "  <th>MaxTemp</th>       <td>    0.1032</td> <td>    0.051</td> <td>    2.027</td> <td> 0.043</td> <td>    0.003</td> <td>    0.203</td>\n",
              "</tr>\n",
              "<tr>\n",
              "  <th>Rainfall</th>      <td>    0.3566</td> <td>    0.120</td> <td>    2.974</td> <td> 0.003</td> <td>    0.122</td> <td>    0.592</td>\n",
              "</tr>\n",
              "<tr>\n",
              "  <th>Evaporation</th>   <td>    0.0791</td> <td>    0.029</td> <td>    2.718</td> <td> 0.007</td> <td>    0.022</td> <td>    0.136</td>\n",
              "</tr>\n",
              "<tr>\n",
              "  <th>Sunshine</th>      <td>   -0.2423</td> <td>    0.026</td> <td>   -9.423</td> <td> 0.000</td> <td>   -0.293</td> <td>   -0.192</td>\n",
              "</tr>\n",
              "<tr>\n",
              "  <th>Humidity9am</th>   <td>    0.0138</td> <td>    0.008</td> <td>    1.786</td> <td> 0.074</td> <td>   -0.001</td> <td>    0.029</td>\n",
              "</tr>\n",
              "<tr>\n",
              "  <th>Humidity3pm</th>   <td>    0.0534</td> <td>    0.008</td> <td>    7.108</td> <td> 0.000</td> <td>    0.039</td> <td>    0.068</td>\n",
              "</tr>\n",
              "<tr>\n",
              "  <th>Pressure9am</th>   <td>   -0.1088</td> <td>    0.035</td> <td>   -3.107</td> <td> 0.002</td> <td>   -0.177</td> <td>   -0.040</td>\n",
              "</tr>\n",
              "<tr>\n",
              "  <th>Pressure3pm</th>   <td>    0.0704</td> <td>    0.034</td> <td>    2.082</td> <td> 0.037</td> <td>    0.004</td> <td>    0.137</td>\n",
              "</tr>\n",
              "<tr>\n",
              "  <th>Cloud9am</th>      <td>   -0.0601</td> <td>    0.034</td> <td>   -1.771</td> <td> 0.077</td> <td>   -0.127</td> <td>    0.006</td>\n",
              "</tr>\n",
              "<tr>\n",
              "  <th>Cloud3pm</th>      <td>    0.0924</td> <td>    0.036</td> <td>    2.601</td> <td> 0.009</td> <td>    0.023</td> <td>    0.162</td>\n",
              "</tr>\n",
              "<tr>\n",
              "  <th>Temp9am</th>       <td>    0.1203</td> <td>    0.058</td> <td>    2.080</td> <td> 0.038</td> <td>    0.007</td> <td>    0.234</td>\n",
              "</tr>\n",
              "<tr>\n",
              "  <th>Temp3pm</th>       <td>   -0.0331</td> <td>    0.058</td> <td>   -0.568</td> <td> 0.570</td> <td>   -0.147</td> <td>    0.081</td>\n",
              "</tr>\n",
              "<tr>\n",
              "  <th>RainToday_Yes</th> <td>   -0.2387</td> <td>    0.376</td> <td>   -0.635</td> <td> 0.525</td> <td>   -0.976</td> <td>    0.498</td>\n",
              "</tr>\n",
              "</table>"
            ],
            "text/latex": "\\begin{center}\n\\begin{tabular}{lclc}\n\\toprule\n\\textbf{Dep. Variable:}   & RainTomorrow\\_Yes & \\textbf{  No. Observations:  } &     2669    \\\\\n\\textbf{Model:}           &       Logit       & \\textbf{  Df Residuals:      } &     2654    \\\\\n\\textbf{Method:}          &        MLE        & \\textbf{  Df Model:          } &       14    \\\\\n\\textbf{Date:}            &  Fri, 14 Jun 2024 & \\textbf{  Pseudo R-squ.:     } &   0.3307    \\\\\n\\textbf{Time:}            &      07:26:27     & \\textbf{  Log-Likelihood:    } &   -1014.5   \\\\\n\\textbf{converged:}       &        True       & \\textbf{  LL-Null:           } &   -1515.8   \\\\\n\\textbf{Covariance Type:} &     nonrobust     & \\textbf{  LLR p-value:       } & 4.579e-205  \\\\\n\\bottomrule\n\\end{tabular}\n\\begin{tabular}{lcccccc}\n                        & \\textbf{coef} & \\textbf{std err} & \\textbf{z} & \\textbf{P$> |$z$|$} & \\textbf{[0.025} & \\textbf{0.975]}  \\\\\n\\midrule\n\\textbf{const}          &      34.5772  &        9.645     &     3.585  &         0.000        &       15.673    &       53.481     \\\\\n\\textbf{MinTemp}        &      -0.2395  &        0.055     &    -4.374  &         0.000        &       -0.347    &       -0.132     \\\\\n\\textbf{MaxTemp}        &       0.1032  &        0.051     &     2.027  &         0.043        &        0.003    &        0.203     \\\\\n\\textbf{Rainfall}       &       0.3566  &        0.120     &     2.974  &         0.003        &        0.122    &        0.592     \\\\\n\\textbf{Evaporation}    &       0.0791  &        0.029     &     2.718  &         0.007        &        0.022    &        0.136     \\\\\n\\textbf{Sunshine}       &      -0.2423  &        0.026     &    -9.423  &         0.000        &       -0.293    &       -0.192     \\\\\n\\textbf{Humidity9am}    &       0.0138  &        0.008     &     1.786  &         0.074        &       -0.001    &        0.029     \\\\\n\\textbf{Humidity3pm}    &       0.0534  &        0.008     &     7.108  &         0.000        &        0.039    &        0.068     \\\\\n\\textbf{Pressure9am}    &      -0.1088  &        0.035     &    -3.107  &         0.002        &       -0.177    &       -0.040     \\\\\n\\textbf{Pressure3pm}    &       0.0704  &        0.034     &     2.082  &         0.037        &        0.004    &        0.137     \\\\\n\\textbf{Cloud9am}       &      -0.0601  &        0.034     &    -1.771  &         0.077        &       -0.127    &        0.006     \\\\\n\\textbf{Cloud3pm}       &       0.0924  &        0.036     &     2.601  &         0.009        &        0.023    &        0.162     \\\\\n\\textbf{Temp9am}        &       0.1203  &        0.058     &     2.080  &         0.038        &        0.007    &        0.234     \\\\\n\\textbf{Temp3pm}        &      -0.0331  &        0.058     &    -0.568  &         0.570        &       -0.147    &        0.081     \\\\\n\\textbf{RainToday\\_Yes} &      -0.2387  &        0.376     &    -0.635  &         0.525        &       -0.976    &        0.498     \\\\\n\\bottomrule\n\\end{tabular}\n%\\caption{Logit Regression Results}\n\\end{center}"
          },
          "metadata": {},
          "execution_count": 26
        }
      ]
    },
    {
      "cell_type": "markdown",
      "source": [
        "#### Predicting the values of x_train and x_test"
      ],
      "metadata": {
        "id": "VvmJSIrRutH5"
      }
    },
    {
      "cell_type": "code",
      "source": [
        "y_pred_train_lr=clf_lr.predict(x_train)\n",
        "y_pred_test_lr=clf_lr.predict(x_test)"
      ],
      "metadata": {
        "id": "VaHhuKvcym0D"
      },
      "execution_count": 27,
      "outputs": []
    },
    {
      "cell_type": "markdown",
      "source": [
        "#### Model Performance"
      ],
      "metadata": {
        "id": "9VLaTI96u56M"
      }
    },
    {
      "cell_type": "code",
      "source": [
        "# Model Performance\n",
        "cfm_train_lr = confusion_matrix(y_train, y_pred_train_lr)\n",
        "cfm_test_lr = confusion_matrix(y_test, y_pred_test_lr)\n",
        "acs_train_lr = accuracy_score(y_train, y_pred_train_lr)\n",
        "acs_test_lr = accuracy_score(y_test, y_pred_test_lr)\n",
        "pcs_train_lr = precision_score(y_train, y_pred_train_lr)\n",
        "pcs_test_lr = precision_score(y_test, y_pred_test_lr)\n",
        "rcs_train_lr = recall_score(y_train, y_pred_train_lr)\n",
        "rcs_test_lr = recall_score(y_test, y_pred_test_lr)\n",
        "roc_auc_score_train_lr = roc_auc_score(y_train, y_pred_train_lr)\n",
        "roc_auc_score_test_lr = roc_auc_score(y_test, y_pred_test_lr)"
      ],
      "metadata": {
        "id": "UqOiZFY_y0mL"
      },
      "execution_count": 28,
      "outputs": []
    },
    {
      "cell_type": "markdown",
      "source": [
        "#### Printing the results"
      ],
      "metadata": {
        "id": "ZfA0B6sNvA9i"
      }
    },
    {
      "cell_type": "code",
      "source": [
        "# Print the results for Logistic Regression Model\n",
        "print(\"Logistic Regression Results:\")\n",
        "print(\"Confusion Matrix (Training Data):\")\n",
        "print(cfm_train_lr)\n",
        "print(\"\\nAccuracy Score (Training Data):\", acs_train_lr)\n",
        "print(\"\\nPrecision Score (Training Data):\", pcs_train_lr)\n",
        "print(\"\\nRecall Score (Training Data):\", rcs_train_lr)\n",
        "print(\"\\nROC AUC Score (Training Data):\", roc_auc_score_train_lr)\n",
        "\n",
        "print(\"\\nConfusion Matrix (Testing Data):\")\n",
        "print(cfm_test_lr)\n",
        "print(\"\\nAccuracy Score (Testing Data):\", acs_test_lr)\n",
        "print(\"\\nPrecision Score (Testing Data):\", pcs_test_lr)\n",
        "print(\"\\nRecall Score (Testing Data):\", rcs_test_lr)\n",
        "print(\"\\nROC AUC Score (Testing Data):\", roc_auc_score_test_lr)\n"
      ],
      "metadata": {
        "colab": {
          "base_uri": "https://localhost:8080/"
        },
        "id": "JLQz9NZvziMU",
        "outputId": "3abe7eb0-ba87-4c93-ed0b-e79fe22e4aab"
      },
      "execution_count": 29,
      "outputs": [
        {
          "output_type": "stream",
          "name": "stdout",
          "text": [
            "Logistic Regression Results:\n",
            "Confusion Matrix (Training Data):\n",
            "[[1851  137]\n",
            " [ 293  388]]\n",
            "\n",
            "Accuracy Score (Training Data): 0.8388909704008992\n",
            "\n",
            "Precision Score (Training Data): 0.7390476190476191\n",
            "\n",
            "Recall Score (Training Data): 0.5697503671071953\n",
            "\n",
            "ROC AUC Score (Training Data): 0.7504184431109417\n",
            "\n",
            "Confusion Matrix (Testing Data):\n",
            "[[446  38]\n",
            " [ 78 106]]\n",
            "\n",
            "Accuracy Score (Testing Data): 0.8263473053892215\n",
            "\n",
            "Precision Score (Testing Data): 0.7361111111111112\n",
            "\n",
            "Recall Score (Testing Data): 0.5760869565217391\n",
            "\n",
            "ROC AUC Score (Testing Data): 0.7487872799137621\n"
          ]
        }
      ]
    },
    {
      "cell_type": "markdown",
      "source": [
        "######The logistic regression model performed well with an accuracy of 83.89% on the training data and 82.63% on the testing data, indicating good generalizability. The model's precision scores of 73.90% (training) show that a high proportion of predicted positives are true positives. The recall scores of 56.98% (training) and 57.61% (testing) suggest that the model captures a moderate portion of actual positives. The ROC AUC scores of 0.750 (training) and 0.749 (testing) indicate that the model has a good balance between sensitivity and specificity. Overall, these results highlight the logistic regression model's consistent and reliable performance across both datasets."
      ],
      "metadata": {
        "id": "nR2dEEV_57yu"
      }
    },
    {
      "cell_type": "markdown",
      "source": [
        "**KNN Model**"
      ],
      "metadata": {
        "id": "Pqq_O5wI0bhJ"
      }
    },
    {
      "cell_type": "code",
      "source": [
        "# importing the knnclassifier\n",
        "from sklearn.neighbors import KNeighborsClassifier\n",
        "from sklearn .model_selection import GridSearchCV\n",
        "param={'n_neighbors':[1,2,3,4,5,6,7,8,9,10]}\n",
        "# creating object for knn model and fitting the train data and testdata\n",
        "knn=KNeighborsClassifier()\n",
        "grid_search_knn=GridSearchCV(knn,param,cv=3,scoring='accuracy')\n",
        "grid_search_knn.fit(x_train,y_train)\n",
        "#choosing the best k value\n",
        "grid_search_knn.best_params_\n",
        "optimised_KNN=grid_search_knn.best_estimator_"
      ],
      "metadata": {
        "id": "_yXQ-6Oxz88J"
      },
      "execution_count": 30,
      "outputs": []
    },
    {
      "cell_type": "code",
      "source": [
        "# optimized k value\n",
        "optimised_KNN"
      ],
      "metadata": {
        "colab": {
          "base_uri": "https://localhost:8080/",
          "height": 74
        },
        "id": "LD3zwld42Cty",
        "outputId": "b92a1ea5-6e80-4090-d2c7-7b0036b3982d"
      },
      "execution_count": 31,
      "outputs": [
        {
          "output_type": "execute_result",
          "data": {
            "text/plain": [
              "KNeighborsClassifier(n_neighbors=9)"
            ],
            "text/html": [
              "<style>#sk-container-id-2 {color: black;background-color: white;}#sk-container-id-2 pre{padding: 0;}#sk-container-id-2 div.sk-toggleable {background-color: white;}#sk-container-id-2 label.sk-toggleable__label {cursor: pointer;display: block;width: 100%;margin-bottom: 0;padding: 0.3em;box-sizing: border-box;text-align: center;}#sk-container-id-2 label.sk-toggleable__label-arrow:before {content: \"▸\";float: left;margin-right: 0.25em;color: #696969;}#sk-container-id-2 label.sk-toggleable__label-arrow:hover:before {color: black;}#sk-container-id-2 div.sk-estimator:hover label.sk-toggleable__label-arrow:before {color: black;}#sk-container-id-2 div.sk-toggleable__content {max-height: 0;max-width: 0;overflow: hidden;text-align: left;background-color: #f0f8ff;}#sk-container-id-2 div.sk-toggleable__content pre {margin: 0.2em;color: black;border-radius: 0.25em;background-color: #f0f8ff;}#sk-container-id-2 input.sk-toggleable__control:checked~div.sk-toggleable__content {max-height: 200px;max-width: 100%;overflow: auto;}#sk-container-id-2 input.sk-toggleable__control:checked~label.sk-toggleable__label-arrow:before {content: \"▾\";}#sk-container-id-2 div.sk-estimator input.sk-toggleable__control:checked~label.sk-toggleable__label {background-color: #d4ebff;}#sk-container-id-2 div.sk-label input.sk-toggleable__control:checked~label.sk-toggleable__label {background-color: #d4ebff;}#sk-container-id-2 input.sk-hidden--visually {border: 0;clip: rect(1px 1px 1px 1px);clip: rect(1px, 1px, 1px, 1px);height: 1px;margin: -1px;overflow: hidden;padding: 0;position: absolute;width: 1px;}#sk-container-id-2 div.sk-estimator {font-family: monospace;background-color: #f0f8ff;border: 1px dotted black;border-radius: 0.25em;box-sizing: border-box;margin-bottom: 0.5em;}#sk-container-id-2 div.sk-estimator:hover {background-color: #d4ebff;}#sk-container-id-2 div.sk-parallel-item::after {content: \"\";width: 100%;border-bottom: 1px solid gray;flex-grow: 1;}#sk-container-id-2 div.sk-label:hover label.sk-toggleable__label {background-color: #d4ebff;}#sk-container-id-2 div.sk-serial::before {content: \"\";position: absolute;border-left: 1px solid gray;box-sizing: border-box;top: 0;bottom: 0;left: 50%;z-index: 0;}#sk-container-id-2 div.sk-serial {display: flex;flex-direction: column;align-items: center;background-color: white;padding-right: 0.2em;padding-left: 0.2em;position: relative;}#sk-container-id-2 div.sk-item {position: relative;z-index: 1;}#sk-container-id-2 div.sk-parallel {display: flex;align-items: stretch;justify-content: center;background-color: white;position: relative;}#sk-container-id-2 div.sk-item::before, #sk-container-id-2 div.sk-parallel-item::before {content: \"\";position: absolute;border-left: 1px solid gray;box-sizing: border-box;top: 0;bottom: 0;left: 50%;z-index: -1;}#sk-container-id-2 div.sk-parallel-item {display: flex;flex-direction: column;z-index: 1;position: relative;background-color: white;}#sk-container-id-2 div.sk-parallel-item:first-child::after {align-self: flex-end;width: 50%;}#sk-container-id-2 div.sk-parallel-item:last-child::after {align-self: flex-start;width: 50%;}#sk-container-id-2 div.sk-parallel-item:only-child::after {width: 0;}#sk-container-id-2 div.sk-dashed-wrapped {border: 1px dashed gray;margin: 0 0.4em 0.5em 0.4em;box-sizing: border-box;padding-bottom: 0.4em;background-color: white;}#sk-container-id-2 div.sk-label label {font-family: monospace;font-weight: bold;display: inline-block;line-height: 1.2em;}#sk-container-id-2 div.sk-label-container {text-align: center;}#sk-container-id-2 div.sk-container {/* jupyter's `normalize.less` sets `[hidden] { display: none; }` but bootstrap.min.css set `[hidden] { display: none !important; }` so we also need the `!important` here to be able to override the default hidden behavior on the sphinx rendered scikit-learn.org. See: https://github.com/scikit-learn/scikit-learn/issues/21755 */display: inline-block !important;position: relative;}#sk-container-id-2 div.sk-text-repr-fallback {display: none;}</style><div id=\"sk-container-id-2\" class=\"sk-top-container\"><div class=\"sk-text-repr-fallback\"><pre>KNeighborsClassifier(n_neighbors=9)</pre><b>In a Jupyter environment, please rerun this cell to show the HTML representation or trust the notebook. <br />On GitHub, the HTML representation is unable to render, please try loading this page with nbviewer.org.</b></div><div class=\"sk-container\" hidden><div class=\"sk-item\"><div class=\"sk-estimator sk-toggleable\"><input class=\"sk-toggleable__control sk-hidden--visually\" id=\"sk-estimator-id-2\" type=\"checkbox\" checked><label for=\"sk-estimator-id-2\" class=\"sk-toggleable__label sk-toggleable__label-arrow\">KNeighborsClassifier</label><div class=\"sk-toggleable__content\"><pre>KNeighborsClassifier(n_neighbors=9)</pre></div></div></div></div></div>"
            ]
          },
          "metadata": {},
          "execution_count": 31
        }
      ]
    },
    {
      "cell_type": "code",
      "source": [
        "#Predicting the values for x train and test dataset\n",
        "y_test_pred_knn=optimised_KNN.predict(x_test)\n",
        "y_train_pred_knn=optimised_KNN.predict(x_train)"
      ],
      "metadata": {
        "id": "VH4R60_U1YuH"
      },
      "execution_count": 32,
      "outputs": []
    },
    {
      "cell_type": "markdown",
      "source": [
        "#### Performace of the model"
      ],
      "metadata": {
        "id": "MPAXUYnzv1Mx"
      }
    },
    {
      "cell_type": "code",
      "source": [
        "cfm_train_knn = confusion_matrix(y_train, y_train_pred_knn)\n",
        "cfm_test_knn = confusion_matrix(y_test, y_test_pred_knn)\n",
        "acs_train_knn = accuracy_score(y_train, y_train_pred_knn)\n",
        "acs_test_knn = accuracy_score(y_test, y_test_pred_knn)\n",
        "pcs_train_knn = precision_score(y_train, y_train_pred_knn)\n",
        "pcs_test_knn = precision_score(y_test, y_test_pred_knn)\n",
        "rcs_train_knn = recall_score(y_train, y_train_pred_knn)\n",
        "rcs_test_knn = recall_score(y_test, y_test_pred_knn)\n",
        "ra_score_train_knn = roc_auc_score(y_train, y_train_pred_knn)\n",
        "ra_score_test_knn = roc_auc_score(y_test,y_test_pred_knn)"
      ],
      "metadata": {
        "id": "wFIWCgXL1feZ"
      },
      "execution_count": 33,
      "outputs": []
    },
    {
      "cell_type": "code",
      "source": [
        "#Print the result\n",
        "# Print the confusion matrix and accuracy score for training data\n",
        "print(\"KNN results:\")\n",
        "print(\"Confusion Matrix (Training Data):\")\n",
        "print(cfm_train_knn)\n",
        "\n",
        "print(\"\\nAccuracy Score (Training Data):\", acs_train_knn)\n",
        "print(\"\\nPrecision Score (Training Data):\", pcs_train_knn)\n",
        "print(\"\\nRecall Score (Training Data):\", rcs_train_knn)\n",
        "print(\"\\nROC AUC Score (Training Data):\", ra_score_train_knn)\n",
        "\n",
        "# Print the confusion matrix and accuracy score for testing data\n",
        "print(\"\\nConfusion Matrix (Testing Data):\")\n",
        "print(cfm_test_knn)\n",
        "\n",
        "print(\"\\nAccuracy Score (Testing Data):\", acs_test_knn)\n",
        "print(\"\\nPrecision Score (Test Data):\", pcs_test_knn)\n",
        "print(\"\\nRecall Score (Test Data):\", rcs_test_knn)\n",
        "print(\"\\nROC AUC Score (Test Data):\", ra_score_test_knn)"
      ],
      "metadata": {
        "colab": {
          "base_uri": "https://localhost:8080/"
        },
        "id": "ZD8gQ8QC2Mz6",
        "outputId": "6590c809-7c68-496a-a710-c4dbc6a6925e"
      },
      "execution_count": 34,
      "outputs": [
        {
          "output_type": "stream",
          "name": "stdout",
          "text": [
            "KNN results:\n",
            "Confusion Matrix (Training Data):\n",
            "[[1910   78]\n",
            " [ 306  375]]\n",
            "\n",
            "Accuracy Score (Training Data): 0.8561258898463844\n",
            "\n",
            "Precision Score (Training Data): 0.8278145695364238\n",
            "\n",
            "Recall Score (Training Data): 0.5506607929515418\n",
            "\n",
            "ROC AUC Score (Training Data): 0.7557126902383464\n",
            "\n",
            "Confusion Matrix (Testing Data):\n",
            "[[440  44]\n",
            " [ 91  93]]\n",
            "\n",
            "Accuracy Score (Testing Data): 0.7979041916167665\n",
            "\n",
            "Precision Score (Test Data): 0.6788321167883211\n",
            "\n",
            "Recall Score (Test Data): 0.5054347826086957\n",
            "\n",
            "ROC AUC Score (Test Data): 0.7072628458498024\n"
          ]
        }
      ]
    },
    {
      "cell_type": "markdown",
      "source": [
        "The KNN classifier shows strong performance on the training data with an accuracy of 85.61%, a precision of 82.78%, and a recall of 55.07%. However, its performance drops on the testing data, with an accuracy of 79.79%, a precision of 67.88%, and a recall of 50.54%, indicating potential overfitting."
      ],
      "metadata": {
        "id": "CbHUYkWH7ZEc"
      }
    },
    {
      "cell_type": "markdown",
      "source": [
        "**LDA**"
      ],
      "metadata": {
        "id": "SIx9L64u3O2D"
      }
    },
    {
      "cell_type": "code",
      "source": [
        "#importing LinearDiscriminantAnalysis model\n",
        "from sklearn.discriminant_analysis import LinearDiscriminantAnalysis\n",
        "# Create an LDA model with specific parameters\n",
        "lda_model = LinearDiscriminantAnalysis(solver='lsqr', shrinkage='auto')\n",
        "\n",
        "# Fit the model on the training data\n",
        "lda_model.fit(x_train, y_train)\n",
        "\n",
        "# Predict values using the model\n",
        "y_train_pred_lda = lda_model.predict(x_train)\n",
        "y_test_pred_lda = lda_model.predict(x_test)"
      ],
      "metadata": {
        "id": "UC8jKx0j3OcM"
      },
      "execution_count": 35,
      "outputs": []
    },
    {
      "cell_type": "code",
      "source": [
        "# Model Performance\n",
        "cfm_train_lda = confusion_matrix(y_train, y_train_pred_lda)\n",
        "cfm_test_lda = confusion_matrix(y_test, y_test_pred_lda)\n",
        "acs_train_lda = accuracy_score(y_train, y_train_pred_lda)\n",
        "acs_test_lda = accuracy_score(y_test, y_test_pred_lda)\n",
        "pcs_train_lda = precision_score(y_train, y_train_pred_lda)\n",
        "pcs_test_lda = precision_score(y_test, y_test_pred_lda)\n",
        "rcs_train_lda = recall_score(y_train, y_train_pred_lda)\n",
        "rcs_test_lda = recall_score(y_test, y_test_pred_lda)\n",
        "roc_auc_score_train_lda = roc_auc_score(y_train, y_train_pred_lda)\n",
        "roc_auc_score_test_lda = roc_auc_score(y_test, y_test_pred_lda)"
      ],
      "metadata": {
        "id": "36xKAWAF4hTW"
      },
      "execution_count": 36,
      "outputs": []
    },
    {
      "cell_type": "code",
      "source": [
        "# Print the results for LDA Model\n",
        "print(\"Linear Discriminant Analysis (LDA) Results:\")\n",
        "\n",
        "print(\"Confusion Matrix (Training Data):\")\n",
        "print(cfm_train_lda)\n",
        "print(\"\\nAccuracy Score (Training Data):\", acs_train_lda)\n",
        "print(\"\\nPrecision Score (Training Data):\", pcs_train_lda)\n",
        "print(\"\\nRecall Score (Training Data):\", rcs_train_lda)\n",
        "print(\"\\nROC AUC Score (Training Data):\", roc_auc_score_train_lda)\n",
        "\n",
        "print(\"\\nConfusion Matrix (Testing Data):\")\n",
        "print(cfm_test_lda)\n",
        "print(\"\\nAccuracy Score (Testing Data):\", acs_test_lda)\n",
        "print(\"\\nPrecision Score (Testing Data):\", pcs_test_lda)\n",
        "print(\"\\nRecall Score (Testing Data):\", rcs_test_lda)\n",
        "print(\"\\nROC AUC Score (Testing Data):\", roc_auc_score_test_lda)"
      ],
      "metadata": {
        "colab": {
          "base_uri": "https://localhost:8080/"
        },
        "id": "NeNYPnjNQzEK",
        "outputId": "d38ec54f-bdfb-4a0a-ea1e-f592805da5c3"
      },
      "execution_count": 37,
      "outputs": [
        {
          "output_type": "stream",
          "name": "stdout",
          "text": [
            "Linear Discriminant Analysis (LDA) Results:\n",
            "Confusion Matrix (Training Data):\n",
            "[[1825  163]\n",
            " [ 279  402]]\n",
            "\n",
            "Accuracy Score (Training Data): 0.8343949044585988\n",
            "\n",
            "Precision Score (Training Data): 0.7115044247787611\n",
            "\n",
            "Recall Score (Training Data): 0.5903083700440529\n",
            "\n",
            "ROC AUC Score (Training Data): 0.7541582091668958\n",
            "\n",
            "Confusion Matrix (Testing Data):\n",
            "[[441  43]\n",
            " [ 76 108]]\n",
            "\n",
            "Accuracy Score (Testing Data): 0.8218562874251497\n",
            "\n",
            "Precision Score (Testing Data): 0.7152317880794702\n",
            "\n",
            "Recall Score (Testing Data): 0.5869565217391305\n",
            "\n",
            "ROC AUC Score (Testing Data): 0.7490567732662594\n"
          ]
        }
      ]
    },
    {
      "cell_type": "markdown",
      "source": [
        "The Linear Discriminant Analysis (LDA) model achieved an accuracy of 83.44% on the training data and 82.19% on the testing data. It has a balanced performance with a precision of 71.52% and a recall of 58.70% on the\n",
        "testing data, indicating a good ability to identify positive cases with moderate false positives."
      ],
      "metadata": {
        "id": "hJRRwU7572gS"
      }
    },
    {
      "cell_type": "markdown",
      "source": [
        "**Classification Decision Tree model**"
      ],
      "metadata": {
        "id": "EmsUnlKvPQbg"
      }
    },
    {
      "cell_type": "code",
      "source": [
        "#importing DecisionTreeClassifier model\n",
        "from sklearn import tree\n",
        "clftree=tree.DecisionTreeClassifier(max_depth=3)\n",
        "#fit the data into model\n",
        "clftree.fit(x_train,y_train)"
      ],
      "metadata": {
        "colab": {
          "base_uri": "https://localhost:8080/",
          "height": 74
        },
        "id": "nUFzqq_Ta4Qc",
        "outputId": "5a894307-4dc7-41d3-c6d6-61f59f9def5c"
      },
      "execution_count": 38,
      "outputs": [
        {
          "output_type": "execute_result",
          "data": {
            "text/plain": [
              "DecisionTreeClassifier(max_depth=3)"
            ],
            "text/html": [
              "<style>#sk-container-id-3 {color: black;background-color: white;}#sk-container-id-3 pre{padding: 0;}#sk-container-id-3 div.sk-toggleable {background-color: white;}#sk-container-id-3 label.sk-toggleable__label {cursor: pointer;display: block;width: 100%;margin-bottom: 0;padding: 0.3em;box-sizing: border-box;text-align: center;}#sk-container-id-3 label.sk-toggleable__label-arrow:before {content: \"▸\";float: left;margin-right: 0.25em;color: #696969;}#sk-container-id-3 label.sk-toggleable__label-arrow:hover:before {color: black;}#sk-container-id-3 div.sk-estimator:hover label.sk-toggleable__label-arrow:before {color: black;}#sk-container-id-3 div.sk-toggleable__content {max-height: 0;max-width: 0;overflow: hidden;text-align: left;background-color: #f0f8ff;}#sk-container-id-3 div.sk-toggleable__content pre {margin: 0.2em;color: black;border-radius: 0.25em;background-color: #f0f8ff;}#sk-container-id-3 input.sk-toggleable__control:checked~div.sk-toggleable__content {max-height: 200px;max-width: 100%;overflow: auto;}#sk-container-id-3 input.sk-toggleable__control:checked~label.sk-toggleable__label-arrow:before {content: \"▾\";}#sk-container-id-3 div.sk-estimator input.sk-toggleable__control:checked~label.sk-toggleable__label {background-color: #d4ebff;}#sk-container-id-3 div.sk-label input.sk-toggleable__control:checked~label.sk-toggleable__label {background-color: #d4ebff;}#sk-container-id-3 input.sk-hidden--visually {border: 0;clip: rect(1px 1px 1px 1px);clip: rect(1px, 1px, 1px, 1px);height: 1px;margin: -1px;overflow: hidden;padding: 0;position: absolute;width: 1px;}#sk-container-id-3 div.sk-estimator {font-family: monospace;background-color: #f0f8ff;border: 1px dotted black;border-radius: 0.25em;box-sizing: border-box;margin-bottom: 0.5em;}#sk-container-id-3 div.sk-estimator:hover {background-color: #d4ebff;}#sk-container-id-3 div.sk-parallel-item::after {content: \"\";width: 100%;border-bottom: 1px solid gray;flex-grow: 1;}#sk-container-id-3 div.sk-label:hover label.sk-toggleable__label {background-color: #d4ebff;}#sk-container-id-3 div.sk-serial::before {content: \"\";position: absolute;border-left: 1px solid gray;box-sizing: border-box;top: 0;bottom: 0;left: 50%;z-index: 0;}#sk-container-id-3 div.sk-serial {display: flex;flex-direction: column;align-items: center;background-color: white;padding-right: 0.2em;padding-left: 0.2em;position: relative;}#sk-container-id-3 div.sk-item {position: relative;z-index: 1;}#sk-container-id-3 div.sk-parallel {display: flex;align-items: stretch;justify-content: center;background-color: white;position: relative;}#sk-container-id-3 div.sk-item::before, #sk-container-id-3 div.sk-parallel-item::before {content: \"\";position: absolute;border-left: 1px solid gray;box-sizing: border-box;top: 0;bottom: 0;left: 50%;z-index: -1;}#sk-container-id-3 div.sk-parallel-item {display: flex;flex-direction: column;z-index: 1;position: relative;background-color: white;}#sk-container-id-3 div.sk-parallel-item:first-child::after {align-self: flex-end;width: 50%;}#sk-container-id-3 div.sk-parallel-item:last-child::after {align-self: flex-start;width: 50%;}#sk-container-id-3 div.sk-parallel-item:only-child::after {width: 0;}#sk-container-id-3 div.sk-dashed-wrapped {border: 1px dashed gray;margin: 0 0.4em 0.5em 0.4em;box-sizing: border-box;padding-bottom: 0.4em;background-color: white;}#sk-container-id-3 div.sk-label label {font-family: monospace;font-weight: bold;display: inline-block;line-height: 1.2em;}#sk-container-id-3 div.sk-label-container {text-align: center;}#sk-container-id-3 div.sk-container {/* jupyter's `normalize.less` sets `[hidden] { display: none; }` but bootstrap.min.css set `[hidden] { display: none !important; }` so we also need the `!important` here to be able to override the default hidden behavior on the sphinx rendered scikit-learn.org. See: https://github.com/scikit-learn/scikit-learn/issues/21755 */display: inline-block !important;position: relative;}#sk-container-id-3 div.sk-text-repr-fallback {display: none;}</style><div id=\"sk-container-id-3\" class=\"sk-top-container\"><div class=\"sk-text-repr-fallback\"><pre>DecisionTreeClassifier(max_depth=3)</pre><b>In a Jupyter environment, please rerun this cell to show the HTML representation or trust the notebook. <br />On GitHub, the HTML representation is unable to render, please try loading this page with nbviewer.org.</b></div><div class=\"sk-container\" hidden><div class=\"sk-item\"><div class=\"sk-estimator sk-toggleable\"><input class=\"sk-toggleable__control sk-hidden--visually\" id=\"sk-estimator-id-3\" type=\"checkbox\" checked><label for=\"sk-estimator-id-3\" class=\"sk-toggleable__label sk-toggleable__label-arrow\">DecisionTreeClassifier</label><div class=\"sk-toggleable__content\"><pre>DecisionTreeClassifier(max_depth=3)</pre></div></div></div></div></div>"
            ]
          },
          "metadata": {},
          "execution_count": 38
        }
      ]
    },
    {
      "cell_type": "code",
      "source": [
        "#Predict Values\n",
        "y_train_pred_cft = clftree.predict(x_train)\n",
        "y_test_pred_cft = clftree.predict(x_test)"
      ],
      "metadata": {
        "id": "iWhlePE3P8Dn"
      },
      "execution_count": 39,
      "outputs": []
    },
    {
      "cell_type": "markdown",
      "source": [
        "####Model Performance"
      ],
      "metadata": {
        "id": "w2nyk28uQsGf"
      }
    },
    {
      "cell_type": "code",
      "source": [
        "from sklearn import tree\n",
        "from sklearn.tree import DecisionTreeClassifier\n",
        "from sklearn.metrics import accuracy_score, confusion_matrix, roc_auc_score, precision_score, recall_score\n",
        "from sklearn.model_selection import GridSearchCV"
      ],
      "metadata": {
        "id": "9SzDqQHBVJcE"
      },
      "execution_count": 40,
      "outputs": []
    },
    {
      "cell_type": "code",
      "source": [
        "cfm_train_ct = confusion_matrix(y_train, y_train_pred_cft)\n",
        "cfm_test_ct = confusion_matrix(y_test, y_test_pred_cft)\n",
        "acs_train_ct = accuracy_score(y_train, y_train_pred_cft)\n",
        "acs_test_ct = accuracy_score(y_test, y_test_pred_cft)\n",
        "pcs_train_ct = precision_score(y_train, y_train_pred_cft)\n",
        "pcs_test_ct = precision_score(y_test, y_test_pred_cft)\n",
        "rcs_train_ct = recall_score(y_train, y_train_pred_cft)\n",
        "rcs_test_ct = recall_score(y_test, y_test_pred_cft)\n",
        "ra_score_train = roc_auc_score(y_train, y_train_pred_cft)\n",
        "ra_score_test = roc_auc_score(y_test,y_test_pred_cft)"
      ],
      "metadata": {
        "id": "YixIc2WTn_tu"
      },
      "execution_count": 41,
      "outputs": []
    },
    {
      "cell_type": "code",
      "source": [
        "#Print the result\n",
        "# Print the confusion matrix and accuracy score for training data\n",
        "print(\"Classification decision tree results:\")\n",
        "print(\"Confusion Matrix (Training Data):\")\n",
        "print(cfm_train_ct)\n",
        "\n",
        "print(\"\\nAccuracy Score (Training Data):\", acs_train_ct)\n",
        "print(\"\\nPrecision Score (Training Data):\", pcs_train_ct)\n",
        "print(\"\\nRecall Score (Training Data):\", rcs_train_ct)\n",
        "print(\"\\nROC AUC Score (Training Data):\", ra_score_train)\n",
        "\n",
        "# Print the confusion matrix and accuracy score for testing data\n",
        "print(\"\\nConfusion Matrix (Testing Data):\")\n",
        "print(cfm_test_ct)\n",
        "\n",
        "print(\"\\nAccuracy Score (Testing Data):\", acs_test_ct)\n",
        "print(\"\\nPrecision Score (Test Data):\", pcs_test_ct)\n",
        "print(\"\\nRecall Score (Test Data):\", rcs_test_ct)\n",
        "print(\"\\nROC AUC Score (Test Data):\", ra_score_test)"
      ],
      "metadata": {
        "colab": {
          "base_uri": "https://localhost:8080/"
        },
        "id": "NfxHGROkY-kB",
        "outputId": "37f6bdae-3898-40f6-eed5-4f550bb3f130"
      },
      "execution_count": 42,
      "outputs": [
        {
          "output_type": "stream",
          "name": "stdout",
          "text": [
            "Classification decision tree results:\n",
            "Confusion Matrix (Training Data):\n",
            "[[1815  173]\n",
            " [ 288  393]]\n",
            "\n",
            "Accuracy Score (Training Data): 0.8272761333832896\n",
            "\n",
            "Precision Score (Training Data): 0.6943462897526502\n",
            "\n",
            "Recall Score (Training Data): 0.5770925110132159\n",
            "\n",
            "ROC AUC Score (Training Data): 0.7450351891082176\n",
            "\n",
            "Confusion Matrix (Testing Data):\n",
            "[[430  54]\n",
            " [ 78 106]]\n",
            "\n",
            "Accuracy Score (Testing Data): 0.8023952095808383\n",
            "\n",
            "Precision Score (Test Data): 0.6625\n",
            "\n",
            "Recall Score (Test Data): 0.5760869565217391\n",
            "\n",
            "ROC AUC Score (Test Data): 0.7322583542939275\n"
          ]
        }
      ]
    },
    {
      "cell_type": "markdown",
      "source": [
        "The classification decision tree model shows good performance on the training data with an accuracy of 82.73% and a balanced ROC AUC score of 0.7450, indicating moderate predictive power. On the testing data, it maintains a reasonable accuracy of 80.24%, with a precision of 0.6625 and a recall of 0.5761, suggesting a consistent but slightly lower performance in identifying true positives compared to the training set."
      ],
      "metadata": {
        "id": "miC-IQTF9NPj"
      }
    },
    {
      "cell_type": "markdown",
      "source": [
        "**Plotting Decision Tree**"
      ],
      "metadata": {
        "id": "9aSYG75QRlxI"
      }
    },
    {
      "cell_type": "code",
      "source": [
        "from sklearn import tree\n",
        "# Replace 'regtree' with the actual decision tree regressor object\n",
        "dot_data_ct = tree.export_graphviz(clftree,out_file=None,feature_names=x_train.columns,filled=True)"
      ],
      "metadata": {
        "id": "nZfcz2-rRqt9"
      },
      "execution_count": 43,
      "outputs": []
    },
    {
      "cell_type": "code",
      "source": [
        " # display the image of the tree\n",
        "from IPython.display import Image\n",
        "import pydotplus"
      ],
      "metadata": {
        "id": "dW5IF4ukRw7H"
      },
      "execution_count": 44,
      "outputs": []
    },
    {
      "cell_type": "code",
      "source": [
        "graph=pydotplus.graph_from_dot_data(dot_data_ct)\n",
        "Image(graph.create_png())"
      ],
      "metadata": {
        "colab": {
          "base_uri": "https://localhost:8080/",
          "height": 327
        },
        "id": "-n92i_zzR1HA",
        "outputId": "527bccb3-15ed-46f5-9271-2f153c6f72df"
      },
      "execution_count": 45,
      "outputs": [
        {
          "output_type": "execute_result",
          "data": {
            "image/png": "[encoded data removed]",
            "text/plain": [
              "<IPython.core.display.Image object>"
            ]
          },
          "metadata": {},
          "execution_count": 45
        }
      ]
    },
    {
      "cell_type": "markdown",
      "source": [
        "**Using Bagging technique to the decision tree**\n",
        "\n",
        "now compare the accuracy values"
      ],
      "metadata": {
        "id": "EXorVeocVoVP"
      }
    },
    {
      "cell_type": "code",
      "source": [
        "from sklearn import tree\n",
        "from sklearn.ensemble import BaggingClassifier\n",
        "clftreeb=tree.DecisionTreeClassifier()\n",
        "#we going to take fulltree so didnot mentioned any other paramerter max_depth like that"
      ],
      "metadata": {
        "id": "8gBdaY77Vi_D"
      },
      "execution_count": 46,
      "outputs": []
    },
    {
      "cell_type": "code",
      "source": [
        "# Define the base Decision Tree model\n",
        "base_tree = tree.DecisionTreeClassifier(max_depth=3)\n",
        "\n",
        "# Create a BaggingClassifier\n",
        "bagging_clf = BaggingClassifier(base_estimator=base_tree, random_state=42)\n",
        "\n",
        "# Define the parameter grid for GridSearchCV\n",
        "param_grid = {\n",
        "    'n_estimators': [10, 50, 100]\n",
        "}\n",
        "# Perform GridSearchCV\n",
        "grid_search_ctbag = GridSearchCV(bagging_clf, param_grid, cv=3, scoring='accuracy')\n",
        "grid_search_ctbag.fit(x_train, y_train)\n",
        "\n",
        "# Get the best parameters and model\n",
        "best_params = grid_search_ctbag.best_params_\n",
        "best_bagging_clf = grid_search_ctbag.best_estimator_\n",
        "\n",
        "# Predict values using the best model\n",
        "y_train_pred_cftb = best_bagging_clf.predict(x_train)\n",
        "y_test_pred_cftb = best_bagging_clf.predict(x_test)\n",
        "print(best_params)"
      ],
      "metadata": {
        "colab": {
          "base_uri": "https://localhost:8080/"
        },
        "id": "XQvPKB6CaC8h",
        "outputId": "27a598ee-ae4b-45e1-97c9-1632e61772d7"
      },
      "execution_count": 47,
      "outputs": [
        {
          "output_type": "stream",
          "name": "stderr",
          "text": [
            "/usr/local/lib/python3.10/dist-packages/sklearn/ensemble/_base.py:166: FutureWarning: `base_estimator` was renamed to `estimator` in version 1.2 and will be removed in 1.4.\n",
            "  warnings.warn(\n",
            "/usr/local/lib/python3.10/dist-packages/sklearn/ensemble/_base.py:166: FutureWarning: `base_estimator` was renamed to `estimator` in version 1.2 and will be removed in 1.4.\n",
            "  warnings.warn(\n",
            "/usr/local/lib/python3.10/dist-packages/sklearn/ensemble/_base.py:166: FutureWarning: `base_estimator` was renamed to `estimator` in version 1.2 and will be removed in 1.4.\n",
            "  warnings.warn(\n",
            "/usr/local/lib/python3.10/dist-packages/sklearn/ensemble/_base.py:166: FutureWarning: `base_estimator` was renamed to `estimator` in version 1.2 and will be removed in 1.4.\n",
            "  warnings.warn(\n",
            "/usr/local/lib/python3.10/dist-packages/sklearn/ensemble/_base.py:166: FutureWarning: `base_estimator` was renamed to `estimator` in version 1.2 and will be removed in 1.4.\n",
            "  warnings.warn(\n",
            "/usr/local/lib/python3.10/dist-packages/sklearn/ensemble/_base.py:166: FutureWarning: `base_estimator` was renamed to `estimator` in version 1.2 and will be removed in 1.4.\n",
            "  warnings.warn(\n",
            "/usr/local/lib/python3.10/dist-packages/sklearn/ensemble/_base.py:166: FutureWarning: `base_estimator` was renamed to `estimator` in version 1.2 and will be removed in 1.4.\n",
            "  warnings.warn(\n",
            "/usr/local/lib/python3.10/dist-packages/sklearn/ensemble/_base.py:166: FutureWarning: `base_estimator` was renamed to `estimator` in version 1.2 and will be removed in 1.4.\n",
            "  warnings.warn(\n",
            "/usr/local/lib/python3.10/dist-packages/sklearn/ensemble/_base.py:166: FutureWarning: `base_estimator` was renamed to `estimator` in version 1.2 and will be removed in 1.4.\n",
            "  warnings.warn(\n"
          ]
        },
        {
          "output_type": "stream",
          "name": "stdout",
          "text": [
            "{'n_estimators': 10}\n"
          ]
        },
        {
          "output_type": "stream",
          "name": "stderr",
          "text": [
            "/usr/local/lib/python3.10/dist-packages/sklearn/ensemble/_base.py:166: FutureWarning: `base_estimator` was renamed to `estimator` in version 1.2 and will be removed in 1.4.\n",
            "  warnings.warn(\n"
          ]
        }
      ]
    },
    {
      "cell_type": "code",
      "source": [
        "cfm_train_ct_bag = confusion_matrix(y_train, y_train_pred_cftb)\n",
        "cfm_test_ct_bag = confusion_matrix(y_test, y_test_pred_cftb)\n",
        "acs_train_ct_bag = accuracy_score(y_train, y_train_pred_cftb)\n",
        "acs_test_ct_bag = accuracy_score(y_test, y_test_pred_cftb)\n",
        "pcs_train_ct_bag = precision_score(y_train, y_train_pred_cftb)\n",
        "pcs_test_ct_bag = precision_score(y_test, y_test_pred_cftb)\n",
        "rcs_train_ct_bag= recall_score(y_train, y_train_pred_cftb)\n",
        "rcs_test_ct_bag = recall_score(y_test, y_test_pred_cftb)\n",
        "ra_score_train_bag = roc_auc_score(y_train, y_train_pred_cftb)\n",
        "ra_score_test_bag = roc_auc_score(y_test,y_test_pred_cftb)"
      ],
      "metadata": {
        "id": "y7_GLnjvWxx7"
      },
      "execution_count": 48,
      "outputs": []
    },
    {
      "cell_type": "markdown",
      "source": [
        "####model performance of bagging technique"
      ],
      "metadata": {
        "id": "GSA41n6ue5xZ"
      }
    },
    {
      "cell_type": "code",
      "source": [
        "#Print the result\n",
        "# Print the confusion matrix and accuracy score for training data\n",
        "print(\"Decision classification tree with bagging technique\\n\")\n",
        "print(\"Confusion Matrix (Training Data):\")\n",
        "print(cfm_train_ct_bag)\n",
        "\n",
        "print(\"\\nAccuracy Score (Training Data):\", acs_train_ct_bag)\n",
        "print(\"\\nPrecision Score (Training Data):\", pcs_train_ct_bag)\n",
        "print(\"\\nRecall Score (Training Data):\", rcs_train_ct_bag)\n",
        "print(\"\\nROC AUC Score (Training Data):\", ra_score_train_bag)\n",
        "\n",
        "# Print the confusion matrix and accuracy score for testing data\n",
        "print(\"\\nConfusion Matrix (Testing Data):\")\n",
        "print(cfm_test_ct_bag)\n",
        "\n",
        "print(\"\\nAccuracy Score (Testing Data):\", acs_test_ct_bag)\n",
        "print(\"\\nPrecision Score (Test Data):\", pcs_test_ct_bag)\n",
        "print(\"\\nRecall Score (Test Data):\", rcs_test_ct_bag)\n",
        "print(\"\\nROC AUC Score (Test Data):\", ra_score_test_bag)"
      ],
      "metadata": {
        "colab": {
          "base_uri": "https://localhost:8080/"
        },
        "id": "cTXxXA9rWlCa",
        "outputId": "e2370f11-3165-4584-c204-79738cbab51c"
      },
      "execution_count": 49,
      "outputs": [
        {
          "output_type": "stream",
          "name": "stdout",
          "text": [
            "Decision classification tree with bagging technique\n",
            "\n",
            "Confusion Matrix (Training Data):\n",
            "[[1928   60]\n",
            " [ 366  315]]\n",
            "\n",
            "Accuracy Score (Training Data): 0.8403896590483327\n",
            "\n",
            "Precision Score (Training Data): 0.84\n",
            "\n",
            "Recall Score (Training Data): 0.46255506607929514\n",
            "\n",
            "ROC AUC Score (Training Data): 0.7161869897800903\n",
            "\n",
            "Confusion Matrix (Testing Data):\n",
            "[[466  18]\n",
            " [ 98  86]]\n",
            "\n",
            "Accuracy Score (Testing Data): 0.8263473053892215\n",
            "\n",
            "Precision Score (Test Data): 0.8269230769230769\n",
            "\n",
            "Recall Score (Test Data): 0.4673913043478261\n",
            "\n",
            "ROC AUC Score (Test Data): 0.715100610851599\n"
          ]
        }
      ]
    },
    {
      "cell_type": "markdown",
      "source": [
        "**NOTE:Compare to before, now is increase the accuracy score**"
      ],
      "metadata": {
        "id": "ca8tBUfeXmW9"
      }
    },
    {
      "cell_type": "markdown",
      "source": [
        "**Plotting the ROC Curve**"
      ],
      "metadata": {
        "id": "2fRaaE2-YX5R"
      }
    },
    {
      "cell_type": "code",
      "source": [
        "from sklearn.metrics import roc_curve\n",
        "# Predict probabilities for the test set\n",
        "y_probs = grid_search_ctbag.predict_proba(x_test)[:, 1]  # Get the probabilities for the positive class\n",
        "\n",
        "# Compute the ROC curve\n",
        "fpr, tpr, thresholds = roc_curve(y_test, y_probs)\n",
        "\n",
        "# Calculate the AUC\n",
        "roc_auc = roc_auc_score(y_test, y_probs)"
      ],
      "metadata": {
        "id": "pwoowT0aWBut"
      },
      "execution_count": 50,
      "outputs": []
    },
    {
      "cell_type": "code",
      "source": [
        "# Plot the ROC curve\n",
        "plt.figure()\n",
        "plt.plot(fpr, tpr, color='darkorange', lw=2, label=f'ROC curve (area = {roc_auc:.2f})')\n",
        "plt.plot([0, 1], [0, 1], color='navy', lw=2, linestyle='--')\n",
        "plt.xlim([0.0, 1.0])\n",
        "plt.ylim([0.0, 1.05])\n",
        "plt.xlabel('False Positive Rate')\n",
        "plt.ylabel('True Positive Rate')\n",
        "plt.title('Receiver Operating Characteristic (ROC) Curve')\n",
        "plt.legend(loc=\"lower right\")\n",
        "plt.show()"
      ],
      "metadata": {
        "colab": {
          "base_uri": "https://localhost:8080/",
          "height": 472
        },
        "id": "4kkvEBIdWKYY",
        "outputId": "ff190fab-a46f-47a4-b975-18e3d3eb5728"
      },
      "execution_count": 51,
      "outputs": [
        {
          "output_type": "display_data",
          "data": {
            "text/plain": [
              "<Figure size 640x480 with 1 Axes>"
            ],
            "image/png": "[encoded data removed]"
          },
          "metadata": {}
        }
      ]
    },
    {
      "cell_type": "markdown",
      "source": [
        "**Random Forest**"
      ],
      "metadata": {
        "id": "-C3tbU34fKxr"
      }
    },
    {
      "cell_type": "code",
      "source": [
        "# importing the RandomForestClassifier model\n",
        "from sklearn.ensemble import RandomForestClassifier\n",
        "rf_clf=RandomForestClassifier(n_estimators=1000,n_jobs=-1,random_state=42)"
      ],
      "metadata": {
        "id": "-hxXwBfAfJ__"
      },
      "execution_count": 52,
      "outputs": []
    },
    {
      "cell_type": "code",
      "source": [
        "# data set into fitting the model\n",
        "rf_clf.fit(x_train,y_train)"
      ],
      "metadata": {
        "colab": {
          "base_uri": "https://localhost:8080/",
          "height": 74
        },
        "id": "4fM5wjGxehv4",
        "outputId": "7c871cef-7788-47e8-f184-d79b31caac98"
      },
      "execution_count": 53,
      "outputs": [
        {
          "output_type": "execute_result",
          "data": {
            "text/plain": [
              "RandomForestClassifier(n_estimators=1000, n_jobs=-1, random_state=42)"
            ],
            "text/html": [
              "<style>#sk-container-id-4 {color: black;background-color: white;}#sk-container-id-4 pre{padding: 0;}#sk-container-id-4 div.sk-toggleable {background-color: white;}#sk-container-id-4 label.sk-toggleable__label {cursor: pointer;display: block;width: 100%;margin-bottom: 0;padding: 0.3em;box-sizing: border-box;text-align: center;}#sk-container-id-4 label.sk-toggleable__label-arrow:before {content: \"▸\";float: left;margin-right: 0.25em;color: #696969;}#sk-container-id-4 label.sk-toggleable__label-arrow:hover:before {color: black;}#sk-container-id-4 div.sk-estimator:hover label.sk-toggleable__label-arrow:before {color: black;}#sk-container-id-4 div.sk-toggleable__content {max-height: 0;max-width: 0;overflow: hidden;text-align: left;background-color: #f0f8ff;}#sk-container-id-4 div.sk-toggleable__content pre {margin: 0.2em;color: black;border-radius: 0.25em;background-color: #f0f8ff;}#sk-container-id-4 input.sk-toggleable__control:checked~div.sk-toggleable__content {max-height: 200px;max-width: 100%;overflow: auto;}#sk-container-id-4 input.sk-toggleable__control:checked~label.sk-toggleable__label-arrow:before {content: \"▾\";}#sk-container-id-4 div.sk-estimator input.sk-toggleable__control:checked~label.sk-toggleable__label {background-color: #d4ebff;}#sk-container-id-4 div.sk-label input.sk-toggleable__control:checked~label.sk-toggleable__label {background-color: #d4ebff;}#sk-container-id-4 input.sk-hidden--visually {border: 0;clip: rect(1px 1px 1px 1px);clip: rect(1px, 1px, 1px, 1px);height: 1px;margin: -1px;overflow: hidden;padding: 0;position: absolute;width: 1px;}#sk-container-id-4 div.sk-estimator {font-family: monospace;background-color: #f0f8ff;border: 1px dotted black;border-radius: 0.25em;box-sizing: border-box;margin-bottom: 0.5em;}#sk-container-id-4 div.sk-estimator:hover {background-color: #d4ebff;}#sk-container-id-4 div.sk-parallel-item::after {content: \"\";width: 100%;border-bottom: 1px solid gray;flex-grow: 1;}#sk-container-id-4 div.sk-label:hover label.sk-toggleable__label {background-color: #d4ebff;}#sk-container-id-4 div.sk-serial::before {content: \"\";position: absolute;border-left: 1px solid gray;box-sizing: border-box;top: 0;bottom: 0;left: 50%;z-index: 0;}#sk-container-id-4 div.sk-serial {display: flex;flex-direction: column;align-items: center;background-color: white;padding-right: 0.2em;padding-left: 0.2em;position: relative;}#sk-container-id-4 div.sk-item {position: relative;z-index: 1;}#sk-container-id-4 div.sk-parallel {display: flex;align-items: stretch;justify-content: center;background-color: white;position: relative;}#sk-container-id-4 div.sk-item::before, #sk-container-id-4 div.sk-parallel-item::before {content: \"\";position: absolute;border-left: 1px solid gray;box-sizing: border-box;top: 0;bottom: 0;left: 50%;z-index: -1;}#sk-container-id-4 div.sk-parallel-item {display: flex;flex-direction: column;z-index: 1;position: relative;background-color: white;}#sk-container-id-4 div.sk-parallel-item:first-child::after {align-self: flex-end;width: 50%;}#sk-container-id-4 div.sk-parallel-item:last-child::after {align-self: flex-start;width: 50%;}#sk-container-id-4 div.sk-parallel-item:only-child::after {width: 0;}#sk-container-id-4 div.sk-dashed-wrapped {border: 1px dashed gray;margin: 0 0.4em 0.5em 0.4em;box-sizing: border-box;padding-bottom: 0.4em;background-color: white;}#sk-container-id-4 div.sk-label label {font-family: monospace;font-weight: bold;display: inline-block;line-height: 1.2em;}#sk-container-id-4 div.sk-label-container {text-align: center;}#sk-container-id-4 div.sk-container {/* jupyter's `normalize.less` sets `[hidden] { display: none; }` but bootstrap.min.css set `[hidden] { display: none !important; }` so we also need the `!important` here to be able to override the default hidden behavior on the sphinx rendered scikit-learn.org. See: https://github.com/scikit-learn/scikit-learn/issues/21755 */display: inline-block !important;position: relative;}#sk-container-id-4 div.sk-text-repr-fallback {display: none;}</style><div id=\"sk-container-id-4\" class=\"sk-top-container\"><div class=\"sk-text-repr-fallback\"><pre>RandomForestClassifier(n_estimators=1000, n_jobs=-1, random_state=42)</pre><b>In a Jupyter environment, please rerun this cell to show the HTML representation or trust the notebook. <br />On GitHub, the HTML representation is unable to render, please try loading this page with nbviewer.org.</b></div><div class=\"sk-container\" hidden><div class=\"sk-item\"><div class=\"sk-estimator sk-toggleable\"><input class=\"sk-toggleable__control sk-hidden--visually\" id=\"sk-estimator-id-4\" type=\"checkbox\" checked><label for=\"sk-estimator-id-4\" class=\"sk-toggleable__label sk-toggleable__label-arrow\">RandomForestClassifier</label><div class=\"sk-toggleable__content\"><pre>RandomForestClassifier(n_estimators=1000, n_jobs=-1, random_state=42)</pre></div></div></div></div></div>"
            ]
          },
          "metadata": {},
          "execution_count": 53
        }
      ]
    },
    {
      "cell_type": "code",
      "source": [
        "# Predict values using the best model\n",
        "y_train_pred_rf_clf =rf_clf.predict(x_train)\n",
        "y_test_pred_rf_clf = rf_clf.predict(x_test)"
      ],
      "metadata": {
        "id": "8xm-IP3Jfhmf"
      },
      "execution_count": 54,
      "outputs": []
    },
    {
      "cell_type": "markdown",
      "source": [
        "##### Performance of the Model"
      ],
      "metadata": {
        "id": "XW6ktI1GVIUL"
      }
    },
    {
      "cell_type": "code",
      "source": [
        "cfm_train_ct_rf= confusion_matrix(y_train, y_train_pred_rf_clf)\n",
        "cfm_test_ct_rf = confusion_matrix(y_test, y_test_pred_rf_clf)\n",
        "acs_train_ct_rf = accuracy_score(y_train, y_train_pred_rf_clf)\n",
        "acs_test_ct_rf = accuracy_score(y_test, y_test_pred_rf_clf)\n",
        "pcs_train_ct_rf = precision_score(y_train, y_train_pred_rf_clf)\n",
        "pcs_test_ct_rf = precision_score(y_test, y_test_pred_rf_clf)\n",
        "rcs_train_ct_rf= recall_score(y_train, y_train_pred_rf_clf)\n",
        "rcs_test_ct_rf = recall_score(y_test, y_test_pred_rf_clf)\n",
        "ra_score_train_rf = roc_auc_score(y_train, y_train_pred_rf_clf)\n",
        "ra_score_test_rf = roc_auc_score(y_test,y_test_pred_rf_clf)"
      ],
      "metadata": {
        "id": "wAUPSXmcfat7"
      },
      "execution_count": 55,
      "outputs": []
    },
    {
      "cell_type": "code",
      "source": [
        "#Print the result\n",
        "# Print the confusion matrix and accuracy score for training data\n",
        "print(\"Confusion Matrix (Training Data):\")\n",
        "print(cfm_train_ct_rf)\n",
        "\n",
        "print(\"\\nAccuracy Score (Training Data):\", acs_train_ct_rf)\n",
        "print(\"\\nPrecision Score (Training Data):\", pcs_train_ct_rf)\n",
        "print(\"\\nRecall Score (Training Data):\", rcs_train_ct_rf)\n",
        "print(\"\\nROC AUC Score (Training Data):\", ra_score_train_rf)\n",
        "\n",
        "# Print the confusion matrix and accuracy score for testing data\n",
        "print(\"\\nConfusion Matrix (Testing Data):\")\n",
        "print(cfm_test_ct_rf)\n",
        "\n",
        "print(\"\\nAccuracy Score (Testing Data):\", acs_test_ct_rf)\n",
        "print(\"\\nPrecision Score (Test Data):\", pcs_test_ct_rf)\n",
        "print(\"\\nRecall Score (Test Data):\", rcs_test_ct_rf)\n",
        "print(\"\\nROC AUC Score (Test Data):\", ra_score_test_rf)"
      ],
      "metadata": {
        "colab": {
          "base_uri": "https://localhost:8080/"
        },
        "id": "wccnUq_bgNJP",
        "outputId": "50bba583-61e9-426c-f633-b752ad2b1f9b"
      },
      "execution_count": 56,
      "outputs": [
        {
          "output_type": "stream",
          "name": "stdout",
          "text": [
            "Confusion Matrix (Training Data):\n",
            "[[1988    0]\n",
            " [   0  681]]\n",
            "\n",
            "Accuracy Score (Training Data): 1.0\n",
            "\n",
            "Precision Score (Training Data): 1.0\n",
            "\n",
            "Recall Score (Training Data): 1.0\n",
            "\n",
            "ROC AUC Score (Training Data): 1.0\n",
            "\n",
            "Confusion Matrix (Testing Data):\n",
            "[[449  35]\n",
            " [ 80 104]]\n",
            "\n",
            "Accuracy Score (Testing Data): 0.8278443113772455\n",
            "\n",
            "Precision Score (Test Data): 0.7482014388489209\n",
            "\n",
            "Recall Score (Test Data): 0.5652173913043478\n",
            "\n",
            "ROC AUC Score (Test Data): 0.7464516708587853\n"
          ]
        }
      ]
    },
    {
      "cell_type": "markdown",
      "source": [
        "The Random Forest model demonstrates perfect performance on the training data, achieving an accuracy, precision, recall, and ROC AUC score of 1.0. On the testing data, the model maintains strong performance with an accuracy score of 82.78%, a precision score of 74.82%, a recall score of 56.52%, and an ROC AUC score of 74.65%"
      ],
      "metadata": {
        "id": "cXuSwAWq-JMe"
      }
    },
    {
      "cell_type": "markdown",
      "source": [
        "**Plotting Tree**"
      ],
      "metadata": {
        "id": "NyOONNdrijDp"
      }
    },
    {
      "cell_type": "code",
      "source": [
        "from sklearn.metrics import roc_curve\n",
        "# Predict probabilities for the test set\n",
        "y_probs_rf = rf_clf.predict_proba(x_test)[:, 1]  # Get the probabilities for the positive class\n",
        "\n",
        "# Compute the ROC curve\n",
        "fpr, tpr, thresholds = roc_curve(y_test, y_probs_rf)\n",
        "\n",
        "# Calculate the AUC\n",
        "roc_auc_rf= roc_auc_score(y_test, y_probs_rf)\n",
        "\n",
        "# Plot the ROC curve\n",
        "plt.figure()\n",
        "plt.plot(fpr, tpr, color='darkorange', lw=2, label=f'ROC curve (area = {roc_auc_rf:.2f})')\n",
        "plt.plot([0, 1], [0, 1], color='navy', lw=2, linestyle='--')\n",
        "plt.xlim([0.0, 1.0])\n",
        "plt.ylim([0.0, 1.05])\n",
        "plt.xlabel('False Positive Rate')\n",
        "plt.ylabel('True Positive Rate')\n",
        "plt.title('Receiver Operating Characteristic (ROC) Curve')\n",
        "plt.legend(loc=\"lower right\")\n",
        "plt.show()"
      ],
      "metadata": {
        "colab": {
          "base_uri": "https://localhost:8080/",
          "height": 472
        },
        "id": "mUpNYAuAiiRM",
        "outputId": "5c112838-4bce-49d3-80b9-c8c54e811146"
      },
      "execution_count": 57,
      "outputs": [
        {
          "output_type": "display_data",
          "data": {
            "text/plain": [
              "<Figure size 640x480 with 1 Axes>"
            ],
            "image/png": "[encoded data removed]"
          },
          "metadata": {}
        }
      ]
    },
    {
      "cell_type": "markdown",
      "source": [
        "**Apply the grid search model for better accuracy score**"
      ],
      "metadata": {
        "id": "-gI6y9GEh9uc"
      }
    },
    {
      "cell_type": "code",
      "source": [
        "# Create a Random Forest Classifier\n",
        "rf_classifier = RandomForestClassifier(random_state=42)\n",
        "\n",
        "# Define the parameter grid for GridSearchCV\n",
        "param_grid = {\n",
        "    'n_estimators': [50, 200],\n",
        "    'max_depth': [10, 20],\n",
        "    'min_samples_split': [ 5, 10],\n",
        "    'min_samples_leaf': [1, 4],\n",
        "}\n",
        "\n",
        "# Perform GridSearchCV\n",
        "grid_search_rf = GridSearchCV(rf_classifier, param_grid, cv=3, scoring='accuracy')\n",
        "grid_search_rf.fit(x_train, y_train)\n",
        "\n",
        "# Get the best parameters and model\n",
        "best_params_rf = grid_search_rf.best_params_\n",
        "best_rf_classifier = grid_search_rf.best_estimator_\n",
        "\n",
        "# Predict values using the best model\n",
        "y_train_pred_rfb = best_rf_classifier.predict(x_train)\n",
        "y_test_pred_rfb = best_rf_classifier.predict(x_test)\n"
      ],
      "metadata": {
        "id": "tLk9aQ2HgfjT"
      },
      "execution_count": 58,
      "outputs": []
    },
    {
      "cell_type": "code",
      "source": [
        "# finding the best hyperparameters\n",
        "print(\"best hyperparameter: \", best_params_rf)"
      ],
      "metadata": {
        "colab": {
          "base_uri": "https://localhost:8080/"
        },
        "id": "jvyiBFcPmbqa",
        "outputId": "263cd141-3532-4d1d-e61d-10a7ea09eed0"
      },
      "execution_count": 59,
      "outputs": [
        {
          "output_type": "stream",
          "name": "stdout",
          "text": [
            "best hyperparameter:  {'max_depth': 20, 'min_samples_leaf': 4, 'min_samples_split': 10, 'n_estimators': 200}\n"
          ]
        }
      ]
    },
    {
      "cell_type": "markdown",
      "source": [
        "#####Model Performace"
      ],
      "metadata": {
        "id": "OSfgY3vGiIwJ"
      }
    },
    {
      "cell_type": "code",
      "source": [
        "cfm_train_brf = confusion_matrix(y_train, y_train_pred_rfb)\n",
        "cfm_test_brf = confusion_matrix(y_test, y_test_pred_rfb)\n",
        "acs_train_brf = accuracy_score(y_train, y_train_pred_rfb)\n",
        "acs_test_brf = accuracy_score(y_test, y_test_pred_rfb)\n",
        "pcs_train_brf = precision_score(y_train, y_train_pred_rfb)\n",
        "pcs_test_brf = precision_score(y_test, y_test_pred_rfb)\n",
        "rcs_train_brf = recall_score(y_train, y_train_pred_rfb)\n",
        "rcs_test_brf = recall_score(y_test, y_test_pred_rfb)\n",
        "roc_auc_score_train_brf = roc_auc_score(y_train, y_train_pred_rfb)\n",
        "roc_auc_score_test_brf = roc_auc_score(y_test, y_test_pred_rfb)"
      ],
      "metadata": {
        "id": "0-A22m-3hRtL"
      },
      "execution_count": 60,
      "outputs": []
    },
    {
      "cell_type": "code",
      "source": [
        "# Print the results for Random Forest Classifier with best results\n",
        "print(\"Random Forest Classifier Results:\")\n",
        "print(\"Confusion Matrix (Training Data):\")\n",
        "print(cfm_train_brf)\n",
        "print(\"\\nAccuracy Score (Training Data):\", acs_train_brf)\n",
        "print(\"\\nPrecision Score (Training Data):\", pcs_train_brf)\n",
        "print(\"\\nRecall Score (Training Data):\", rcs_train_brf)\n",
        "print(\"\\nROC AUC Score (Training Data):\", roc_auc_score_train_brf)\n",
        "\n",
        "print(\"\\nConfusion Matrix (Testing Data):\")\n",
        "print(cfm_test_brf)\n",
        "print(\"\\nAccuracy Score (Testing Data):\", acs_test_brf)\n",
        "print(\"\\nPrecision Score (Test Data):\", pcs_test_brf)\n",
        "print(\"\\nRecall Score (Test Data):\", rcs_test_brf)\n",
        "print(\"\\nROC AUC Score (Test Data):\", roc_auc_score_test_brf)"
      ],
      "metadata": {
        "colab": {
          "base_uri": "https://localhost:8080/"
        },
        "id": "SbIrMSbJhURy",
        "outputId": "c4a19c4d-2f71-4f7b-df85-b8cdf1b166c2"
      },
      "execution_count": 61,
      "outputs": [
        {
          "output_type": "stream",
          "name": "stdout",
          "text": [
            "Random Forest Classifier Results:\n",
            "Confusion Matrix (Training Data):\n",
            "[[1955   33]\n",
            " [ 197  484]]\n",
            "\n",
            "Accuracy Score (Training Data): 0.913825402772574\n",
            "\n",
            "Precision Score (Training Data): 0.9361702127659575\n",
            "\n",
            "Recall Score (Training Data): 0.71071953010279\n",
            "\n",
            "ROC AUC Score (Training Data): 0.8470599662586384\n",
            "\n",
            "Confusion Matrix (Testing Data):\n",
            "[[451  33]\n",
            " [ 85  99]]\n",
            "\n",
            "Accuracy Score (Testing Data): 0.8233532934131736\n",
            "\n",
            "Precision Score (Test Data): 0.75\n",
            "\n",
            "Recall Score (Test Data): 0.5380434782608695\n",
            "\n",
            "ROC AUC Score (Test Data): 0.7349308300395258\n"
          ]
        }
      ]
    },
    {
      "cell_type": "markdown",
      "source": [
        "In summary, the Random Forest Classifier, after grid search optimization, appears to be a good fit for the data, achieving high performance metrics on both training and testing datasets. However, by tuning or regularization might be beneficial to generalize better to unseen data and reduce potential overfitting."
      ],
      "metadata": {
        "id": "GuWkjUsbAvdY"
      }
    },
    {
      "cell_type": "code",
      "source": [
        "from sklearn.metrics import roc_curve\n",
        "# Predict probabilities for the test set\n",
        "y_probs_rfb = grid_search_rf.predict_proba(x_test)[:, 1]  # Get the probabilities for the positive class\n",
        "\n",
        "# Compute the ROC curve\n",
        "fpr_brf, tpr_brf, thresholds_brf = roc_curve(y_test, y_probs_rfb)\n",
        "\n",
        "# Calculate the AUC\n",
        "roc_auc_rfb= roc_auc_score(y_test, y_probs_rfb)\n",
        "\n",
        "# Plot the ROC curve\n",
        "plt.figure()\n",
        "plt.plot(fpr, tpr, color='darkorange', lw=2, label=f'ROC curve (area = {roc_auc_rfb:.2f})')\n",
        "plt.plot([0, 1], [0, 1], color='navy', lw=2, linestyle='--')\n",
        "plt.xlim([0.0, 1.0])\n",
        "plt.ylim([0.0, 1.05])\n",
        "plt.xlabel('False Positive Rate')\n",
        "plt.ylabel('True Positive Rate')\n",
        "plt.title('Receiver Operating Characteristic (ROC) Curve')\n",
        "plt.legend(loc=\"lower right\")\n",
        "plt.show()"
      ],
      "metadata": {
        "colab": {
          "base_uri": "https://localhost:8080/",
          "height": 472
        },
        "id": "RIu3TSHqh4ud",
        "outputId": "f166e89b-740d-4575-c717-f0f41304ff54"
      },
      "execution_count": 62,
      "outputs": [
        {
          "output_type": "display_data",
          "data": {
            "text/plain": [
              "<Figure size 640x480 with 1 Axes>"
            ],
            "image/png": "[encoded data removed]"
          },
          "metadata": {}
        }
      ]
    },
    {
      "cell_type": "markdown",
      "source": [
        "**Gradient Forest Model**"
      ],
      "metadata": {
        "id": "-VLgqXrhlwi3"
      }
    },
    {
      "cell_type": "code",
      "source": [
        "# importing GradientBoostingClassifier model\n",
        "from sklearn.ensemble import GradientBoostingClassifier"
      ],
      "metadata": {
        "id": "ENSBajJelOl-"
      },
      "execution_count": 63,
      "outputs": []
    },
    {
      "cell_type": "code",
      "source": [
        "# fiting the dataset into the model\n",
        "gbc_clf=GradientBoostingClassifier()\n",
        "gbc_clf.fit(x_train,y_train)"
      ],
      "metadata": {
        "colab": {
          "base_uri": "https://localhost:8080/",
          "height": 74
        },
        "id": "58mEvuphmtpU",
        "outputId": "f89a9017-2869-41b7-f568-546afffdeeab"
      },
      "execution_count": 64,
      "outputs": [
        {
          "output_type": "execute_result",
          "data": {
            "text/plain": [
              "GradientBoostingClassifier()"
            ],
            "text/html": [
              "<style>#sk-container-id-5 {color: black;background-color: white;}#sk-container-id-5 pre{padding: 0;}#sk-container-id-5 div.sk-toggleable {background-color: white;}#sk-container-id-5 label.sk-toggleable__label {cursor: pointer;display: block;width: 100%;margin-bottom: 0;padding: 0.3em;box-sizing: border-box;text-align: center;}#sk-container-id-5 label.sk-toggleable__label-arrow:before {content: \"▸\";float: left;margin-right: 0.25em;color: #696969;}#sk-container-id-5 label.sk-toggleable__label-arrow:hover:before {color: black;}#sk-container-id-5 div.sk-estimator:hover label.sk-toggleable__label-arrow:before {color: black;}#sk-container-id-5 div.sk-toggleable__content {max-height: 0;max-width: 0;overflow: hidden;text-align: left;background-color: #f0f8ff;}#sk-container-id-5 div.sk-toggleable__content pre {margin: 0.2em;color: black;border-radius: 0.25em;background-color: #f0f8ff;}#sk-container-id-5 input.sk-toggleable__control:checked~div.sk-toggleable__content {max-height: 200px;max-width: 100%;overflow: auto;}#sk-container-id-5 input.sk-toggleable__control:checked~label.sk-toggleable__label-arrow:before {content: \"▾\";}#sk-container-id-5 div.sk-estimator input.sk-toggleable__control:checked~label.sk-toggleable__label {background-color: #d4ebff;}#sk-container-id-5 div.sk-label input.sk-toggleable__control:checked~label.sk-toggleable__label {background-color: #d4ebff;}#sk-container-id-5 input.sk-hidden--visually {border: 0;clip: rect(1px 1px 1px 1px);clip: rect(1px, 1px, 1px, 1px);height: 1px;margin: -1px;overflow: hidden;padding: 0;position: absolute;width: 1px;}#sk-container-id-5 div.sk-estimator {font-family: monospace;background-color: #f0f8ff;border: 1px dotted black;border-radius: 0.25em;box-sizing: border-box;margin-bottom: 0.5em;}#sk-container-id-5 div.sk-estimator:hover {background-color: #d4ebff;}#sk-container-id-5 div.sk-parallel-item::after {content: \"\";width: 100%;border-bottom: 1px solid gray;flex-grow: 1;}#sk-container-id-5 div.sk-label:hover label.sk-toggleable__label {background-color: #d4ebff;}#sk-container-id-5 div.sk-serial::before {content: \"\";position: absolute;border-left: 1px solid gray;box-sizing: border-box;top: 0;bottom: 0;left: 50%;z-index: 0;}#sk-container-id-5 div.sk-serial {display: flex;flex-direction: column;align-items: center;background-color: white;padding-right: 0.2em;padding-left: 0.2em;position: relative;}#sk-container-id-5 div.sk-item {position: relative;z-index: 1;}#sk-container-id-5 div.sk-parallel {display: flex;align-items: stretch;justify-content: center;background-color: white;position: relative;}#sk-container-id-5 div.sk-item::before, #sk-container-id-5 div.sk-parallel-item::before {content: \"\";position: absolute;border-left: 1px solid gray;box-sizing: border-box;top: 0;bottom: 0;left: 50%;z-index: -1;}#sk-container-id-5 div.sk-parallel-item {display: flex;flex-direction: column;z-index: 1;position: relative;background-color: white;}#sk-container-id-5 div.sk-parallel-item:first-child::after {align-self: flex-end;width: 50%;}#sk-container-id-5 div.sk-parallel-item:last-child::after {align-self: flex-start;width: 50%;}#sk-container-id-5 div.sk-parallel-item:only-child::after {width: 0;}#sk-container-id-5 div.sk-dashed-wrapped {border: 1px dashed gray;margin: 0 0.4em 0.5em 0.4em;box-sizing: border-box;padding-bottom: 0.4em;background-color: white;}#sk-container-id-5 div.sk-label label {font-family: monospace;font-weight: bold;display: inline-block;line-height: 1.2em;}#sk-container-id-5 div.sk-label-container {text-align: center;}#sk-container-id-5 div.sk-container {/* jupyter's `normalize.less` sets `[hidden] { display: none; }` but bootstrap.min.css set `[hidden] { display: none !important; }` so we also need the `!important` here to be able to override the default hidden behavior on the sphinx rendered scikit-learn.org. See: https://github.com/scikit-learn/scikit-learn/issues/21755 */display: inline-block !important;position: relative;}#sk-container-id-5 div.sk-text-repr-fallback {display: none;}</style><div id=\"sk-container-id-5\" class=\"sk-top-container\"><div class=\"sk-text-repr-fallback\"><pre>GradientBoostingClassifier()</pre><b>In a Jupyter environment, please rerun this cell to show the HTML representation or trust the notebook. <br />On GitHub, the HTML representation is unable to render, please try loading this page with nbviewer.org.</b></div><div class=\"sk-container\" hidden><div class=\"sk-item\"><div class=\"sk-estimator sk-toggleable\"><input class=\"sk-toggleable__control sk-hidden--visually\" id=\"sk-estimator-id-5\" type=\"checkbox\" checked><label for=\"sk-estimator-id-5\" class=\"sk-toggleable__label sk-toggleable__label-arrow\">GradientBoostingClassifier</label><div class=\"sk-toggleable__content\"><pre>GradientBoostingClassifier()</pre></div></div></div></div></div>"
            ]
          },
          "metadata": {},
          "execution_count": 64
        }
      ]
    },
    {
      "cell_type": "code",
      "source": [
        "# Predict values using the best model\n",
        "y_train_pred_gbc = gbc_clf.predict(x_train)\n",
        "y_test_pred_gbc = gbc_clf.predict(x_test)"
      ],
      "metadata": {
        "id": "dECQxTyam0nW"
      },
      "execution_count": 65,
      "outputs": []
    },
    {
      "cell_type": "markdown",
      "source": [
        "###### Performance of the model"
      ],
      "metadata": {
        "id": "eAleHhmLXtNi"
      }
    },
    {
      "cell_type": "code",
      "source": [
        "cfm_train_gbc = confusion_matrix(y_train, y_train_pred_gbc)\n",
        "cfm_test_gbc = confusion_matrix(y_test, y_test_pred_gbc)\n",
        "acs_train_gbc = accuracy_score(y_train, y_train_pred_gbc)\n",
        "acs_test_gbc = accuracy_score(y_test, y_test_pred_gbc)\n",
        "pcs_train_gbc = precision_score(y_train, y_train_pred_gbc)\n",
        "pcs_test_gbc = precision_score(y_test, y_test_pred_gbc)\n",
        "rcs_train_gbc = recall_score(y_train, y_train_pred_gbc)\n",
        "rcs_test_gbc = recall_score(y_test, y_test_pred_gbc)\n",
        "roc_auc_score_train_gbc = roc_auc_score(y_train, y_train_pred_gbc)\n",
        "roc_auc_score_test_gbc = roc_auc_score(y_test, y_test_pred_gbc)"
      ],
      "metadata": {
        "id": "5TDowsKznjaU"
      },
      "execution_count": 66,
      "outputs": []
    },
    {
      "cell_type": "code",
      "source": [
        "# Print the results for Random Forest Classifier with best results\n",
        "print(\"Gradient Forest  Classifier Results:\")\n",
        "print(\"Confusion Matrix (Training Data):\")\n",
        "print(cfm_train_gbc)\n",
        "print(\"\\nAccuracy Score (Training Data):\", acs_train_gbc)\n",
        "print(\"\\nPrecision Score (Training Data):\", pcs_train_gbc)\n",
        "print(\"\\nRecall Score (Training Data):\", rcs_train_gbc)\n",
        "print(\"\\nROC AUC Score (Training Data):\", roc_auc_score_train_gbc)\n",
        "\n",
        "print(\"\\nConfusion Matrix (Testing Data):\")\n",
        "print(cfm_test_gbc)\n",
        "print(\"\\nAccuracy Score (Testing Data):\", acs_test_gbc)\n",
        "print(\"\\nPrecision Score (Test Data):\", pcs_test_gbc)\n",
        "print(\"\\nRecall Score (Test Data):\", rcs_test_gbc)\n",
        "print(\"\\nROC AUC Score (Test Data):\", roc_auc_score_test_gbc)"
      ],
      "metadata": {
        "colab": {
          "base_uri": "https://localhost:8080/"
        },
        "id": "QAmxXFvMoFa1",
        "outputId": "c25d8aa7-199a-4ded-ba5a-300b9e361b0d"
      },
      "execution_count": 67,
      "outputs": [
        {
          "output_type": "stream",
          "name": "stdout",
          "text": [
            "Gradient Forest  Classifier Results:\n",
            "Confusion Matrix (Training Data):\n",
            "[[1927   61]\n",
            " [ 255  426]]\n",
            "\n",
            "Accuracy Score (Training Data): 0.8816035968527538\n",
            "\n",
            "Precision Score (Training Data): 0.8747433264887063\n",
            "\n",
            "Recall Score (Training Data): 0.6255506607929515\n",
            "\n",
            "ROC AUC Score (Training Data): 0.7974332780825925\n",
            "\n",
            "Confusion Matrix (Testing Data):\n",
            "[[451  33]\n",
            " [ 83 101]]\n",
            "\n",
            "Accuracy Score (Testing Data): 0.8263473053892215\n",
            "\n",
            "Precision Score (Test Data): 0.753731343283582\n",
            "\n",
            "Recall Score (Test Data): 0.5489130434782609\n",
            "\n",
            "ROC AUC Score (Test Data): 0.7403656126482213\n"
          ]
        }
      ]
    },
    {
      "cell_type": "markdown",
      "source": [
        "Overall, the Gradient Forest Classifier appears to be a good fit for the dataset based on these metrics. It achieves high accuracy and robustness across both training and testing datasets, with balanced precision and recall scores. However, further fine-tuning and validation across different datasets would provide more confidence in its generalization capability."
      ],
      "metadata": {
        "id": "IDwtQlpoDACW"
      }
    },
    {
      "cell_type": "code",
      "source": [
        "# Create a Gradient Boosting Classifier\n",
        "gb_classifier = GradientBoostingClassifier(random_state=42)\n",
        "\n",
        "# Define the parameter grid for GridSearchCV\n",
        "param_grid_gb = {\n",
        "    'n_estimators': [50, 100, 200],\n",
        "    'learning_rate': [0.01, 0.1, 0.2],\n",
        "    'max_depth': [3, 5, 7],\n",
        "    'min_samples_split': [2, 5, 10],\n",
        "    'min_samples_leaf': [1, 2, 4],\n",
        "}\n",
        "\n",
        "# Perform GridSearchCV\n",
        "grid_search_gb = GridSearchCV(gb_classifier, param_grid_gb, cv=3, scoring='accuracy')\n",
        "grid_search_gb.fit(x_train, y_train)\n",
        "\n",
        "# Get the best parameters and model\n",
        "best_params_gb = grid_search_gb.best_params_\n",
        "best_gb_classifier = grid_search_gb.best_estimator_\n",
        "\n",
        "# Predict values using the best model\n",
        "y_train_pred_gb = best_gb_classifier.predict(x_train)\n",
        "y_test_pred_gb = best_gb_classifier.predict(x_test)\n",
        "\n"
      ],
      "metadata": {
        "id": "2_EbM1vkoesX"
      },
      "execution_count": 68,
      "outputs": []
    },
    {
      "cell_type": "code",
      "source": [
        "# printing the best parameters\n",
        "print(\"best hyperparameter: \", best_params_gb)"
      ],
      "metadata": {
        "colab": {
          "base_uri": "https://localhost:8080/"
        },
        "id": "6qVqIeLTYgy5",
        "outputId": "4001c631-91ee-4ee9-c572-c209f0f47d30"
      },
      "execution_count": 69,
      "outputs": [
        {
          "output_type": "stream",
          "name": "stdout",
          "text": [
            "best hyperparameter:  {'learning_rate': 0.1, 'max_depth': 3, 'min_samples_leaf': 4, 'min_samples_split': 10, 'n_estimators': 100}\n"
          ]
        }
      ]
    },
    {
      "cell_type": "code",
      "source": [
        "# Model Performance\n",
        "cfm_train_gb = confusion_matrix(y_train, y_train_pred_gb)\n",
        "cfm_test_gb = confusion_matrix(y_test, y_test_pred_gb)\n",
        "acs_train_gb = accuracy_score(y_train, y_train_pred_gb)\n",
        "acs_test_gb = accuracy_score(y_test, y_test_pred_gb)\n",
        "pcs_train_gb = precision_score(y_train, y_train_pred_gb)\n",
        "pcs_test_gb = precision_score(y_test, y_test_pred_gb)\n",
        "rcs_train_gb = recall_score(y_train, y_train_pred_gb)\n",
        "rcs_test_gb = recall_score(y_test, y_test_pred_gb)\n",
        "roc_auc_score_train_gb = roc_auc_score(y_train, y_train_pred_gb)\n",
        "roc_auc_score_test_gb = roc_auc_score(y_test, y_test_pred_gb)\n",
        "\n",
        "\n",
        "# Print the results for Gradient Boosting Classifier\n",
        "print(\"Gradient Boosting Classifier Results:\")\n",
        "print(\"Confusion Matrix (Training Data):\")\n",
        "print(cfm_train_gb)\n",
        "print(\"\\nAccuracy Score (Training Data):\", acs_train_gb)\n",
        "print(\"\\nPrecision Score (Training Data):\", pcs_train_gb)\n",
        "print(\"\\nRecall Score (Training Data):\", rcs_train_gb)\n",
        "print(\"\\nROC AUC Score (Training Data):\", roc_auc_score_train_gb)\n",
        "\n",
        "print(\"\\nConfusion Matrix (Testing Data):\")\n",
        "print(cfm_test_gb)\n",
        "print(\"\\nAccuracy Score (Testing Data):\", acs_test_gb)\n",
        "print(\"\\nPrecision Score (Testing Data):\", pcs_test_gb)\n",
        "print(\"\\nRecall Score (Testing Data):\", rcs_test_gb)\n",
        "print(\"\\nROC AUC Score (Testing Data):\", roc_auc_score_test_gb)\n"
      ],
      "metadata": {
        "colab": {
          "base_uri": "https://localhost:8080/"
        },
        "id": "y9WU1JFTo1dH",
        "outputId": "d809ce3c-9140-4d05-8d18-16588bb6a312"
      },
      "execution_count": 70,
      "outputs": [
        {
          "output_type": "stream",
          "name": "stdout",
          "text": [
            "Gradient Boosting Classifier Results:\n",
            "Confusion Matrix (Training Data):\n",
            "[[1925   63]\n",
            " [ 265  416]]\n",
            "\n",
            "Accuracy Score (Training Data): 0.8771075309104533\n",
            "\n",
            "Precision Score (Training Data): 0.8684759916492694\n",
            "\n",
            "Recall Score (Training Data): 0.6108663729809104\n",
            "\n",
            "ROC AUC Score (Training Data): 0.7895881160679199\n",
            "\n",
            "Confusion Matrix (Testing Data):\n",
            "[[449  35]\n",
            " [ 84 100]]\n",
            "\n",
            "Accuracy Score (Testing Data): 0.8218562874251497\n",
            "\n",
            "Precision Score (Testing Data): 0.7407407407407407\n",
            "\n",
            "Recall Score (Testing Data): 0.5434782608695652\n",
            "\n",
            "ROC AUC Score (Testing Data): 0.7355821056413941\n"
          ]
        }
      ]
    },
    {
      "cell_type": "markdown",
      "source": [
        "the Gradient Boosting Classifier shows a good fit for the data, performing consistently across training and testing datasets with room for minor enhancements in recall on the testing set."
      ],
      "metadata": {
        "id": "Hyjpct0gEav4"
      }
    },
    {
      "cell_type": "markdown",
      "source": [
        "**Ada Boost**"
      ],
      "metadata": {
        "id": "O4yioUdGpxPb"
      }
    },
    {
      "cell_type": "code",
      "source": [
        "from sklearn.ensemble import AdaBoostClassifier\n",
        "# Create a base classifier\n",
        "base_classifier = tree.DecisionTreeClassifier(max_depth=1)\n",
        "\n",
        "# Create an AdaBoost Classifier\n",
        "adaboost_classifier = AdaBoostClassifier(base_classifier, random_state=42)\n",
        "\n",
        "# Define the parameter grid for GridSearchCV\n",
        "param_grid_adaboost = {\n",
        "    'n_estimators': [50,100, 200,500],\n",
        "    'learning_rate': [0.01, 0.1, 0.2,0.5],\n",
        "}\n",
        "\n",
        "# Perform GridSearchCV\n",
        "grid_search_adaboost = GridSearchCV(adaboost_classifier, param_grid_adaboost, cv=5, scoring='accuracy')\n",
        "grid_search_adaboost.fit(x_train, y_train)\n",
        "\n",
        "# Get the best parameters and model\n",
        "best_params_adaboost = grid_search_adaboost.best_params_\n",
        "best_adaboost_classifier = grid_search_adaboost.best_estimator_\n",
        "\n",
        "# Predict values using the best model\n",
        "y_train_pred_adab = best_adaboost_classifier.predict(x_train)\n",
        "y_test_pred_adab = best_adaboost_classifier.predict(x_test)"
      ],
      "metadata": {
        "id": "a_DB-5VDp05E"
      },
      "execution_count": 71,
      "outputs": []
    },
    {
      "cell_type": "code",
      "source": [
        "#printing the best hyperparameter\n",
        "print(\"best hyperparameter: \", best_params_adaboost)"
      ],
      "metadata": {
        "colab": {
          "base_uri": "https://localhost:8080/"
        },
        "id": "NmwtRUVftYcd",
        "outputId": "7a342338-fae4-44f0-9cf6-684a1a80f21b"
      },
      "execution_count": 72,
      "outputs": [
        {
          "output_type": "stream",
          "name": "stdout",
          "text": [
            "best hyperparameter:  {'learning_rate': 0.1, 'n_estimators': 100}\n"
          ]
        }
      ]
    },
    {
      "cell_type": "code",
      "source": [
        "# Model Performance\n",
        "cfm_train_adab = confusion_matrix(y_train, y_train_pred_adab)\n",
        "cfm_test_adab = confusion_matrix(y_test, y_test_pred_adab)\n",
        "acs_train_adab = accuracy_score(y_train, y_train_pred_adab)\n",
        "acs_test_adab = accuracy_score(y_test, y_test_pred_adab)\n",
        "pcs_train_adab = precision_score(y_train, y_train_pred_adab)\n",
        "pcs_test_adab = precision_score(y_test, y_test_pred_adab)\n",
        "rcs_train_adab = recall_score(y_train, y_train_pred_adab)\n",
        "rcs_test_adab = recall_score(y_test, y_test_pred_adab)\n",
        "roc_auc_score_train_adab = roc_auc_score(y_train, y_train_pred_adab)\n",
        "roc_auc_score_test_adab = roc_auc_score(y_test, y_test_pred_adab)"
      ],
      "metadata": {
        "id": "m-pkNn8tqQxG"
      },
      "execution_count": 73,
      "outputs": []
    },
    {
      "cell_type": "code",
      "source": [
        "# Print the results for AdaBoost Classifier\n",
        "print(\"AdaBoost Classifier Results:\")\n",
        "print(\"Confusion Matrix (Training Data):\")\n",
        "print(cfm_train_adab)\n",
        "print(\"\\nAccuracy Score (Training Data):\", acs_train_adab)\n",
        "print(\"\\nPrecision Score (Training Data):\", pcs_train_adab)\n",
        "print(\"\\nRecall Score (Training Data):\", rcs_train_adab)\n",
        "print(\"\\nROC AUC Score (Training Data):\", roc_auc_score_train_adab)\n",
        "\n",
        "print(\"\\nConfusion Matrix (Testing Data):\")\n",
        "print(cfm_test_adab)\n",
        "print(\"\\nAccuracy Score (Testing Data):\", acs_test_adab)\n",
        "print(\"\\nPrecision Score (Testing Data):\", pcs_test_adab)\n",
        "print(\"\\nRecall Score (Testing Data):\", rcs_test_adab)\n",
        "print(\"\\nROC AUC Score (Testing Data):\", roc_auc_score_test_adab)"
      ],
      "metadata": {
        "colab": {
          "base_uri": "https://localhost:8080/"
        },
        "id": "dQhXCWDIm8tD",
        "outputId": "064dba51-d614-4e42-db83-9bc69917f628"
      },
      "execution_count": 74,
      "outputs": [
        {
          "output_type": "stream",
          "name": "stdout",
          "text": [
            "AdaBoost Classifier Results:\n",
            "Confusion Matrix (Training Data):\n",
            "[[1919   69]\n",
            " [ 349  332]]\n",
            "\n",
            "Accuracy Score (Training Data): 0.8433870363431997\n",
            "\n",
            "Precision Score (Training Data): 0.827930174563591\n",
            "\n",
            "Recall Score (Training Data): 0.48751835535976507\n",
            "\n",
            "ROC AUC Score (Training Data): 0.7264050529313916\n",
            "\n",
            "Confusion Matrix (Testing Data):\n",
            "[[462  22]\n",
            " [ 94  90]]\n",
            "\n",
            "Accuracy Score (Testing Data): 0.8263473053892215\n",
            "\n",
            "Precision Score (Testing Data): 0.8035714285714286\n",
            "\n",
            "Recall Score (Testing Data): 0.4891304347826087\n",
            "\n",
            "ROC AUC Score (Testing Data): 0.7218379446640316\n"
          ]
        }
      ]
    },
    {
      "cell_type": "markdown",
      "source": [
        " the AdaBoost model demonstrates a reasonable fit as indicated by consistent performance metrics across both training and testing datasets."
      ],
      "metadata": {
        "id": "9eg8tNJwFym3"
      }
    },
    {
      "cell_type": "markdown",
      "source": [
        "**XG Boost**"
      ],
      "metadata": {
        "id": "L3QCH4v0r9ws"
      }
    },
    {
      "cell_type": "code",
      "source": [
        "from xgboost import XGBClassifier\n",
        "\n",
        "# Create an XGBoost Classifier\n",
        "xgb_classifier = XGBClassifier(random_state=42)\n",
        "\n",
        "# Define the parameter grid for GridSearchCV\n",
        "param_grid_xgb = {\n",
        "    'n_estimators': [50, 100, 200],\n",
        "    'learning_rate': [0.01, 0.1, 0.2],\n",
        "    'max_depth': [3, 5, 7],\n",
        "    'min_child_weight': [1, 3, 5],\n",
        "    }\n",
        "\n",
        "# Perform GridSearchCV\n",
        "grid_search_xgb = GridSearchCV(xgb_classifier, param_grid_xgb, cv=3, scoring='accuracy')\n",
        "grid_search_xgb.fit(x_train, y_train)\n",
        "\n",
        "# Get the best parameters and model\n",
        "best_params_xgb = grid_search_xgb.best_params_\n",
        "best_xgb_classifier = grid_search_xgb.best_estimator_\n",
        "\n",
        "# Predict values using the best model\n",
        "y_train_pred_xgb = best_xgb_classifier.predict(x_train)\n",
        "y_test_pred_xgb = best_xgb_classifier.predict(x_test)\n"
      ],
      "metadata": {
        "id": "NEmF1JuZqSSL"
      },
      "execution_count": 75,
      "outputs": []
    },
    {
      "cell_type": "code",
      "source": [
        "print(\"best hyperparameter: \", best_params_xgb)"
      ],
      "metadata": {
        "colab": {
          "base_uri": "https://localhost:8080/"
        },
        "id": "SUzSBFOkuUU-",
        "outputId": "bcbce827-b27c-4847-ef9d-cf834ebb43a7"
      },
      "execution_count": 76,
      "outputs": [
        {
          "output_type": "stream",
          "name": "stdout",
          "text": [
            "best hyperparameter:  {'learning_rate': 0.2, 'max_depth': 3, 'min_child_weight': 5, 'n_estimators': 50}\n"
          ]
        }
      ]
    },
    {
      "cell_type": "code",
      "source": [
        "# Model Performance\n",
        "cfm_train_xgb = confusion_matrix(y_train, y_train_pred_xgb)\n",
        "cfm_test_xgb = confusion_matrix(y_test, y_test_pred_xgb)\n",
        "acs_train_xgb = accuracy_score(y_train, y_train_pred_xgb)\n",
        "acs_test_xgb = accuracy_score(y_test, y_test_pred_xgb)\n",
        "pcs_train_xgb = precision_score(y_train, y_train_pred_xgb)\n",
        "pcs_test_xgb = precision_score(y_test, y_test_pred_xgb)\n",
        "rcs_train_xgb = recall_score(y_train, y_train_pred_xgb)\n",
        "rcs_test_xgb = recall_score(y_test, y_test_pred_xgb)\n",
        "roc_auc_score_train_xgb = roc_auc_score(y_train, y_train_pred_xgb)\n",
        "roc_auc_score_test_xgb = roc_auc_score(y_test, y_test_pred_xgb)"
      ],
      "metadata": {
        "id": "lnueSZdLqYSa"
      },
      "execution_count": 77,
      "outputs": []
    },
    {
      "cell_type": "code",
      "source": [
        "# Print the results for XGBoost Classifier\n",
        "print(\"XGBoost Classifier Results:\")\n",
        "print(\"Confusion Matrix (Training Data):\")\n",
        "print(cfm_train_xgb)\n",
        "print(\"\\nAccuracy Score (Training Data):\", acs_train_xgb)\n",
        "print(\"\\nPrecision Score (Training Data):\", pcs_train_xgb)\n",
        "print(\"\\nRecall Score (Training Data):\", rcs_train_xgb)\n",
        "print(\"\\nROC AUC Score (Training Data):\", roc_auc_score_train_xgb)\n",
        "\n",
        "print(\"\\nConfusion Matrix (Testing Data):\")\n",
        "print(cfm_test_xgb)\n",
        "print(\"\\nAccuracy Score (Testing Data):\", acs_test_xgb)\n",
        "print(\"\\nPrecision Score (Testing Data):\", pcs_test_xgb)\n",
        "print(\"\\nRecall Score (Testing Data):\", rcs_test_xgb)\n",
        "print(\"\\nROC AUC Score (Testing Data):\", roc_auc_score_test_xgb)"
      ],
      "metadata": {
        "colab": {
          "base_uri": "https://localhost:8080/"
        },
        "id": "x2YcP1ZeuktH",
        "outputId": "51752e08-2569-4d1e-96ce-8d158c84a436"
      },
      "execution_count": 78,
      "outputs": [
        {
          "output_type": "stream",
          "name": "stdout",
          "text": [
            "XGBoost Classifier Results:\n",
            "Confusion Matrix (Training Data):\n",
            "[[1909   79]\n",
            " [ 275  406]]\n",
            "\n",
            "Accuracy Score (Training Data): 0.8673660547021357\n",
            "\n",
            "Precision Score (Training Data): 0.8371134020618557\n",
            "\n",
            "Recall Score (Training Data): 0.5961820851688693\n",
            "\n",
            "ROC AUC Score (Training Data): 0.7782218272926841\n",
            "\n",
            "Confusion Matrix (Testing Data):\n",
            "[[451  33]\n",
            " [ 82 102]]\n",
            "\n",
            "Accuracy Score (Testing Data): 0.8278443113772455\n",
            "\n",
            "Precision Score (Testing Data): 0.7555555555555555\n",
            "\n",
            "Recall Score (Testing Data): 0.5543478260869565\n",
            "\n",
            "ROC AUC Score (Testing Data): 0.7430830039525692\n"
          ]
        }
      ]
    },
    {
      "cell_type": "markdown",
      "source": [
        "the XGBoost Classifier appears to be a good fit for the dataset."
      ],
      "metadata": {
        "id": "AT4eDepxG13g"
      }
    },
    {
      "cell_type": "code",
      "source": [
        "!pip install xgboost\n",
        "import xgboost as xgb"
      ],
      "metadata": {
        "colab": {
          "base_uri": "https://localhost:8080/"
        },
        "id": "_NPewniDQYur",
        "outputId": "e1c02e42-08db-435d-eaf4-19fe40aa645d"
      },
      "execution_count": 80,
      "outputs": [
        {
          "output_type": "stream",
          "name": "stdout",
          "text": [
            "Requirement already satisfied: xgboost in /usr/local/lib/python3.10/dist-packages (2.0.3)\n",
            "Requirement already satisfied: numpy in /usr/local/lib/python3.10/dist-packages (from xgboost) (1.25.2)\n",
            "Requirement already satisfied: scipy in /usr/local/lib/python3.10/dist-packages (from xgboost) (1.11.4)\n"
          ]
        }
      ]
    },
    {
      "cell_type": "code",
      "source": [
        "xgb.plot_importance(best_xgb_classifier)"
      ],
      "metadata": {
        "colab": {
          "base_uri": "https://localhost:8080/",
          "height": 489
        },
        "id": "ce2FnBudnxkZ",
        "outputId": "f3f4ccce-f827-460e-ec36-7410558a78db"
      },
      "execution_count": 81,
      "outputs": [
        {
          "output_type": "execute_result",
          "data": {
            "text/plain": [
              "<Axes: title={'center': 'Feature importance'}, xlabel='F score', ylabel='Features'>"
            ]
          },
          "metadata": {},
          "execution_count": 81
        },
        {
          "output_type": "display_data",
          "data": {
            "text/plain": [
              "<Figure size 640x480 with 1 Axes>"
            ],
            "image/png": "[encoded data removed]"
          },
          "metadata": {}
        }
      ]
    },
    {
      "cell_type": "markdown",
      "source": [
        "**1.Your views about the problem statement?**\n",
        "\n",
        "The Daily Buzz.” has hired you as you are an ML expert and he wants to create an ML model to accurately predict the rainfall in Sydney.he have given the weather information of Sydney from 2008 to 2017\n",
        "\n",
        "Machine Learning Model using various Classification Models\n",
        "including Decision Trees and Ensemble methods, and compare the accuracy of each model.\n",
        "\n",
        "These models can use features such as MinTemp,MaxTemp,Rainfall,Evaporation,Sunshine,Humidity9am,Humidity3pm,Pressure 9am,Pressure 3pm,Cloud 9 Am,Cloud3pm,Temp 9am:Temperature (degrees C) at 9am,Temp3pm(Temperature (degrees C) at 3pm),\n",
        "RainToday\n",
        "\n",
        "use various methods and  one with the best accuracy for prediction.to use Ensemble methods to get the best accuracy.\n",
        "\n",
        "find the model which is give more accuracy."
      ],
      "metadata": {
        "id": "3HoPn_qmzzGR"
      }
    },
    {
      "cell_type": "markdown",
      "source": [
        "**2. What will be your approach to solving this task?**"
      ],
      "metadata": {
        "id": "ZvSsDbqJIafn"
      }
    },
    {
      "cell_type": "markdown",
      "source": [
        "The step by step approach to predict predict the rainfall :\n",
        "\n",
        "*   To upload the \"sydney csv\" file in google colab\n",
        "*   **Exploratory Data Analysis(EDA)**:\n",
        "Perform exploratory data analysis (EDA) to understand the data distribution, identify missing values, and detect any outliers Using .describe function.\n",
        "*   Visualize the data using graphs and plots to get insights.\n",
        "*  After the outliers treatment.\n",
        "* **Preprocess the Data:**\n",
        " Handle Missing Values: Fill with mean value.\n",
        "\n",
        "*   creating the dummy variables for RainToday,\tRainTomorrow\n",
        "*  **Split the Data:**\n",
        "Divide the data into training i.e x_train and testing i.e x_test sets (e.g., 80% training and 20% testing).\n",
        "\n",
        "\n",
        "*  to fit training and testing data into classification models.\n",
        "*   **Evaluate the Model:**\n",
        "Test the trained model on the testing dataset.\n",
        "Use evaluation metrics such as accuracy, precision, recall, F1-score, and ROC-AUC to assess the model’s performance.\n",
        "*  Improve the Model:\n",
        " Tuning hyperparameters further\n",
        "*finally evaluate the model's performance using metrics like accuracy score .\n",
        "\n",
        "\n",
        "\n",
        "\n",
        "\n",
        "\n",
        "\n",
        "\n",
        "\n",
        "\n",
        "\n",
        "\n",
        "\n"
      ],
      "metadata": {
        "id": "K755AB_CJDtt"
      }
    },
    {
      "cell_type": "markdown",
      "source": [
        "**3. What were the available ML model options you had to perform this task?**"
      ],
      "metadata": {
        "id": "TYZ7L1cNdmcn"
      }
    },
    {
      "cell_type": "markdown",
      "source": [
        "**The available ML model options include:**\n",
        "- Classification Decision Trees\n",
        "- Random Forest classification\n",
        "- Gradient Boosting classification\n",
        "- AdaBoost classification\n",
        "- XGBoost classification\n",
        "- Logistic Regression classification\n",
        "- K-Nearest Neighbors classification\n",
        "- Linear Discriminant Analysis"
      ],
      "metadata": {
        "id": "O0LG0IJRd9Ob"
      }
    },
    {
      "cell_type": "markdown",
      "source": [
        "**4. Which model’s performance is best and what could be the possible reason for that?**"
      ],
      "metadata": {
        "id": "dhuXOffJvsoC"
      }
    },
    {
      "cell_type": "markdown",
      "source": [
        "Model Performance Summary:\n",
        "1. Logistic Regression:\n",
        "\n",
        "Training Accuracy: 0.8389\n",
        "\n",
        "Testing Accuracy: 0.8263\n",
        "\n",
        "Testing Precision: 0.7361\n",
        "\n",
        "Testing Recall: 0.5761\n",
        "\n",
        "Testing ROC AUC: 0.7488\n",
        "\n",
        "2. Decision Tree:\n",
        "\n",
        "Training Accuracy: 0.8404\n",
        "\n",
        "Testing Accuracy: 0.8263\n",
        "\n",
        "Testing Precision: 0.8269\n",
        "\n",
        "Testing Recall: 0.4674\n",
        "\n",
        "Testing ROC AUC: 0.7151\n",
        "\n",
        "3. K-Nearest Neighbors (KNN):\n",
        "\n",
        "Training Accuracy: 0.8561\n",
        "\n",
        "Testing Accuracy: 0.7979\n",
        "\n",
        "Testing Precision: 0.6788\n",
        "\n",
        "Testing Recall: 0.5054\n",
        "\n",
        "Testing ROC AUC: 0.7073\n",
        "\n",
        "4. Linear Discriminant Analysis (LDA):\n",
        "\n",
        "Training Accuracy: 0.8344\n",
        "\n",
        "Testing Accuracy: 0.8219\n",
        "\n",
        "Testing Precision: 0.7152\n",
        "\n",
        "Testing Recall: 0.5870\n",
        "\n",
        "Testing ROC AUC: 0.7491\n",
        "\n",
        "5. Random Forest:\n",
        "\n",
        "Training Accuracy: 0.9138\n",
        "\n",
        "Testing Accuracy: 0.8234\n",
        "\n",
        "Testing Precision: 0.75\n",
        "\n",
        "Testing Recall: 0.5380\n",
        "\n",
        "Testing ROC AUC: 0.7349\n",
        "\n",
        "6. Gradient Boosting:\n",
        "\n",
        "Training Accuracy: 0.8771\n",
        "\n",
        "Testing Accuracy: 0.8219\n",
        "\n",
        "Testing Precision: 0.7407\n",
        "\n",
        "Testing Recall: 0.5435\n",
        "\n",
        "Testing ROC AUC: 0.7356\n",
        "\n",
        "7. AdaBoost:\n",
        "\n",
        "Training Accuracy: 0.8434\n",
        "\n",
        "Testing Accuracy: 0.8263\n",
        "\n",
        "Testing Precision: 0.8036\n",
        "\n",
        "Testing Recall: 0.4891\n",
        "\n",
        "Testing ROC AUC: 0.7218\n",
        "\n",
        "8. XGBoost:\n",
        "\n",
        "Training Accuracy: 0.8674\n",
        "\n",
        "Testing Accuracy: 0.8278\n",
        "\n",
        "Testing Precision: 0.7556\n",
        "\n",
        "Testing Recall: 0.5543\n",
        "\n",
        "Testing ROC AUC: 0.7431\n",
        "\n",
        "Based on the provided metrics, it appears that **XGBoost** Classifier performs the best on the test data, having the highest accuracy, precision, and ROC AUC score among all models.\n",
        "\n",
        "Based on the mean precision scores, the Random Forest model has the highest mean precision score of 0.8431. Therefore, the Random Forest model is the best model if we prioritize mean precision.\n",
        "\n",
        "With a testing ROC AUC score of 0.7431, XGBoost also shows good capability in distinguishing between classes.Although it does not have the highest mean precision compared to Random Forest."
      ],
      "metadata": {
        "id": "PV7M2zfbp73y"
      }
    },
    {
      "cell_type": "markdown",
      "source": [
        "**5. What steps can you take to improve this selected model’s performance even further?**"
      ],
      "metadata": {
        "id": "oF7tFrckv4a3"
      }
    },
    {
      "cell_type": "markdown",
      "source": [
        "To further enhance the performance of the selected model, I took the following steps:\n",
        "\n",
        "**GridSearchCV for Tree Regression, Bagging, Gradient Boosting, Random Forest, AdaBoost, XGBoost, Logistic Regression, and K-Nearest Neighbors:**\n",
        "\n",
        "- To optimize the performance of the Decision Tree Regression model, I utilized GridSearchCV. This technique systematically searched through a range of hyperparameters to identify the best combination that enhances model performance.\n",
        "\n",
        "- For the Bagging model, the best hyperparameter identified was 'n_estimators': 10, which fine-tunes the ensemble of decision trees.\n",
        "\n",
        "- For Gradient Boosting, the best hyperparameters included 'learning_rate': 0.1, 'max_depth': 5, 'min_samples_leaf': 1, 'min_samples_split': 5, and 'n_estimators': 50, significantly boosting predictive accuracy.\n",
        "\n",
        "- Random Forest was optimized with hyperparameters 'max_depth': 20, 'min_samples_leaf': 4, 'min_samples_split': 10, and 'n_estimators': 200, improving its performance.\n",
        "\n",
        "- AdaBoost's performance was enhanced by setting 'learning_rate': 0.1 and 'n_estimators': 200 as the best hyperparameters.\n",
        "\n",
        "- XGBoost achieved improved results with 'colsample_bytree': 1.0, 'learning_rate': 0.1, 'max_depth': 5, 'min_child_weight': 5, 'n_estimators': 50, and 'subsample': 0.8 as the best hyperparameters.\n",
        "\n",
        "- For Logistic Regression, the best hyperparameters included 'C': 0.001 and 'penalty': 'l2'.\n",
        "\n",
        "- K-Nearest Neighbors were optimized with 'n_neighbors': 7 as the best hyperparameter.\n",
        "\n",
        "These hyperparameters have been fine-tuned to improve the efficiency, accuracy, and robustness of each model."
      ],
      "metadata": {
        "id": "OFA8W-D9wDXm"
      }
    },
    {
      "cell_type": "code",
      "source": [],
      "metadata": {
        "id": "qUlI9LKlu4IJ"
      },
      "execution_count": null,
      "outputs": []
    }
  ]
}